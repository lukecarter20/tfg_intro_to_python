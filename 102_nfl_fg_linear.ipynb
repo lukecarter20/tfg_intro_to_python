{
 "cells": [
  {
   "cell_type": "markdown",
   "id": "316cee0a",
   "metadata": {},
   "source": [
    "# Applying a *linear* regression to NFL field goal data"
   ]
  },
  {
   "cell_type": "markdown",
   "id": "37804c64",
   "metadata": {},
   "source": [
    "### 0. Import required modules"
   ]
  },
  {
   "cell_type": "code",
   "execution_count": 285,
   "id": "8e97246f",
   "metadata": {},
   "outputs": [],
   "source": [
    "import pandas as pd #import pandas library for data manipulation (https://pandas.pydata.org/)\n",
    "import numpy as np #import the 'NumPy' module for scientific computing with Python (https://numpy.org/)\n",
    "import plotly.express as px\n",
    "import statistics as st\n",
    "import math"
   ]
  },
  {
   "cell_type": "code",
   "execution_count": 286,
   "id": "108dfc74",
   "metadata": {},
   "outputs": [],
   "source": [
    "%run -i 'SportsAnalytics.py' #source required functions for building a logistic regression and plotting the results"
   ]
  },
  {
   "cell_type": "markdown",
   "id": "40cb4afe",
   "metadata": {},
   "source": [
    "### 1. Read data as pandas dataframe\n",
    "*see [1. Reading in files using pandas (.csv, .xls, .json)](01_read_files.ipynb)*"
   ]
  },
  {
   "cell_type": "code",
   "execution_count": 287,
   "id": "6011474d",
   "metadata": {},
   "outputs": [
    {
     "data": {
      "text/html": [
       "<div>\n",
       "<style scoped>\n",
       "    .dataframe tbody tr th:only-of-type {\n",
       "        vertical-align: middle;\n",
       "    }\n",
       "\n",
       "    .dataframe tbody tr th {\n",
       "        vertical-align: top;\n",
       "    }\n",
       "\n",
       "    .dataframe thead th {\n",
       "        text-align: right;\n",
       "    }\n",
       "</style>\n",
       "<table border=\"1\" class=\"dataframe\">\n",
       "  <thead>\n",
       "    <tr style=\"text-align: right;\">\n",
       "      <th></th>\n",
       "      <th>gid</th>\n",
       "      <th>pid</th>\n",
       "      <th>fgxp</th>\n",
       "      <th>dist</th>\n",
       "      <th>make</th>\n",
       "      <th>season</th>\n",
       "      <th>postseason</th>\n",
       "      <th>away</th>\n",
       "      <th>stadium</th>\n",
       "      <th>temp</th>\n",
       "      <th>humidity</th>\n",
       "      <th>wind-spd</th>\n",
       "      <th>cond</th>\n",
       "      <th>surface</th>\n",
       "      <th>player id</th>\n",
       "      <th>player</th>\n",
       "      <th>make-prediction</th>\n",
       "      <th>make-vs-prediction</th>\n",
       "    </tr>\n",
       "  </thead>\n",
       "  <tbody>\n",
       "    <tr>\n",
       "      <th>0</th>\n",
       "      <td>3189</td>\n",
       "      <td>518667</td>\n",
       "      <td>FG</td>\n",
       "      <td>33</td>\n",
       "      <td>1</td>\n",
       "      <td>2012</td>\n",
       "      <td>0</td>\n",
       "      <td>1</td>\n",
       "      <td>MetLife Stadium</td>\n",
       "      <td>77</td>\n",
       "      <td>63</td>\n",
       "      <td>5</td>\n",
       "      <td>Fair</td>\n",
       "      <td>FieldTurf</td>\n",
       "      <td>DB-0200</td>\n",
       "      <td>Dan Bailey</td>\n",
       "      <td>0.94</td>\n",
       "      <td>0.06</td>\n",
       "    </tr>\n",
       "    <tr>\n",
       "      <th>1</th>\n",
       "      <td>3207</td>\n",
       "      <td>521630</td>\n",
       "      <td>FG</td>\n",
       "      <td>33</td>\n",
       "      <td>1</td>\n",
       "      <td>2012</td>\n",
       "      <td>0</td>\n",
       "      <td>1</td>\n",
       "      <td>Ralph Wilson Stadium</td>\n",
       "      <td>66</td>\n",
       "      <td>55</td>\n",
       "      <td>11</td>\n",
       "      <td>Mostly Sunny</td>\n",
       "      <td>A Turf Titan</td>\n",
       "      <td>RS-3400</td>\n",
       "      <td>Ryan Succop</td>\n",
       "      <td>0.94</td>\n",
       "      <td>0.06</td>\n",
       "    </tr>\n",
       "    <tr>\n",
       "      <th>2</th>\n",
       "      <td>3214</td>\n",
       "      <td>522794</td>\n",
       "      <td>FG</td>\n",
       "      <td>33</td>\n",
       "      <td>1</td>\n",
       "      <td>2012</td>\n",
       "      <td>0</td>\n",
       "      <td>0</td>\n",
       "      <td>Edward Jones Dome</td>\n",
       "      <td>-999</td>\n",
       "      <td>-999</td>\n",
       "      <td>-999</td>\n",
       "      <td>Dome</td>\n",
       "      <td>AstroTurf</td>\n",
       "      <td>GZ-2000</td>\n",
       "      <td>Greg Zuerlein</td>\n",
       "      <td>0.94</td>\n",
       "      <td>0.06</td>\n",
       "    </tr>\n",
       "    <tr>\n",
       "      <th>3</th>\n",
       "      <td>3226</td>\n",
       "      <td>524757</td>\n",
       "      <td>FG</td>\n",
       "      <td>33</td>\n",
       "      <td>1</td>\n",
       "      <td>2012</td>\n",
       "      <td>0</td>\n",
       "      <td>1</td>\n",
       "      <td>Sun Life Stadium</td>\n",
       "      <td>83</td>\n",
       "      <td>76</td>\n",
       "      <td>4</td>\n",
       "      <td>Mostly Cloudy</td>\n",
       "      <td>Grass</td>\n",
       "      <td>NF-0300</td>\n",
       "      <td>Nick Folk</td>\n",
       "      <td>0.94</td>\n",
       "      <td>0.06</td>\n",
       "    </tr>\n",
       "    <tr>\n",
       "      <th>4</th>\n",
       "      <td>3226</td>\n",
       "      <td>524888</td>\n",
       "      <td>FG</td>\n",
       "      <td>33</td>\n",
       "      <td>1</td>\n",
       "      <td>2012</td>\n",
       "      <td>0</td>\n",
       "      <td>1</td>\n",
       "      <td>Sun Life Stadium</td>\n",
       "      <td>83</td>\n",
       "      <td>76</td>\n",
       "      <td>4</td>\n",
       "      <td>Mostly Cloudy</td>\n",
       "      <td>Grass</td>\n",
       "      <td>NF-0300</td>\n",
       "      <td>Nick Folk</td>\n",
       "      <td>0.94</td>\n",
       "      <td>0.06</td>\n",
       "    </tr>\n",
       "  </tbody>\n",
       "</table>\n",
       "</div>"
      ],
      "text/plain": [
       "    gid     pid fgxp  dist  make  season  postseason  away  \\\n",
       "0  3189  518667   FG    33     1    2012           0     1   \n",
       "1  3207  521630   FG    33     1    2012           0     1   \n",
       "2  3214  522794   FG    33     1    2012           0     0   \n",
       "3  3226  524757   FG    33     1    2012           0     1   \n",
       "4  3226  524888   FG    33     1    2012           0     1   \n",
       "\n",
       "                stadium  temp  humidity  wind-spd           cond  \\\n",
       "0       MetLife Stadium    77        63         5           Fair   \n",
       "1  Ralph Wilson Stadium    66        55        11   Mostly Sunny   \n",
       "2     Edward Jones Dome  -999      -999      -999           Dome   \n",
       "3      Sun Life Stadium    83        76         4  Mostly Cloudy   \n",
       "4      Sun Life Stadium    83        76         4  Mostly Cloudy   \n",
       "\n",
       "        surface player id         player  make-prediction  make-vs-prediction  \n",
       "0     FieldTurf   DB-0200     Dan Bailey             0.94                0.06  \n",
       "1  A Turf Titan   RS-3400    Ryan Succop             0.94                0.06  \n",
       "2     AstroTurf   GZ-2000  Greg Zuerlein             0.94                0.06  \n",
       "3         Grass   NF-0300      Nick Folk             0.94                0.06  \n",
       "4         Grass   NF-0300      Nick Folk             0.94                0.06  "
      ]
     },
     "execution_count": 287,
     "metadata": {},
     "output_type": "execute_result"
    }
   ],
   "source": [
    "fg_df = pd.read_excel('field_goal_predict_df.xlsx', index_col=0) #read in 'field_goal_predict_df.xlsx' file using pandas read_excel function as new dataframe 'field_goal_predict_df'\n",
    "fg_df.head() #display the head (first 5 rows) of field_goal_predict_df"
   ]
  },
  {
   "cell_type": "markdown",
   "id": "63485740",
   "metadata": {},
   "source": [
    "### 2. Split data into train and test dataframes\n",
    "*see section 5 in [3. Manipulating pandas dataframes](03_manipulate_data.ipynb)*"
   ]
  },
  {
   "cell_type": "code",
   "execution_count": 288,
   "id": "970aae48",
   "metadata": {},
   "outputs": [],
   "source": [
    "#--- subset data into train and test dataframes by season < 2016\n",
    "fg_train_df = fg_df[fg_df['season'] < 2016]\n",
    "fg_test_df = fg_df[fg_df['season'] >= 2016]"
   ]
  },
  {
   "cell_type": "markdown",
   "id": "86e22970",
   "metadata": {},
   "source": [
    "### 3. Reformatting pandas dataframe for linear regression\n",
    "*see section 5 in [3. Manipulating pandas dataframes](03_manipulate_data.ipynb)*"
   ]
  },
  {
   "cell_type": "code",
   "execution_count": 289,
   "id": "8db27613",
   "metadata": {},
   "outputs": [
    {
     "data": {
      "text/html": [
       "<div>\n",
       "<style scoped>\n",
       "    .dataframe tbody tr th:only-of-type {\n",
       "        vertical-align: middle;\n",
       "    }\n",
       "\n",
       "    .dataframe tbody tr th {\n",
       "        vertical-align: top;\n",
       "    }\n",
       "\n",
       "    .dataframe thead th {\n",
       "        text-align: right;\n",
       "    }\n",
       "</style>\n",
       "<table border=\"1\" class=\"dataframe\">\n",
       "  <thead>\n",
       "    <tr style=\"text-align: right;\">\n",
       "      <th></th>\n",
       "      <th>gid</th>\n",
       "      <th>pid</th>\n",
       "      <th>fgxp</th>\n",
       "      <th>dist</th>\n",
       "      <th>make</th>\n",
       "      <th>season</th>\n",
       "      <th>postseason</th>\n",
       "      <th>away</th>\n",
       "      <th>stadium</th>\n",
       "      <th>temp</th>\n",
       "      <th>humidity</th>\n",
       "      <th>wind-spd</th>\n",
       "      <th>cond</th>\n",
       "      <th>surface</th>\n",
       "      <th>player id</th>\n",
       "      <th>player</th>\n",
       "      <th>make-prediction</th>\n",
       "      <th>make-vs-prediction</th>\n",
       "    </tr>\n",
       "  </thead>\n",
       "  <tbody>\n",
       "    <tr>\n",
       "      <th>0</th>\n",
       "      <td>3189</td>\n",
       "      <td>518667</td>\n",
       "      <td>FG</td>\n",
       "      <td>33</td>\n",
       "      <td>1</td>\n",
       "      <td>2012</td>\n",
       "      <td>0</td>\n",
       "      <td>1</td>\n",
       "      <td>MetLife Stadium</td>\n",
       "      <td>77</td>\n",
       "      <td>63</td>\n",
       "      <td>5</td>\n",
       "      <td>Fair</td>\n",
       "      <td>FieldTurf</td>\n",
       "      <td>DB-0200</td>\n",
       "      <td>Dan Bailey</td>\n",
       "      <td>0.94</td>\n",
       "      <td>0.06</td>\n",
       "    </tr>\n",
       "    <tr>\n",
       "      <th>1</th>\n",
       "      <td>3207</td>\n",
       "      <td>521630</td>\n",
       "      <td>FG</td>\n",
       "      <td>33</td>\n",
       "      <td>1</td>\n",
       "      <td>2012</td>\n",
       "      <td>0</td>\n",
       "      <td>1</td>\n",
       "      <td>Ralph Wilson Stadium</td>\n",
       "      <td>66</td>\n",
       "      <td>55</td>\n",
       "      <td>11</td>\n",
       "      <td>Mostly Sunny</td>\n",
       "      <td>A Turf Titan</td>\n",
       "      <td>RS-3400</td>\n",
       "      <td>Ryan Succop</td>\n",
       "      <td>0.94</td>\n",
       "      <td>0.06</td>\n",
       "    </tr>\n",
       "    <tr>\n",
       "      <th>3</th>\n",
       "      <td>3226</td>\n",
       "      <td>524757</td>\n",
       "      <td>FG</td>\n",
       "      <td>33</td>\n",
       "      <td>1</td>\n",
       "      <td>2012</td>\n",
       "      <td>0</td>\n",
       "      <td>1</td>\n",
       "      <td>Sun Life Stadium</td>\n",
       "      <td>83</td>\n",
       "      <td>76</td>\n",
       "      <td>4</td>\n",
       "      <td>Mostly Cloudy</td>\n",
       "      <td>Grass</td>\n",
       "      <td>NF-0300</td>\n",
       "      <td>Nick Folk</td>\n",
       "      <td>0.94</td>\n",
       "      <td>0.06</td>\n",
       "    </tr>\n",
       "    <tr>\n",
       "      <th>4</th>\n",
       "      <td>3226</td>\n",
       "      <td>524888</td>\n",
       "      <td>FG</td>\n",
       "      <td>33</td>\n",
       "      <td>1</td>\n",
       "      <td>2012</td>\n",
       "      <td>0</td>\n",
       "      <td>1</td>\n",
       "      <td>Sun Life Stadium</td>\n",
       "      <td>83</td>\n",
       "      <td>76</td>\n",
       "      <td>4</td>\n",
       "      <td>Mostly Cloudy</td>\n",
       "      <td>Grass</td>\n",
       "      <td>NF-0300</td>\n",
       "      <td>Nick Folk</td>\n",
       "      <td>0.94</td>\n",
       "      <td>0.06</td>\n",
       "    </tr>\n",
       "    <tr>\n",
       "      <th>6</th>\n",
       "      <td>3290</td>\n",
       "      <td>535594</td>\n",
       "      <td>FG</td>\n",
       "      <td>33</td>\n",
       "      <td>1</td>\n",
       "      <td>2012</td>\n",
       "      <td>0</td>\n",
       "      <td>0</td>\n",
       "      <td>Oakland-Alameda County Coliseum</td>\n",
       "      <td>62</td>\n",
       "      <td>49</td>\n",
       "      <td>11</td>\n",
       "      <td>Partly Cloudy</td>\n",
       "      <td>Grass</td>\n",
       "      <td>SJ-0300</td>\n",
       "      <td>Sebastian Janikowski</td>\n",
       "      <td>0.94</td>\n",
       "      <td>0.06</td>\n",
       "    </tr>\n",
       "  </tbody>\n",
       "</table>\n",
       "</div>"
      ],
      "text/plain": [
       "    gid     pid fgxp  dist  make  season  postseason  away  \\\n",
       "0  3189  518667   FG    33     1    2012           0     1   \n",
       "1  3207  521630   FG    33     1    2012           0     1   \n",
       "3  3226  524757   FG    33     1    2012           0     1   \n",
       "4  3226  524888   FG    33     1    2012           0     1   \n",
       "6  3290  535594   FG    33     1    2012           0     0   \n",
       "\n",
       "                           stadium  temp  humidity  wind-spd           cond  \\\n",
       "0                  MetLife Stadium    77        63         5           Fair   \n",
       "1             Ralph Wilson Stadium    66        55        11   Mostly Sunny   \n",
       "3                 Sun Life Stadium    83        76         4  Mostly Cloudy   \n",
       "4                 Sun Life Stadium    83        76         4  Mostly Cloudy   \n",
       "6  Oakland-Alameda County Coliseum    62        49        11  Partly Cloudy   \n",
       "\n",
       "        surface player id                player  make-prediction  \\\n",
       "0     FieldTurf   DB-0200            Dan Bailey             0.94   \n",
       "1  A Turf Titan   RS-3400           Ryan Succop             0.94   \n",
       "3         Grass   NF-0300             Nick Folk             0.94   \n",
       "4         Grass   NF-0300             Nick Folk             0.94   \n",
       "6         Grass   SJ-0300  Sebastian Janikowski             0.94   \n",
       "\n",
       "   make-vs-prediction  \n",
       "0                0.06  \n",
       "1                0.06  \n",
       "3                0.06  \n",
       "4                0.06  \n",
       "6                0.06  "
      ]
     },
     "execution_count": 289,
     "metadata": {},
     "output_type": "execute_result"
    }
   ],
   "source": [
    "#--- remove rows where wind speed is NULL (-999)\n",
    "fg_train_linear_df = fg_train_df[fg_train_df['wind-spd'] > -999]\n",
    "fg_train_linear_df.head()"
   ]
  },
  {
   "cell_type": "markdown",
   "id": "1100f484",
   "metadata": {},
   "source": [
    "### 4. Fitting a linear regression\n",
    "*see [5. Modelling data using linear regression](05_linear_regression.ipynb)* "
   ]
  },
  {
   "cell_type": "code",
   "execution_count": 290,
   "id": "5423c2b7",
   "metadata": {},
   "outputs": [
    {
     "name": "stdout",
     "output_type": "stream",
     "text": [
      "                     const wind-spd\n",
      "make-vs-prediction                 \n",
      "Coefficients          0.02    -0.00\n",
      "Std error             0.01     0.00\n",
      "p-value               0.13     0.03\n",
      "Log-likelihood     -722.91         \n",
      "Number valid obs   2387.00         \n",
      "Total obs          2389.00         \n"
     ]
    }
   ],
   "source": [
    "#--- Use the LinearRegTrain() function from 'SportsAnalytics.py' to build a logistic regression model\n",
    "model = LinearRegTrain(X = fg_train_linear_df['wind-spd'], Y = fg_train_linear_df['make-vs-prediction'])"
   ]
  },
  {
   "cell_type": "code",
   "execution_count": 291,
   "id": "9d61d5da",
   "metadata": {},
   "outputs": [
    {
     "data": {
      "text/html": [
       "<div>\n",
       "<style scoped>\n",
       "    .dataframe tbody tr th:only-of-type {\n",
       "        vertical-align: middle;\n",
       "    }\n",
       "\n",
       "    .dataframe tbody tr th {\n",
       "        vertical-align: top;\n",
       "    }\n",
       "\n",
       "    .dataframe thead th {\n",
       "        text-align: right;\n",
       "    }\n",
       "</style>\n",
       "<table border=\"1\" class=\"dataframe\">\n",
       "  <thead>\n",
       "    <tr style=\"text-align: right;\">\n",
       "      <th></th>\n",
       "      <th>Bins</th>\n",
       "      <th>Count</th>\n",
       "      <th>Avg wind-spd</th>\n",
       "      <th>Avg make-vs-prediction</th>\n",
       "      <th>Stderr make-vs-prediction</th>\n",
       "    </tr>\n",
       "  </thead>\n",
       "  <tbody>\n",
       "    <tr>\n",
       "      <th>0</th>\n",
       "      <td>[0,1)</td>\n",
       "      <td>88</td>\n",
       "      <td>0.00</td>\n",
       "      <td>0.04</td>\n",
       "      <td>0.06</td>\n",
       "    </tr>\n",
       "    <tr>\n",
       "      <th>1</th>\n",
       "      <td>[1,2)</td>\n",
       "      <td>45</td>\n",
       "      <td>1.00</td>\n",
       "      <td>0.07</td>\n",
       "      <td>0.07</td>\n",
       "    </tr>\n",
       "    <tr>\n",
       "      <th>2</th>\n",
       "      <td>[2,3)</td>\n",
       "      <td>91</td>\n",
       "      <td>2.00</td>\n",
       "      <td>0.03</td>\n",
       "      <td>0.06</td>\n",
       "    </tr>\n",
       "    <tr>\n",
       "      <th>3</th>\n",
       "      <td>[3,4)</td>\n",
       "      <td>111</td>\n",
       "      <td>3.00</td>\n",
       "      <td>0.02</td>\n",
       "      <td>0.05</td>\n",
       "    </tr>\n",
       "    <tr>\n",
       "      <th>4</th>\n",
       "      <td>[4,5)</td>\n",
       "      <td>142</td>\n",
       "      <td>4.00</td>\n",
       "      <td>-0.01</td>\n",
       "      <td>0.05</td>\n",
       "    </tr>\n",
       "  </tbody>\n",
       "</table>\n",
       "</div>"
      ],
      "text/plain": [
       "    Bins  Count  Avg wind-spd  Avg make-vs-prediction  \\\n",
       "0  [0,1)     88          0.00                    0.04   \n",
       "1  [1,2)     45          1.00                    0.07   \n",
       "2  [2,3)     91          2.00                    0.03   \n",
       "3  [3,4)    111          3.00                    0.02   \n",
       "4  [4,5)    142          4.00                   -0.01   \n",
       "\n",
       "   Stderr make-vs-prediction  \n",
       "0                       0.06  \n",
       "1                       0.07  \n",
       "2                       0.06  \n",
       "3                       0.05  \n",
       "4                       0.05  "
      ]
     },
     "execution_count": 291,
     "metadata": {},
     "output_type": "execute_result"
    }
   ],
   "source": [
    "#--- Find the min and max values of x\n",
    "min_x = min(fg_train_linear_df['wind-spd'])\n",
    "max_x = max(fg_train_linear_df['wind-spd'])\n",
    "\n",
    "#--- Use the Binned_stats() function from 'SportsAnalytics.py' to aggregate y for buckets/bins of x\n",
    "binned_stats = Binned_stats(\n",
    "    buckets = range(min_x, max_x), \n",
    "    col1 = fg_train_linear_df['wind-spd'], \n",
    "    col2 = fg_train_linear_df['make-vs-prediction'])\n",
    "binned_stats.head()"
   ]
  },
  {
   "cell_type": "markdown",
   "id": "09c278f2",
   "metadata": {},
   "source": [
    "### 5. Plotting the linear regression"
   ]
  },
  {
   "cell_type": "code",
   "execution_count": 292,
   "id": "64820134",
   "metadata": {},
   "outputs": [
    {
     "data": {
      "image/png": "[encoded data removed]",
      "text/plain": [
       "<Figure size 720x576 with 1 Axes>"
      ]
     },
     "execution_count": 292,
     "metadata": {},
     "output_type": "execute_result"
    }
   ],
   "source": [
    "#--- Use the Graph_Binned_stats() function from 'SportsAnalytics.py' to plot binned stats\n",
    "Graph_Binned_stats(binned_stats)"
   ]
  },
  {
   "cell_type": "code",
   "execution_count": 293,
   "id": "4073eb0f",
   "metadata": {},
   "outputs": [],
   "source": [
    "#--- Use the LinearRegPredict() function from 'SportsAnalytics.py' to predict values of y with known values of x\n",
    "model_predict = LinearRegPredict(model, X = range(min_x, max_x+1))"
   ]
  },
  {
   "cell_type": "code",
   "execution_count": 294,
   "id": "3f218a5c",
   "metadata": {
    "scrolled": true
   },
   "outputs": [
    {
     "data": {
      "image/png": "[encoded data removed]",
      "text/plain": [
       "<Figure size 720x576 with 1 Axes>"
      ]
     },
     "execution_count": 294,
     "metadata": {},
     "output_type": "execute_result"
    }
   ],
   "source": [
    "#--- Use the Graph_Binned_stats_with_prediction() function from 'SportsAnalytics.py' to plot binned stats with an overlay of the logistic model\n",
    "Graph_Binned_stats_with_prediction(\n",
    "    binned_stats, \n",
    "    lineX = model_predict['wind-spd'], \n",
    "    lineY = model_predict['prediction'], \n",
    "    linestyle = 1,\n",
    "    ylims = [-0.4, 0.4])"
   ]
  },
  {
   "cell_type": "markdown",
   "id": "89fc7a14",
   "metadata": {},
   "source": [
    "### 6. Model validation with test dataset"
   ]
  },
  {
   "cell_type": "code",
   "execution_count": 295,
   "id": "6ebab28f",
   "metadata": {},
   "outputs": [],
   "source": [
    "#--- create df for continuous linear predictions \n",
    "fg_test_linear_df = pd.merge(\n",
    "    fg_test_df, \n",
    "    model_predict.rename(columns={'prediction':'wind-make-adjustment'}), \n",
    "    on='wind-spd')\n",
    "fg_test_linear_df['model'] = 'linear'"
   ]
  },
  {
   "cell_type": "code",
   "execution_count": 296,
   "id": "7bb9679d",
   "metadata": {},
   "outputs": [],
   "source": [
    "#--- create df for standard baseline predictions\n",
    "fg_test_baseline_df = fg_test_df.copy()\n",
    "fg_test_baseline_df['wind-make-adjustment'] = 0\n",
    "fg_test_baseline_df['model'] = 'no model'"
   ]
  },
  {
   "cell_type": "code",
   "execution_count": 297,
   "id": "e42ad005",
   "metadata": {},
   "outputs": [],
   "source": [
    "#--- bind the 5 varied model predictions togteher \n",
    "all_models = pd.concat([fg_test_linear_df, fg_test_baseline_df])\n",
    "\n",
    "#create erorr variable for each prediction (actual-prediction)\n",
    "all_models['error'] = all_models['make']-(all_models['make-prediction']+all_models['wind-make-adjustment'])"
   ]
  },
  {
   "cell_type": "code",
   "execution_count": 298,
   "id": "e8cf7527",
   "metadata": {},
   "outputs": [],
   "source": [
    "#--- create functions for MAE, MSE and RMSE validation metrics\n",
    "def mae(x):\n",
    "    res = abs(x).mean() \n",
    "    return res\n",
    "\n",
    "def mse(x):\n",
    "    res = np.square(x).mean() \n",
    "    return res\n",
    "    \n",
    "def rmse(x):\n",
    "    res = math.sqrt(np.square(x).mean())\n",
    "    return res\n",
    "\n",
    "def mean_perc(x):\n",
    "    res = x.mean()*100\n",
    "    return res"
   ]
  },
  {
   "cell_type": "code",
   "execution_count": 299,
   "id": "35dbfaeb",
   "metadata": {},
   "outputs": [
    {
     "data": {
      "text/html": [
       "<div>\n",
       "<style scoped>\n",
       "    .dataframe tbody tr th:only-of-type {\n",
       "        vertical-align: middle;\n",
       "    }\n",
       "\n",
       "    .dataframe tbody tr th {\n",
       "        vertical-align: top;\n",
       "    }\n",
       "\n",
       "    .dataframe thead th {\n",
       "        text-align: right;\n",
       "    }\n",
       "</style>\n",
       "<table border=\"1\" class=\"dataframe\">\n",
       "  <thead>\n",
       "    <tr style=\"text-align: right;\">\n",
       "      <th></th>\n",
       "      <th>model</th>\n",
       "      <th>me</th>\n",
       "      <th>mae</th>\n",
       "      <th>mse</th>\n",
       "      <th>rmse</th>\n",
       "    </tr>\n",
       "  </thead>\n",
       "  <tbody>\n",
       "    <tr>\n",
       "      <th>0</th>\n",
       "      <td>linear</td>\n",
       "      <td>-0.01</td>\n",
       "      <td>0.21</td>\n",
       "      <td>0.10</td>\n",
       "      <td>0.32</td>\n",
       "    </tr>\n",
       "    <tr>\n",
       "      <th>1</th>\n",
       "      <td>no model</td>\n",
       "      <td>-0.00</td>\n",
       "      <td>0.21</td>\n",
       "      <td>0.11</td>\n",
       "      <td>0.33</td>\n",
       "    </tr>\n",
       "  </tbody>\n",
       "</table>\n",
       "</div>"
      ],
      "text/plain": [
       "      model    me  mae  mse  rmse\n",
       "0    linear -0.01 0.21 0.10  0.32\n",
       "1  no model -0.00 0.21 0.11  0.33"
      ]
     },
     "execution_count": 299,
     "metadata": {},
     "output_type": "execute_result"
    }
   ],
   "source": [
    "#--- apply model validation functions to each model \n",
    "model_results = (\n",
    "    all_models.groupby(['model'], as_index=False)\n",
    "    .agg(\n",
    "        # Get mean erorr for each model type\n",
    "        me = pd.NamedAgg(column = 'error', aggfunc = 'mean'),\n",
    "        # Get mean abs erorr for each model type\n",
    "        mae = pd.NamedAgg(column = 'error', aggfunc = mae),\n",
    "        # Get mean square erorr for each model type\n",
    "        mse = pd.NamedAgg(column = 'error', aggfunc = mse),\n",
    "        # Get mean square erorr for each model type\n",
    "        rmse = pd.NamedAgg(column = 'error', aggfunc = rmse)\n",
    "    )\n",
    "    .sort_values('rmse', ascending=True))\n",
    "\n",
    "model_results"
   ]
  },
  {
   "cell_type": "markdown",
   "id": "926040f4",
   "metadata": {},
   "source": [
    "#### Results of model validation...  \n",
    "This result tells us that the linear model predictions have an average absolute erorr of 21% from the actual results.  \n",
    "This is the same mean absolute error (to 2 decimal places) as having no model.  \n",
    "BUT there is value of having the linear model when you look at the mean-square-error and root-mean-square-error which is 1% closer to actual results than the no model predictions. "
   ]
  },
  {
   "cell_type": "markdown",
   "id": "261289c9",
   "metadata": {},
   "source": [
    "### 7. Apply logistic regression to orginal dataset \n",
    "*see section 4 in [3. Manipulating pandas dataframes](03_manipulate_data.ipynb)*"
   ]
  },
  {
   "cell_type": "code",
   "execution_count": 300,
   "id": "981d8b69",
   "metadata": {},
   "outputs": [
    {
     "data": {
      "text/html": [
       "<div>\n",
       "<style scoped>\n",
       "    .dataframe tbody tr th:only-of-type {\n",
       "        vertical-align: middle;\n",
       "    }\n",
       "\n",
       "    .dataframe tbody tr th {\n",
       "        vertical-align: top;\n",
       "    }\n",
       "\n",
       "    .dataframe thead th {\n",
       "        text-align: right;\n",
       "    }\n",
       "</style>\n",
       "<table border=\"1\" class=\"dataframe\">\n",
       "  <thead>\n",
       "    <tr style=\"text-align: right;\">\n",
       "      <th></th>\n",
       "      <th>gid</th>\n",
       "      <th>pid</th>\n",
       "      <th>fgxp</th>\n",
       "      <th>dist</th>\n",
       "      <th>make</th>\n",
       "      <th>season</th>\n",
       "      <th>postseason</th>\n",
       "      <th>away</th>\n",
       "      <th>stadium</th>\n",
       "      <th>temp</th>\n",
       "      <th>humidity</th>\n",
       "      <th>wind-spd</th>\n",
       "      <th>cond</th>\n",
       "      <th>surface</th>\n",
       "      <th>player id</th>\n",
       "      <th>player</th>\n",
       "      <th>make-prediction</th>\n",
       "      <th>make-vs-prediction</th>\n",
       "      <th>make-vs-prediction-adjustment</th>\n",
       "      <th>new-make-vs-prediction</th>\n",
       "    </tr>\n",
       "  </thead>\n",
       "  <tbody>\n",
       "    <tr>\n",
       "      <th>0</th>\n",
       "      <td>3189</td>\n",
       "      <td>518667</td>\n",
       "      <td>FG</td>\n",
       "      <td>33</td>\n",
       "      <td>1</td>\n",
       "      <td>2012</td>\n",
       "      <td>0</td>\n",
       "      <td>1</td>\n",
       "      <td>MetLife Stadium</td>\n",
       "      <td>77</td>\n",
       "      <td>63</td>\n",
       "      <td>5</td>\n",
       "      <td>Fair</td>\n",
       "      <td>FieldTurf</td>\n",
       "      <td>DB-0200</td>\n",
       "      <td>Dan Bailey</td>\n",
       "      <td>0.94</td>\n",
       "      <td>0.06</td>\n",
       "      <td>0.01</td>\n",
       "      <td>0.05</td>\n",
       "    </tr>\n",
       "    <tr>\n",
       "      <th>1</th>\n",
       "      <td>3305</td>\n",
       "      <td>538094</td>\n",
       "      <td>FG</td>\n",
       "      <td>33</td>\n",
       "      <td>1</td>\n",
       "      <td>2012</td>\n",
       "      <td>0</td>\n",
       "      <td>0</td>\n",
       "      <td>Sports Authority Field at Mile High</td>\n",
       "      <td>59</td>\n",
       "      <td>30</td>\n",
       "      <td>5</td>\n",
       "      <td>Partly Cloudy</td>\n",
       "      <td>Grass</td>\n",
       "      <td>MP-2100</td>\n",
       "      <td>Matt Prater</td>\n",
       "      <td>0.94</td>\n",
       "      <td>0.06</td>\n",
       "      <td>0.01</td>\n",
       "      <td>0.05</td>\n",
       "    </tr>\n",
       "    <tr>\n",
       "      <th>2</th>\n",
       "      <td>3305</td>\n",
       "      <td>538156</td>\n",
       "      <td>FG</td>\n",
       "      <td>33</td>\n",
       "      <td>1</td>\n",
       "      <td>2012</td>\n",
       "      <td>0</td>\n",
       "      <td>0</td>\n",
       "      <td>Sports Authority Field at Mile High</td>\n",
       "      <td>59</td>\n",
       "      <td>30</td>\n",
       "      <td>5</td>\n",
       "      <td>Partly Cloudy</td>\n",
       "      <td>Grass</td>\n",
       "      <td>MP-2100</td>\n",
       "      <td>Matt Prater</td>\n",
       "      <td>0.94</td>\n",
       "      <td>0.06</td>\n",
       "      <td>0.01</td>\n",
       "      <td>0.05</td>\n",
       "    </tr>\n",
       "    <tr>\n",
       "      <th>3</th>\n",
       "      <td>3649</td>\n",
       "      <td>595881</td>\n",
       "      <td>FG</td>\n",
       "      <td>33</td>\n",
       "      <td>1</td>\n",
       "      <td>2013</td>\n",
       "      <td>0</td>\n",
       "      <td>0</td>\n",
       "      <td>Gillette Stadium</td>\n",
       "      <td>30</td>\n",
       "      <td>46</td>\n",
       "      <td>5</td>\n",
       "      <td>Cloudy</td>\n",
       "      <td>FieldTurf</td>\n",
       "      <td>SG-0800</td>\n",
       "      <td>Stephen Gostkowski</td>\n",
       "      <td>0.94</td>\n",
       "      <td>0.06</td>\n",
       "      <td>0.01</td>\n",
       "      <td>0.05</td>\n",
       "    </tr>\n",
       "    <tr>\n",
       "      <th>4</th>\n",
       "      <td>3862</td>\n",
       "      <td>631421</td>\n",
       "      <td>FG</td>\n",
       "      <td>33</td>\n",
       "      <td>1</td>\n",
       "      <td>2014</td>\n",
       "      <td>0</td>\n",
       "      <td>1</td>\n",
       "      <td>Raymond James Stadium</td>\n",
       "      <td>64</td>\n",
       "      <td>73</td>\n",
       "      <td>5</td>\n",
       "      <td>Cloudy</td>\n",
       "      <td>Grass</td>\n",
       "      <td>MB-4600</td>\n",
       "      <td>Matt Bryant</td>\n",
       "      <td>0.94</td>\n",
       "      <td>0.06</td>\n",
       "      <td>0.01</td>\n",
       "      <td>0.05</td>\n",
       "    </tr>\n",
       "  </tbody>\n",
       "</table>\n",
       "</div>"
      ],
      "text/plain": [
       "    gid     pid fgxp  dist  make  season  postseason  away  \\\n",
       "0  3189  518667   FG    33     1    2012           0     1   \n",
       "1  3305  538094   FG    33     1    2012           0     0   \n",
       "2  3305  538156   FG    33     1    2012           0     0   \n",
       "3  3649  595881   FG    33     1    2013           0     0   \n",
       "4  3862  631421   FG    33     1    2014           0     1   \n",
       "\n",
       "                               stadium  temp  humidity  wind-spd  \\\n",
       "0                      MetLife Stadium    77        63         5   \n",
       "1  Sports Authority Field at Mile High    59        30         5   \n",
       "2  Sports Authority Field at Mile High    59        30         5   \n",
       "3                     Gillette Stadium    30        46         5   \n",
       "4                Raymond James Stadium    64        73         5   \n",
       "\n",
       "            cond    surface player id              player  make-prediction  \\\n",
       "0           Fair  FieldTurf   DB-0200          Dan Bailey             0.94   \n",
       "1  Partly Cloudy      Grass   MP-2100         Matt Prater             0.94   \n",
       "2  Partly Cloudy      Grass   MP-2100         Matt Prater             0.94   \n",
       "3         Cloudy  FieldTurf   SG-0800  Stephen Gostkowski             0.94   \n",
       "4         Cloudy      Grass   MB-4600         Matt Bryant             0.94   \n",
       "\n",
       "   make-vs-prediction  make-vs-prediction-adjustment  new-make-vs-prediction  \n",
       "0                0.06                           0.01                    0.05  \n",
       "1                0.06                           0.01                    0.05  \n",
       "2                0.06                           0.01                    0.05  \n",
       "3                0.06                           0.01                    0.05  \n",
       "4                0.06                           0.01                    0.05  "
      ]
     },
     "execution_count": 300,
     "metadata": {},
     "output_type": "execute_result"
    }
   ],
   "source": [
    "fg_predict_adj_df = fg_df.merge(model_predict.rename(columns={'prediction':'make-vs-prediction-adjustment'}), on='wind-spd')\n",
    "fg_predict_adj_df['new-make-vs-prediction'] = fg_predict_adj_df['make-vs-prediction']-fg_predict_adj_df['make-vs-prediction-adjustment']\n",
    "fg_predict_adj_df.head()"
   ]
  },
  {
   "cell_type": "markdown",
   "id": "f41a37be",
   "metadata": {},
   "source": [
    "### 8. Aggregate results of linear regression predictions\n",
    "\n",
    "In this section we are going to take the application of the logisitic regression model and use it to answer a number of questions...  \n",
    "1. Who are the best and worst kickers? \n",
    "2. Which kicker has had the most successful season?\n",
    "3. Which stadium is the toughest to kick a field goal in? \n",
    "4. Which surfaces are the easiest and toughest to kick a field goal on?\n",
    "5. Does home advantage exist for kicking field goals?  \n",
    "\n",
    "*see section 9 in [3. Manipulating pandas dataframes](03_manipulate_data.ipynb)*"
   ]
  },
  {
   "cell_type": "code",
   "execution_count": 301,
   "id": "34f81353",
   "metadata": {},
   "outputs": [
    {
     "data": {
      "text/html": [
       "<div>\n",
       "<style scoped>\n",
       "    .dataframe tbody tr th:only-of-type {\n",
       "        vertical-align: middle;\n",
       "    }\n",
       "\n",
       "    .dataframe tbody tr th {\n",
       "        vertical-align: top;\n",
       "    }\n",
       "\n",
       "    .dataframe thead th {\n",
       "        text-align: right;\n",
       "    }\n",
       "</style>\n",
       "<table border=\"1\" class=\"dataframe\">\n",
       "  <thead>\n",
       "    <tr style=\"text-align: right;\">\n",
       "      <th></th>\n",
       "      <th>player</th>\n",
       "      <th>player id</th>\n",
       "      <th>total_fg</th>\n",
       "      <th>predicted_successful_fg</th>\n",
       "      <th>successful_fg</th>\n",
       "      <th>vs_prediction_fg</th>\n",
       "    </tr>\n",
       "  </thead>\n",
       "  <tbody>\n",
       "    <tr>\n",
       "      <th>17</th>\n",
       "      <td>Justin Tucker</td>\n",
       "      <td>JT-3950</td>\n",
       "      <td>178</td>\n",
       "      <td>150.77</td>\n",
       "      <td>159</td>\n",
       "      <td>8.23</td>\n",
       "    </tr>\n",
       "    <tr>\n",
       "      <th>31</th>\n",
       "      <td>Steven Hauschka</td>\n",
       "      <td>SH-0400</td>\n",
       "      <td>140</td>\n",
       "      <td>124.25</td>\n",
       "      <td>131</td>\n",
       "      <td>6.75</td>\n",
       "    </tr>\n",
       "    <tr>\n",
       "      <th>25</th>\n",
       "      <td>Phil Dawson</td>\n",
       "      <td>PD-0200</td>\n",
       "      <td>132</td>\n",
       "      <td>114.87</td>\n",
       "      <td>120</td>\n",
       "      <td>5.13</td>\n",
       "    </tr>\n",
       "    <tr>\n",
       "      <th>15</th>\n",
       "      <td>Josh Brown</td>\n",
       "      <td>JB-7100</td>\n",
       "      <td>94</td>\n",
       "      <td>83.03</td>\n",
       "      <td>87</td>\n",
       "      <td>3.97</td>\n",
       "    </tr>\n",
       "    <tr>\n",
       "      <th>30</th>\n",
       "      <td>Stephen Gostkowski</td>\n",
       "      <td>SG-0800</td>\n",
       "      <td>174</td>\n",
       "      <td>152.66</td>\n",
       "      <td>156</td>\n",
       "      <td>3.34</td>\n",
       "    </tr>\n",
       "  </tbody>\n",
       "</table>\n",
       "</div>"
      ],
      "text/plain": [
       "                player player id  total_fg  predicted_successful_fg  \\\n",
       "17       Justin Tucker   JT-3950       178                   150.77   \n",
       "31     Steven Hauschka   SH-0400       140                   124.25   \n",
       "25         Phil Dawson   PD-0200       132                   114.87   \n",
       "15          Josh Brown   JB-7100        94                    83.03   \n",
       "30  Stephen Gostkowski   SG-0800       174                   152.66   \n",
       "\n",
       "    successful_fg  vs_prediction_fg  \n",
       "17            159              8.23  \n",
       "31            131              6.75  \n",
       "25            120              5.13  \n",
       "15             87              3.97  \n",
       "30            156              3.34  "
      ]
     },
     "execution_count": 301,
     "metadata": {},
     "output_type": "execute_result"
    }
   ],
   "source": [
    "#--- aggregate the data to calculate each kicker's expected field goals vs. actual for all seasons\n",
    "\n",
    "total_player_fg_success = (\n",
    "    fg_predict_adj_df.groupby(['player', 'player id'], as_index=False)\n",
    "    .agg(\n",
    "        # Get the number of field goal attempts\n",
    "        total_fg = pd.NamedAgg(column = 'make-vs-prediction', aggfunc = 'count'),\n",
    "        # Get the predicted number of successful attempts\n",
    "        predicted_successful_fg = pd.NamedAgg(column = 'make-prediction', aggfunc = 'sum'),\n",
    "        # Get the actual number of successful kicks\n",
    "        successful_fg = pd.NamedAgg(column = 'make', aggfunc = 'sum'),\n",
    "        # Get the difference between actual and predicted success\n",
    "        vs_prediction_fg = pd.NamedAgg(column = 'make-vs-prediction', aggfunc = 'sum'))\n",
    "    .sort_values('vs_prediction_fg', ascending=False))\n",
    "\n",
    "total_player_fg_success.head()"
   ]
  },
  {
   "cell_type": "code",
   "execution_count": 302,
   "id": "481dc661",
   "metadata": {},
   "outputs": [],
   "source": [
    "#--- aggregate the data to calculate each kicker's expected field goal % vs. actual % for all seasons\n",
    "\n",
    "avg_player_fg_success = (\n",
    "    fg_predict_adj_df.groupby(['player', 'player id'], as_index=False)\n",
    "    .agg(\n",
    "        # Get the number of field goal attempts\n",
    "        total_fg = pd.NamedAgg(column = 'make-vs-prediction', aggfunc = 'count'),\n",
    "        # Get the predicted number of successful attempts\n",
    "        avg_predicted_successful_fg = pd.NamedAgg(column = 'make-prediction', aggfunc = mean_perc),\n",
    "        # Get the actual number of successful kicks\n",
    "        avg_successful_fg = pd.NamedAgg(column = 'make', aggfunc = mean_perc),\n",
    "        # Get the difference between actual and predicted success\n",
    "        avg_vs_prediction_fg = pd.NamedAgg(column = 'make-vs-prediction', aggfunc = mean_perc))\n",
    "    .sort_values('avg_vs_prediction_fg', ascending=False))"
   ]
  },
  {
   "cell_type": "code",
   "execution_count": 303,
   "id": "ceb9e09d",
   "metadata": {},
   "outputs": [
    {
     "data": {
      "text/html": [
       "<div>\n",
       "<style scoped>\n",
       "    .dataframe tbody tr th:only-of-type {\n",
       "        vertical-align: middle;\n",
       "    }\n",
       "\n",
       "    .dataframe tbody tr th {\n",
       "        vertical-align: top;\n",
       "    }\n",
       "\n",
       "    .dataframe thead th {\n",
       "        text-align: right;\n",
       "    }\n",
       "</style>\n",
       "<table border=\"1\" class=\"dataframe\">\n",
       "  <thead>\n",
       "    <tr style=\"text-align: right;\">\n",
       "      <th></th>\n",
       "      <th>player</th>\n",
       "      <th>player id</th>\n",
       "      <th>total_fg</th>\n",
       "      <th>avg_predicted_successful_fg</th>\n",
       "      <th>avg_successful_fg</th>\n",
       "      <th>avg_vs_prediction_fg</th>\n",
       "    </tr>\n",
       "  </thead>\n",
       "  <tbody>\n",
       "    <tr>\n",
       "      <th>31</th>\n",
       "      <td>Steven Hauschka</td>\n",
       "      <td>SH-0400</td>\n",
       "      <td>140</td>\n",
       "      <td>88.75</td>\n",
       "      <td>93.57</td>\n",
       "      <td>4.82</td>\n",
       "    </tr>\n",
       "    <tr>\n",
       "      <th>17</th>\n",
       "      <td>Justin Tucker</td>\n",
       "      <td>JT-3950</td>\n",
       "      <td>178</td>\n",
       "      <td>84.70</td>\n",
       "      <td>89.33</td>\n",
       "      <td>4.63</td>\n",
       "    </tr>\n",
       "    <tr>\n",
       "      <th>15</th>\n",
       "      <td>Josh Brown</td>\n",
       "      <td>JB-7100</td>\n",
       "      <td>94</td>\n",
       "      <td>88.33</td>\n",
       "      <td>92.55</td>\n",
       "      <td>4.23</td>\n",
       "    </tr>\n",
       "    <tr>\n",
       "      <th>25</th>\n",
       "      <td>Phil Dawson</td>\n",
       "      <td>PD-0200</td>\n",
       "      <td>132</td>\n",
       "      <td>87.02</td>\n",
       "      <td>90.91</td>\n",
       "      <td>3.88</td>\n",
       "    </tr>\n",
       "    <tr>\n",
       "      <th>9</th>\n",
       "      <td>Dan Bailey</td>\n",
       "      <td>DB-0200</td>\n",
       "      <td>64</td>\n",
       "      <td>83.81</td>\n",
       "      <td>87.50</td>\n",
       "      <td>3.69</td>\n",
       "    </tr>\n",
       "  </tbody>\n",
       "</table>\n",
       "</div>"
      ],
      "text/plain": [
       "             player player id  total_fg  avg_predicted_successful_fg  \\\n",
       "31  Steven Hauschka   SH-0400       140                        88.75   \n",
       "17    Justin Tucker   JT-3950       178                        84.70   \n",
       "15       Josh Brown   JB-7100        94                        88.33   \n",
       "25      Phil Dawson   PD-0200       132                        87.02   \n",
       "9        Dan Bailey   DB-0200        64                        83.81   \n",
       "\n",
       "    avg_successful_fg  avg_vs_prediction_fg  \n",
       "31              93.57                  4.82  \n",
       "17              89.33                  4.63  \n",
       "15              92.55                  4.23  \n",
       "25              90.91                  3.88  \n",
       "9               87.50                  3.69  "
      ]
     },
     "execution_count": 303,
     "metadata": {},
     "output_type": "execute_result"
    }
   ],
   "source": [
    "avg_player_fg_success.head() #show the 5 best kickers according to actual vs predicted % kick success"
   ]
  },
  {
   "cell_type": "markdown",
   "id": "a582f747",
   "metadata": {},
   "source": [
    "#### After accounting for wind speeds, Steven Hauschka overtakes Justin Tucker as the most successful kicker, with a relative kick success rate of +4.82%.  \n",
    "This means that he has kicked 4.82% more field goals than expected (given the distance and wind speeds of each kick)."
   ]
  },
  {
   "cell_type": "code",
   "execution_count": 304,
   "id": "c823d6ba",
   "metadata": {},
   "outputs": [
    {
     "data": {
      "text/html": [
       "<div>\n",
       "<style scoped>\n",
       "    .dataframe tbody tr th:only-of-type {\n",
       "        vertical-align: middle;\n",
       "    }\n",
       "\n",
       "    .dataframe tbody tr th {\n",
       "        vertical-align: top;\n",
       "    }\n",
       "\n",
       "    .dataframe thead th {\n",
       "        text-align: right;\n",
       "    }\n",
       "</style>\n",
       "<table border=\"1\" class=\"dataframe\">\n",
       "  <thead>\n",
       "    <tr style=\"text-align: right;\">\n",
       "      <th></th>\n",
       "      <th>player</th>\n",
       "      <th>player id</th>\n",
       "      <th>total_fg</th>\n",
       "      <th>avg_predicted_successful_fg</th>\n",
       "      <th>avg_successful_fg</th>\n",
       "      <th>avg_vs_prediction_fg</th>\n",
       "    </tr>\n",
       "  </thead>\n",
       "  <tbody>\n",
       "    <tr>\n",
       "      <th>1</th>\n",
       "      <td>Blair Walsh</td>\n",
       "      <td>BW-0350</td>\n",
       "      <td>87</td>\n",
       "      <td>86.29</td>\n",
       "      <td>81.61</td>\n",
       "      <td>-4.69</td>\n",
       "    </tr>\n",
       "    <tr>\n",
       "      <th>16</th>\n",
       "      <td>Josh Lambo</td>\n",
       "      <td>JL-0207</td>\n",
       "      <td>56</td>\n",
       "      <td>85.74</td>\n",
       "      <td>80.36</td>\n",
       "      <td>-5.38</td>\n",
       "    </tr>\n",
       "    <tr>\n",
       "      <th>22</th>\n",
       "      <td>Mike Nugent</td>\n",
       "      <td>MN-0800</td>\n",
       "      <td>127</td>\n",
       "      <td>86.85</td>\n",
       "      <td>81.10</td>\n",
       "      <td>-5.75</td>\n",
       "    </tr>\n",
       "    <tr>\n",
       "      <th>4</th>\n",
       "      <td>Caleb Sturgis</td>\n",
       "      <td>CS-4250</td>\n",
       "      <td>121</td>\n",
       "      <td>86.60</td>\n",
       "      <td>79.34</td>\n",
       "      <td>-7.26</td>\n",
       "    </tr>\n",
       "    <tr>\n",
       "      <th>13</th>\n",
       "      <td>Greg Zuerlein</td>\n",
       "      <td>GZ-2000</td>\n",
       "      <td>69</td>\n",
       "      <td>81.29</td>\n",
       "      <td>72.46</td>\n",
       "      <td>-8.82</td>\n",
       "    </tr>\n",
       "  </tbody>\n",
       "</table>\n",
       "</div>"
      ],
      "text/plain": [
       "           player player id  total_fg  avg_predicted_successful_fg  \\\n",
       "1     Blair Walsh   BW-0350        87                        86.29   \n",
       "16     Josh Lambo   JL-0207        56                        85.74   \n",
       "22    Mike Nugent   MN-0800       127                        86.85   \n",
       "4   Caleb Sturgis   CS-4250       121                        86.60   \n",
       "13  Greg Zuerlein   GZ-2000        69                        81.29   \n",
       "\n",
       "    avg_successful_fg  avg_vs_prediction_fg  \n",
       "1               81.61                 -4.69  \n",
       "16              80.36                 -5.38  \n",
       "22              81.10                 -5.75  \n",
       "4               79.34                 -7.26  \n",
       "13              72.46                 -8.82  "
      ]
     },
     "execution_count": 304,
     "metadata": {},
     "output_type": "execute_result"
    }
   ],
   "source": [
    "avg_player_fg_success.tail() #show the 5 worst kickers according to actual vs predicted % kick success"
   ]
  },
  {
   "cell_type": "markdown",
   "id": "b52d4248",
   "metadata": {},
   "source": [
    "#### After accounting for wind speeds, Caleb Sturgis climbs above Greg Zuerlein, who falls is least successful kicker with a relative kick success rate of -8.82% .  \n",
    "This means that he has kicked 8.82% less field goals than expected (given the distance and wind speeds of each kick)."
   ]
  },
  {
   "cell_type": "code",
   "execution_count": 305,
   "id": "7f644ad0",
   "metadata": {},
   "outputs": [
    {
     "data": {
      "text/html": [
       "<div>\n",
       "<style scoped>\n",
       "    .dataframe tbody tr th:only-of-type {\n",
       "        vertical-align: middle;\n",
       "    }\n",
       "\n",
       "    .dataframe tbody tr th {\n",
       "        vertical-align: top;\n",
       "    }\n",
       "\n",
       "    .dataframe thead th {\n",
       "        text-align: right;\n",
       "    }\n",
       "</style>\n",
       "<table border=\"1\" class=\"dataframe\">\n",
       "  <thead>\n",
       "    <tr style=\"text-align: right;\">\n",
       "      <th></th>\n",
       "      <th>player</th>\n",
       "      <th>player id</th>\n",
       "      <th>season</th>\n",
       "      <th>total_fg</th>\n",
       "      <th>avg_predicted_successful_fg</th>\n",
       "      <th>avg_successful_fg</th>\n",
       "      <th>avg_vs_prediction_fg</th>\n",
       "    </tr>\n",
       "  </thead>\n",
       "  <tbody>\n",
       "    <tr>\n",
       "      <th>67</th>\n",
       "      <td>Justin Tucker</td>\n",
       "      <td>JT-3950</td>\n",
       "      <td>2016</td>\n",
       "      <td>35</td>\n",
       "      <td>82.31</td>\n",
       "      <td>97.14</td>\n",
       "      <td>14.83</td>\n",
       "    </tr>\n",
       "    <tr>\n",
       "      <th>135</th>\n",
       "      <td>Steven Hauschka</td>\n",
       "      <td>SH-0400</td>\n",
       "      <td>2015</td>\n",
       "      <td>24</td>\n",
       "      <td>83.63</td>\n",
       "      <td>95.83</td>\n",
       "      <td>12.21</td>\n",
       "    </tr>\n",
       "    <tr>\n",
       "      <th>84</th>\n",
       "      <td>Matt Prater</td>\n",
       "      <td>MP-2100</td>\n",
       "      <td>2013</td>\n",
       "      <td>26</td>\n",
       "      <td>81.83</td>\n",
       "      <td>92.31</td>\n",
       "      <td>10.47</td>\n",
       "    </tr>\n",
       "    <tr>\n",
       "      <th>104</th>\n",
       "      <td>Phil Dawson</td>\n",
       "      <td>PD-0200</td>\n",
       "      <td>2013</td>\n",
       "      <td>35</td>\n",
       "      <td>88.72</td>\n",
       "      <td>97.14</td>\n",
       "      <td>8.42</td>\n",
       "    </tr>\n",
       "    <tr>\n",
       "      <th>28</th>\n",
       "      <td>Connor Barth</td>\n",
       "      <td>CB-0700</td>\n",
       "      <td>2012</td>\n",
       "      <td>24</td>\n",
       "      <td>79.38</td>\n",
       "      <td>87.50</td>\n",
       "      <td>8.12</td>\n",
       "    </tr>\n",
       "  </tbody>\n",
       "</table>\n",
       "</div>"
      ],
      "text/plain": [
       "              player player id  season  total_fg  avg_predicted_successful_fg  \\\n",
       "67     Justin Tucker   JT-3950    2016        35                        82.31   \n",
       "135  Steven Hauschka   SH-0400    2015        24                        83.63   \n",
       "84       Matt Prater   MP-2100    2013        26                        81.83   \n",
       "104      Phil Dawson   PD-0200    2013        35                        88.72   \n",
       "28      Connor Barth   CB-0700    2012        24                        79.38   \n",
       "\n",
       "     avg_successful_fg  avg_vs_prediction_fg  \n",
       "67               97.14                 14.83  \n",
       "135              95.83                 12.21  \n",
       "84               92.31                 10.47  \n",
       "104              97.14                  8.42  \n",
       "28               87.50                  8.12  "
      ]
     },
     "execution_count": 305,
     "metadata": {},
     "output_type": "execute_result"
    }
   ],
   "source": [
    "#--- aggregate the data to calculate each kicker's expected field goal % vs. actual % for each season\n",
    "\n",
    "avg_player_season_fg_success = (\n",
    "    fg_predict_adj_df.groupby(['player', 'player id', 'season'], as_index=False)\n",
    "    .agg(\n",
    "        # Get the number of field goal attempts\n",
    "        total_fg = pd.NamedAgg(column = 'make-vs-prediction', aggfunc = 'count'),\n",
    "        # Get the predicted number of successful attempts\n",
    "        avg_predicted_successful_fg = pd.NamedAgg(column = 'make-prediction', aggfunc = mean_perc),\n",
    "        # Get the actual number of successful kicks\n",
    "        avg_successful_fg = pd.NamedAgg(column = 'make', aggfunc = mean_perc),\n",
    "        # Get the difference between actual and predicted success\n",
    "        avg_vs_prediction_fg = pd.NamedAgg(column = 'make-vs-prediction', aggfunc = mean_perc))\n",
    "    .sort_values('avg_vs_prediction_fg', ascending=False)\n",
    "    .query(\"`total_fg` >= 20\"))\n",
    "\n",
    "avg_player_season_fg_success.head()"
   ]
  },
  {
   "cell_type": "markdown",
   "id": "0ea72350",
   "metadata": {},
   "source": [
    "#### Justin Tucker had the most successful season of any kicker in 2016, with a relative success rate of +14.83%.  \n",
    "This means that during the 2016 season he kicked 14.83% more field goals than expected (given the distance and wind speeds of each kick)."
   ]
  },
  {
   "cell_type": "code",
   "execution_count": 306,
   "id": "e8cd1af8",
   "metadata": {},
   "outputs": [],
   "source": [
    "#--- aggregate the data to calculate each stadiums's expected field goal % vs. actual % for all seasons\n",
    "\n",
    "#read in stadium matching dataframe to remove spelling errors\n",
    "df_stadium = pd.read_excel('stadium_df.xlsx', index_col=0)\n",
    "\n",
    "stadium_fg_success = (\n",
    "    fg_predict_adj_df.merge(df_stadium, on = 'stadium').groupby(['stadium-name'], as_index=False)\n",
    "    .agg(\n",
    "        # Get the number of field goal attempts\n",
    "        total_fg = pd.NamedAgg(column = 'make-vs-prediction', aggfunc = 'count'),\n",
    "        # Get the predicted number of successful attempts\n",
    "        avg_predicted_successful_fg = pd.NamedAgg(column = 'make-prediction', aggfunc = mean_perc),\n",
    "        # Get the actual number of successful kicks\n",
    "        avg_successful_fg = pd.NamedAgg(column = 'make', aggfunc = mean_perc),\n",
    "        # Get the difference between actual and predicted success\n",
    "        avg_vs_prediction_fg = pd.NamedAgg(column = 'make-vs-prediction', aggfunc = mean_perc))\n",
    "    .sort_values('avg_vs_prediction_fg', ascending=False)\n",
    "    .query(\"`total_fg` >= 50\")) # remove stadiums that have a low sample-size of field goal attempts (< 50)"
   ]
  },
  {
   "cell_type": "code",
   "execution_count": 307,
   "id": "b8ed5f4c",
   "metadata": {},
   "outputs": [
    {
     "data": {
      "text/html": [
       "<div>\n",
       "<style scoped>\n",
       "    .dataframe tbody tr th:only-of-type {\n",
       "        vertical-align: middle;\n",
       "    }\n",
       "\n",
       "    .dataframe tbody tr th {\n",
       "        vertical-align: top;\n",
       "    }\n",
       "\n",
       "    .dataframe thead th {\n",
       "        text-align: right;\n",
       "    }\n",
       "</style>\n",
       "<table border=\"1\" class=\"dataframe\">\n",
       "  <thead>\n",
       "    <tr style=\"text-align: right;\">\n",
       "      <th></th>\n",
       "      <th>stadium-name</th>\n",
       "      <th>total_fg</th>\n",
       "      <th>avg_predicted_successful_fg</th>\n",
       "      <th>avg_successful_fg</th>\n",
       "      <th>avg_vs_prediction_fg</th>\n",
       "    </tr>\n",
       "  </thead>\n",
       "  <tbody>\n",
       "    <tr>\n",
       "      <th>27</th>\n",
       "      <td>TCF Bank Stadium</td>\n",
       "      <td>50</td>\n",
       "      <td>84.58</td>\n",
       "      <td>90.00</td>\n",
       "      <td>5.42</td>\n",
       "    </tr>\n",
       "    <tr>\n",
       "      <th>6</th>\n",
       "      <td>EverBank Field</td>\n",
       "      <td>89</td>\n",
       "      <td>84.29</td>\n",
       "      <td>87.64</td>\n",
       "      <td>3.35</td>\n",
       "    </tr>\n",
       "    <tr>\n",
       "      <th>1</th>\n",
       "      <td>Bank of America Stadium</td>\n",
       "      <td>145</td>\n",
       "      <td>85.73</td>\n",
       "      <td>88.97</td>\n",
       "      <td>3.23</td>\n",
       "    </tr>\n",
       "    <tr>\n",
       "      <th>14</th>\n",
       "      <td>Lincoln Financial Field</td>\n",
       "      <td>111</td>\n",
       "      <td>87.14</td>\n",
       "      <td>90.09</td>\n",
       "      <td>2.95</td>\n",
       "    </tr>\n",
       "    <tr>\n",
       "      <th>3</th>\n",
       "      <td>CenturyLink Field</td>\n",
       "      <td>142</td>\n",
       "      <td>88.02</td>\n",
       "      <td>90.85</td>\n",
       "      <td>2.83</td>\n",
       "    </tr>\n",
       "  </tbody>\n",
       "</table>\n",
       "</div>"
      ],
      "text/plain": [
       "               stadium-name  total_fg  avg_predicted_successful_fg  \\\n",
       "27         TCF Bank Stadium        50                        84.58   \n",
       "6            EverBank Field        89                        84.29   \n",
       "1   Bank of America Stadium       145                        85.73   \n",
       "14  Lincoln Financial Field       111                        87.14   \n",
       "3         CenturyLink Field       142                        88.02   \n",
       "\n",
       "    avg_successful_fg  avg_vs_prediction_fg  \n",
       "27              90.00                  5.42  \n",
       "6               87.64                  3.35  \n",
       "1               88.97                  3.23  \n",
       "14              90.09                  2.95  \n",
       "3               90.85                  2.83  "
      ]
     },
     "execution_count": 307,
     "metadata": {},
     "output_type": "execute_result"
    }
   ],
   "source": [
    "stadium_fg_success.head()"
   ]
  },
  {
   "cell_type": "markdown",
   "id": "54138829",
   "metadata": {},
   "source": [
    "#### After accounting for wind speeds, the TCF Bank Stadium is the easiest stadium to kick a successful field goal with a relative success rate of +5.42%.  \n",
    "This means that 5.42% more field goals have been successful than expected (given the distance and wind speeds of each kick)."
   ]
  },
  {
   "cell_type": "code",
   "execution_count": 308,
   "id": "29c977ba",
   "metadata": {},
   "outputs": [
    {
     "data": {
      "text/html": [
       "<div>\n",
       "<style scoped>\n",
       "    .dataframe tbody tr th:only-of-type {\n",
       "        vertical-align: middle;\n",
       "    }\n",
       "\n",
       "    .dataframe tbody tr th {\n",
       "        vertical-align: top;\n",
       "    }\n",
       "\n",
       "    .dataframe thead th {\n",
       "        text-align: right;\n",
       "    }\n",
       "</style>\n",
       "<table border=\"1\" class=\"dataframe\">\n",
       "  <thead>\n",
       "    <tr style=\"text-align: right;\">\n",
       "      <th></th>\n",
       "      <th>stadium-name</th>\n",
       "      <th>total_fg</th>\n",
       "      <th>avg_predicted_successful_fg</th>\n",
       "      <th>avg_successful_fg</th>\n",
       "      <th>avg_vs_prediction_fg</th>\n",
       "    </tr>\n",
       "  </thead>\n",
       "  <tbody>\n",
       "    <tr>\n",
       "      <th>7</th>\n",
       "      <td>FedEx Field</td>\n",
       "      <td>132</td>\n",
       "      <td>88.65</td>\n",
       "      <td>85.61</td>\n",
       "      <td>-3.04</td>\n",
       "    </tr>\n",
       "    <tr>\n",
       "      <th>0</th>\n",
       "      <td>Arrowhead Stadium</td>\n",
       "      <td>148</td>\n",
       "      <td>86.58</td>\n",
       "      <td>83.11</td>\n",
       "      <td>-3.48</td>\n",
       "    </tr>\n",
       "    <tr>\n",
       "      <th>19</th>\n",
       "      <td>Oakland-Alameda County Coliseum</td>\n",
       "      <td>140</td>\n",
       "      <td>84.85</td>\n",
       "      <td>80.71</td>\n",
       "      <td>-4.13</td>\n",
       "    </tr>\n",
       "    <tr>\n",
       "      <th>24</th>\n",
       "      <td>Soldier Field</td>\n",
       "      <td>123</td>\n",
       "      <td>86.93</td>\n",
       "      <td>81.30</td>\n",
       "      <td>-5.63</td>\n",
       "    </tr>\n",
       "    <tr>\n",
       "      <th>26</th>\n",
       "      <td>SunLife Stadium</td>\n",
       "      <td>134</td>\n",
       "      <td>85.92</td>\n",
       "      <td>77.61</td>\n",
       "      <td>-8.31</td>\n",
       "    </tr>\n",
       "  </tbody>\n",
       "</table>\n",
       "</div>"
      ],
      "text/plain": [
       "                       stadium-name  total_fg  avg_predicted_successful_fg  \\\n",
       "7                       FedEx Field       132                        88.65   \n",
       "0                 Arrowhead Stadium       148                        86.58   \n",
       "19  Oakland-Alameda County Coliseum       140                        84.85   \n",
       "24                    Soldier Field       123                        86.93   \n",
       "26                  SunLife Stadium       134                        85.92   \n",
       "\n",
       "    avg_successful_fg  avg_vs_prediction_fg  \n",
       "7               85.61                 -3.04  \n",
       "0               83.11                 -3.48  \n",
       "19              80.71                 -4.13  \n",
       "24              81.30                 -5.63  \n",
       "26              77.61                 -8.31  "
      ]
     },
     "execution_count": 308,
     "metadata": {},
     "output_type": "execute_result"
    }
   ],
   "source": [
    " stadium_fg_success.tail()"
   ]
  },
  {
   "cell_type": "markdown",
   "id": "377f800d",
   "metadata": {},
   "source": [
    "#### The SunLife Stadium has been the toughest stadium to kick field goals, with a relative success rate of -8.31%. \n",
    "This means that 8.31% less field goals have been kicked than expected (given the distance of each kick)."
   ]
  },
  {
   "cell_type": "code",
   "execution_count": 309,
   "id": "92e74446",
   "metadata": {},
   "outputs": [
    {
     "data": {
      "application/vnd.plotly.v1+json": {
       "config": {
        "plotlyServerURL": "https://plot.ly"
       },
       "data": [
        {
         "hovertemplate": "avg_predicted_successful_fg=%{x}<br>avg_successful_fg=%{y}<br>stadium-name=%{text}<br>total_fg=%{marker.color}<extra></extra>",
         "legendgroup": "",
         "marker": {
          "color": [
           50,
           89,
           145,
           111,
           142,
           269,
           90,
           164,
           64,
           172,
           155,
           100,
           86,
           148,
           134,
           122,
           97,
           141,
           132,
           148,
           140,
           123,
           134
          ],
          "coloraxis": "coloraxis",
          "symbol": "circle"
         },
         "mode": "markers+text",
         "name": "",
         "orientation": "v",
         "showlegend": false,
         "text": [
          "TCF Bank Stadium",
          "EverBank Field",
          "Bank of America Stadium",
          "Lincoln Financial Field",
          "CenturyLink Field",
          "MetLife Stadium",
          "LP Field",
          "Gillette Stadium",
          "FirstEnergy Stadium",
          "Sports Authority Field at Mile High",
          "M&T Bank Stadium",
          "Heinz Field",
          "Levi's Stadium",
          "Paul Brown Stadium",
          "Qualcomm Stadium",
          "Ralph Wilson Stadium",
          "Raymond James Stadium",
          "Lambeau Field",
          "FedEx Field",
          "Arrowhead Stadium",
          "Oakland-Alameda County Coliseum",
          "Soldier Field",
          "SunLife Stadium"
         ],
         "textposition": "top center",
         "type": "scatter",
         "x": [
          84.5802118156145,
          84.2887095483281,
          85.73451177298286,
          87.14390230695184,
          88.01856358795455,
          87.38901239460148,
          86.89041695228457,
          86.88463080419801,
          87.15592288004612,
          84.63781387726002,
          84.90360252929179,
          85.72221440060477,
          86.85164645872307,
          86.35799800424151,
          87.34847233694923,
          86.98866698481538,
          83.20502853199046,
          86.60177533801782,
          88.64607558699188,
          86.5836361445405,
          84.84530986686084,
          86.93089086265165,
          85.9200792683425
         ],
         "xaxis": "x",
         "y": [
          90,
          87.64044943820225,
          88.96551724137932,
          90.09009009009009,
          90.84507042253522,
          89.96282527881041,
          88.88888888888889,
          87.8048780487805,
          87.5,
          84.88372093023256,
          84.51612903225806,
          85,
          86.04651162790698,
          85.13513513513513,
          85.82089552238806,
          84.42622950819673,
          80.41237113402062,
          83.68794326241135,
          85.60606060606061,
          83.1081081081081,
          80.71428571428572,
          81.30081300813008,
          77.61194029850746
         ],
         "yaxis": "y"
        }
       ],
       "layout": {
        "coloraxis": {
         "colorbar": {
          "title": {
           "text": "total_fg"
          }
         },
         "colorscale": [
          [
           0,
           "#0d0887"
          ],
          [
           0.1111111111111111,
           "#46039f"
          ],
          [
           0.2222222222222222,
           "#7201a8"
          ],
          [
           0.3333333333333333,
           "#9c179e"
          ],
          [
           0.4444444444444444,
           "#bd3786"
          ],
          [
           0.5555555555555556,
           "#d8576b"
          ],
          [
           0.6666666666666666,
           "#ed7953"
          ],
          [
           0.7777777777777778,
           "#fb9f3a"
          ],
          [
           0.8888888888888888,
           "#fdca26"
          ],
          [
           1,
           "#f0f921"
          ]
         ]
        },
        "legend": {
         "tracegroupgap": 0
        },
        "margin": {
         "t": 60
        },
        "shapes": [
         {
          "type": "line",
          "x0": 0,
          "x1": 100,
          "xref": "paper",
          "y0": 0,
          "y1": 100,
          "yref": "paper"
         }
        ],
        "template": {
         "data": {
          "bar": [
           {
            "error_x": {
             "color": "#2a3f5f"
            },
            "error_y": {
             "color": "#2a3f5f"
            },
            "marker": {
             "line": {
              "color": "#E5ECF6",
              "width": 0.5
             },
             "pattern": {
              "fillmode": "overlay",
              "size": 10,
              "solidity": 0.2
             }
            },
            "type": "bar"
           }
          ],
          "barpolar": [
           {
            "marker": {
             "line": {
              "color": "#E5ECF6",
              "width": 0.5
             },
             "pattern": {
              "fillmode": "overlay",
              "size": 10,
              "solidity": 0.2
             }
            },
            "type": "barpolar"
           }
          ],
          "carpet": [
           {
            "aaxis": {
             "endlinecolor": "#2a3f5f",
             "gridcolor": "white",
             "linecolor": "white",
             "minorgridcolor": "white",
             "startlinecolor": "#2a3f5f"
            },
            "baxis": {
             "endlinecolor": "#2a3f5f",
             "gridcolor": "white",
             "linecolor": "white",
             "minorgridcolor": "white",
             "startlinecolor": "#2a3f5f"
            },
            "type": "carpet"
           }
          ],
          "choropleth": [
           {
            "colorbar": {
             "outlinewidth": 0,
             "ticks": ""
            },
            "type": "choropleth"
           }
          ],
          "contour": [
           {
            "colorbar": {
             "outlinewidth": 0,
             "ticks": ""
            },
            "colorscale": [
             [
              0,
              "#0d0887"
             ],
             [
              0.1111111111111111,
              "#46039f"
             ],
             [
              0.2222222222222222,
              "#7201a8"
             ],
             [
              0.3333333333333333,
              "#9c179e"
             ],
             [
              0.4444444444444444,
              "#bd3786"
             ],
             [
              0.5555555555555556,
              "#d8576b"
             ],
             [
              0.6666666666666666,
              "#ed7953"
             ],
             [
              0.7777777777777778,
              "#fb9f3a"
             ],
             [
              0.8888888888888888,
              "#fdca26"
             ],
             [
              1,
              "#f0f921"
             ]
            ],
            "type": "contour"
           }
          ],
          "contourcarpet": [
           {
            "colorbar": {
             "outlinewidth": 0,
             "ticks": ""
            },
            "type": "contourcarpet"
           }
          ],
          "heatmap": [
           {
            "colorbar": {
             "outlinewidth": 0,
             "ticks": ""
            },
            "colorscale": [
             [
              0,
              "#0d0887"
             ],
             [
              0.1111111111111111,
              "#46039f"
             ],
             [
              0.2222222222222222,
              "#7201a8"
             ],
             [
              0.3333333333333333,
              "#9c179e"
             ],
             [
              0.4444444444444444,
              "#bd3786"
             ],
             [
              0.5555555555555556,
              "#d8576b"
             ],
             [
              0.6666666666666666,
              "#ed7953"
             ],
             [
              0.7777777777777778,
              "#fb9f3a"
             ],
             [
              0.8888888888888888,
              "#fdca26"
             ],
             [
              1,
              "#f0f921"
             ]
            ],
            "type": "heatmap"
           }
          ],
          "heatmapgl": [
           {
            "colorbar": {
             "outlinewidth": 0,
             "ticks": ""
            },
            "colorscale": [
             [
              0,
              "#0d0887"
             ],
             [
              0.1111111111111111,
              "#46039f"
             ],
             [
              0.2222222222222222,
              "#7201a8"
             ],
             [
              0.3333333333333333,
              "#9c179e"
             ],
             [
              0.4444444444444444,
              "#bd3786"
             ],
             [
              0.5555555555555556,
              "#d8576b"
             ],
             [
              0.6666666666666666,
              "#ed7953"
             ],
             [
              0.7777777777777778,
              "#fb9f3a"
             ],
             [
              0.8888888888888888,
              "#fdca26"
             ],
             [
              1,
              "#f0f921"
             ]
            ],
            "type": "heatmapgl"
           }
          ],
          "histogram": [
           {
            "marker": {
             "pattern": {
              "fillmode": "overlay",
              "size": 10,
              "solidity": 0.2
             }
            },
            "type": "histogram"
           }
          ],
          "histogram2d": [
           {
            "colorbar": {
             "outlinewidth": 0,
             "ticks": ""
            },
            "colorscale": [
             [
              0,
              "#0d0887"
             ],
             [
              0.1111111111111111,
              "#46039f"
             ],
             [
              0.2222222222222222,
              "#7201a8"
             ],
             [
              0.3333333333333333,
              "#9c179e"
             ],
             [
              0.4444444444444444,
              "#bd3786"
             ],
             [
              0.5555555555555556,
              "#d8576b"
             ],
             [
              0.6666666666666666,
              "#ed7953"
             ],
             [
              0.7777777777777778,
              "#fb9f3a"
             ],
             [
              0.8888888888888888,
              "#fdca26"
             ],
             [
              1,
              "#f0f921"
             ]
            ],
            "type": "histogram2d"
           }
          ],
          "histogram2dcontour": [
           {
            "colorbar": {
             "outlinewidth": 0,
             "ticks": ""
            },
            "colorscale": [
             [
              0,
              "#0d0887"
             ],
             [
              0.1111111111111111,
              "#46039f"
             ],
             [
              0.2222222222222222,
              "#7201a8"
             ],
             [
              0.3333333333333333,
              "#9c179e"
             ],
             [
              0.4444444444444444,
              "#bd3786"
             ],
             [
              0.5555555555555556,
              "#d8576b"
             ],
             [
              0.6666666666666666,
              "#ed7953"
             ],
             [
              0.7777777777777778,
              "#fb9f3a"
             ],
             [
              0.8888888888888888,
              "#fdca26"
             ],
             [
              1,
              "#f0f921"
             ]
            ],
            "type": "histogram2dcontour"
           }
          ],
          "mesh3d": [
           {
            "colorbar": {
             "outlinewidth": 0,
             "ticks": ""
            },
            "type": "mesh3d"
           }
          ],
          "parcoords": [
           {
            "line": {
             "colorbar": {
              "outlinewidth": 0,
              "ticks": ""
             }
            },
            "type": "parcoords"
           }
          ],
          "pie": [
           {
            "automargin": true,
            "type": "pie"
           }
          ],
          "scatter": [
           {
            "fillpattern": {
             "fillmode": "overlay",
             "size": 10,
             "solidity": 0.2
            },
            "type": "scatter"
           }
          ],
          "scatter3d": [
           {
            "line": {
             "colorbar": {
              "outlinewidth": 0,
              "ticks": ""
             }
            },
            "marker": {
             "colorbar": {
              "outlinewidth": 0,
              "ticks": ""
             }
            },
            "type": "scatter3d"
           }
          ],
          "scattercarpet": [
           {
            "marker": {
             "colorbar": {
              "outlinewidth": 0,
              "ticks": ""
             }
            },
            "type": "scattercarpet"
           }
          ],
          "scattergeo": [
           {
            "marker": {
             "colorbar": {
              "outlinewidth": 0,
              "ticks": ""
             }
            },
            "type": "scattergeo"
           }
          ],
          "scattergl": [
           {
            "marker": {
             "colorbar": {
              "outlinewidth": 0,
              "ticks": ""
             }
            },
            "type": "scattergl"
           }
          ],
          "scattermapbox": [
           {
            "marker": {
             "colorbar": {
              "outlinewidth": 0,
              "ticks": ""
             }
            },
            "type": "scattermapbox"
           }
          ],
          "scatterpolar": [
           {
            "marker": {
             "colorbar": {
              "outlinewidth": 0,
              "ticks": ""
             }
            },
            "type": "scatterpolar"
           }
          ],
          "scatterpolargl": [
           {
            "marker": {
             "colorbar": {
              "outlinewidth": 0,
              "ticks": ""
             }
            },
            "type": "scatterpolargl"
           }
          ],
          "scatterternary": [
           {
            "marker": {
             "colorbar": {
              "outlinewidth": 0,
              "ticks": ""
             }
            },
            "type": "scatterternary"
           }
          ],
          "surface": [
           {
            "colorbar": {
             "outlinewidth": 0,
             "ticks": ""
            },
            "colorscale": [
             [
              0,
              "#0d0887"
             ],
             [
              0.1111111111111111,
              "#46039f"
             ],
             [
              0.2222222222222222,
              "#7201a8"
             ],
             [
              0.3333333333333333,
              "#9c179e"
             ],
             [
              0.4444444444444444,
              "#bd3786"
             ],
             [
              0.5555555555555556,
              "#d8576b"
             ],
             [
              0.6666666666666666,
              "#ed7953"
             ],
             [
              0.7777777777777778,
              "#fb9f3a"
             ],
             [
              0.8888888888888888,
              "#fdca26"
             ],
             [
              1,
              "#f0f921"
             ]
            ],
            "type": "surface"
           }
          ],
          "table": [
           {
            "cells": {
             "fill": {
              "color": "#EBF0F8"
             },
             "line": {
              "color": "white"
             }
            },
            "header": {
             "fill": {
              "color": "#C8D4E3"
             },
             "line": {
              "color": "white"
             }
            },
            "type": "table"
           }
          ]
         },
         "layout": {
          "annotationdefaults": {
           "arrowcolor": "#2a3f5f",
           "arrowhead": 0,
           "arrowwidth": 1
          },
          "autotypenumbers": "strict",
          "coloraxis": {
           "colorbar": {
            "outlinewidth": 0,
            "ticks": ""
           }
          },
          "colorscale": {
           "diverging": [
            [
             0,
             "#8e0152"
            ],
            [
             0.1,
             "#c51b7d"
            ],
            [
             0.2,
             "#de77ae"
            ],
            [
             0.3,
             "#f1b6da"
            ],
            [
             0.4,
             "#fde0ef"
            ],
            [
             0.5,
             "#f7f7f7"
            ],
            [
             0.6,
             "#e6f5d0"
            ],
            [
             0.7,
             "#b8e186"
            ],
            [
             0.8,
             "#7fbc41"
            ],
            [
             0.9,
             "#4d9221"
            ],
            [
             1,
             "#276419"
            ]
           ],
           "sequential": [
            [
             0,
             "#0d0887"
            ],
            [
             0.1111111111111111,
             "#46039f"
            ],
            [
             0.2222222222222222,
             "#7201a8"
            ],
            [
             0.3333333333333333,
             "#9c179e"
            ],
            [
             0.4444444444444444,
             "#bd3786"
            ],
            [
             0.5555555555555556,
             "#d8576b"
            ],
            [
             0.6666666666666666,
             "#ed7953"
            ],
            [
             0.7777777777777778,
             "#fb9f3a"
            ],
            [
             0.8888888888888888,
             "#fdca26"
            ],
            [
             1,
             "#f0f921"
            ]
           ],
           "sequentialminus": [
            [
             0,
             "#0d0887"
            ],
            [
             0.1111111111111111,
             "#46039f"
            ],
            [
             0.2222222222222222,
             "#7201a8"
            ],
            [
             0.3333333333333333,
             "#9c179e"
            ],
            [
             0.4444444444444444,
             "#bd3786"
            ],
            [
             0.5555555555555556,
             "#d8576b"
            ],
            [
             0.6666666666666666,
             "#ed7953"
            ],
            [
             0.7777777777777778,
             "#fb9f3a"
            ],
            [
             0.8888888888888888,
             "#fdca26"
            ],
            [
             1,
             "#f0f921"
            ]
           ]
          },
          "colorway": [
           "#636efa",
           "#EF553B",
           "#00cc96",
           "#ab63fa",
           "#FFA15A",
           "#19d3f3",
           "#FF6692",
           "#B6E880",
           "#FF97FF",
           "#FECB52"
          ],
          "font": {
           "color": "#2a3f5f"
          },
          "geo": {
           "bgcolor": "white",
           "lakecolor": "white",
           "landcolor": "#E5ECF6",
           "showlakes": true,
           "showland": true,
           "subunitcolor": "white"
          },
          "hoverlabel": {
           "align": "left"
          },
          "hovermode": "closest",
          "mapbox": {
           "style": "light"
          },
          "paper_bgcolor": "white",
          "plot_bgcolor": "#E5ECF6",
          "polar": {
           "angularaxis": {
            "gridcolor": "white",
            "linecolor": "white",
            "ticks": ""
           },
           "bgcolor": "#E5ECF6",
           "radialaxis": {
            "gridcolor": "white",
            "linecolor": "white",
            "ticks": ""
           }
          },
          "scene": {
           "xaxis": {
            "backgroundcolor": "#E5ECF6",
            "gridcolor": "white",
            "gridwidth": 2,
            "linecolor": "white",
            "showbackground": true,
            "ticks": "",
            "zerolinecolor": "white"
           },
           "yaxis": {
            "backgroundcolor": "#E5ECF6",
            "gridcolor": "white",
            "gridwidth": 2,
            "linecolor": "white",
            "showbackground": true,
            "ticks": "",
            "zerolinecolor": "white"
           },
           "zaxis": {
            "backgroundcolor": "#E5ECF6",
            "gridcolor": "white",
            "gridwidth": 2,
            "linecolor": "white",
            "showbackground": true,
            "ticks": "",
            "zerolinecolor": "white"
           }
          },
          "shapedefaults": {
           "line": {
            "color": "#2a3f5f"
           }
          },
          "ternary": {
           "aaxis": {
            "gridcolor": "white",
            "linecolor": "white",
            "ticks": ""
           },
           "baxis": {
            "gridcolor": "white",
            "linecolor": "white",
            "ticks": ""
           },
           "bgcolor": "#E5ECF6",
           "caxis": {
            "gridcolor": "white",
            "linecolor": "white",
            "ticks": ""
           }
          },
          "title": {
           "x": 0.05
          },
          "xaxis": {
           "automargin": true,
           "gridcolor": "white",
           "linecolor": "white",
           "ticks": "",
           "title": {
            "standoff": 15
           },
           "zerolinecolor": "white",
           "zerolinewidth": 2
          },
          "yaxis": {
           "automargin": true,
           "gridcolor": "white",
           "linecolor": "white",
           "ticks": "",
           "title": {
            "standoff": 15
           },
           "zerolinecolor": "white",
           "zerolinewidth": 2
          }
         }
        },
        "title": {
         "text": "Field Goal Success Rate by Stadium",
         "x": 0.5
        },
        "xaxis": {
         "anchor": "y",
         "domain": [
          0,
          1
         ],
         "range": [
          77,
          92
         ],
         "title": {
          "text": "avg_predicted_successful_fg"
         }
        },
        "yaxis": {
         "anchor": "x",
         "domain": [
          0,
          1
         ],
         "range": [
          77,
          92
         ],
         "title": {
          "text": "avg_successful_fg"
         }
        }
       }
      },
      "text/html": [
       "<div>                            <div id=\"19ae7e4f-d76f-4969-aa86-a2a631d8272b\" class=\"plotly-graph-div\" style=\"height:525px; width:100%;\"></div>            <script type=\"text/javascript\">                require([\"plotly\"], function(Plotly) {                    window.PLOTLYENV=window.PLOTLYENV || {};                                    if (document.getElementById(\"19ae7e4f-d76f-4969-aa86-a2a631d8272b\")) {                    Plotly.newPlot(                        \"19ae7e4f-d76f-4969-aa86-a2a631d8272b\",                        [{\"hovertemplate\":\"avg_predicted_successful_fg=%{x}<br>avg_successful_fg=%{y}<br>stadium-name=%{text}<br>total_fg=%{marker.color}<extra></extra>\",\"legendgroup\":\"\",\"marker\":{\"color\":[50,89,145,111,142,269,90,164,64,172,155,100,86,148,134,122,97,141,132,148,140,123,134],\"coloraxis\":\"coloraxis\",\"symbol\":\"circle\"},\"mode\":\"markers+text\",\"name\":\"\",\"orientation\":\"v\",\"showlegend\":false,\"text\":[\"TCF Bank Stadium\",\"EverBank Field\",\"Bank of America Stadium\",\"Lincoln Financial Field\",\"CenturyLink Field\",\"MetLife Stadium\",\"LP Field\",\"Gillette Stadium\",\"FirstEnergy Stadium\",\"Sports Authority Field at Mile High\",\"M&T Bank Stadium\",\"Heinz Field\",\"Levi's Stadium\",\"Paul Brown Stadium\",\"Qualcomm Stadium\",\"Ralph Wilson Stadium\",\"Raymond James Stadium\",\"Lambeau Field\",\"FedEx Field\",\"Arrowhead Stadium\",\"Oakland-Alameda County Coliseum\",\"Soldier Field\",\"SunLife Stadium\"],\"x\":[84.5802118156145,84.2887095483281,85.73451177298286,87.14390230695184,88.01856358795455,87.38901239460148,86.89041695228457,86.88463080419801,87.15592288004612,84.63781387726002,84.90360252929179,85.72221440060477,86.85164645872307,86.35799800424151,87.34847233694923,86.98866698481538,83.20502853199046,86.60177533801782,88.64607558699188,86.5836361445405,84.84530986686084,86.93089086265165,85.9200792683425],\"xaxis\":\"x\",\"y\":[90.0,87.64044943820225,88.96551724137932,90.09009009009009,90.84507042253522,89.96282527881041,88.88888888888889,87.8048780487805,87.5,84.88372093023256,84.51612903225806,85.0,86.04651162790698,85.13513513513513,85.82089552238806,84.42622950819673,80.41237113402062,83.68794326241135,85.60606060606061,83.1081081081081,80.71428571428572,81.30081300813008,77.61194029850746],\"yaxis\":\"y\",\"type\":\"scatter\",\"textposition\":\"top center\"}],                        {\"template\":{\"data\":{\"histogram2dcontour\":[{\"type\":\"histogram2dcontour\",\"colorbar\":{\"outlinewidth\":0,\"ticks\":\"\"},\"colorscale\":[[0.0,\"#0d0887\"],[0.1111111111111111,\"#46039f\"],[0.2222222222222222,\"#7201a8\"],[0.3333333333333333,\"#9c179e\"],[0.4444444444444444,\"#bd3786\"],[0.5555555555555556,\"#d8576b\"],[0.6666666666666666,\"#ed7953\"],[0.7777777777777778,\"#fb9f3a\"],[0.8888888888888888,\"#fdca26\"],[1.0,\"#f0f921\"]]}],\"choropleth\":[{\"type\":\"choropleth\",\"colorbar\":{\"outlinewidth\":0,\"ticks\":\"\"}}],\"histogram2d\":[{\"type\":\"histogram2d\",\"colorbar\":{\"outlinewidth\":0,\"ticks\":\"\"},\"colorscale\":[[0.0,\"#0d0887\"],[0.1111111111111111,\"#46039f\"],[0.2222222222222222,\"#7201a8\"],[0.3333333333333333,\"#9c179e\"],[0.4444444444444444,\"#bd3786\"],[0.5555555555555556,\"#d8576b\"],[0.6666666666666666,\"#ed7953\"],[0.7777777777777778,\"#fb9f3a\"],[0.8888888888888888,\"#fdca26\"],[1.0,\"#f0f921\"]]}],\"heatmap\":[{\"type\":\"heatmap\",\"colorbar\":{\"outlinewidth\":0,\"ticks\":\"\"},\"colorscale\":[[0.0,\"#0d0887\"],[0.1111111111111111,\"#46039f\"],[0.2222222222222222,\"#7201a8\"],[0.3333333333333333,\"#9c179e\"],[0.4444444444444444,\"#bd3786\"],[0.5555555555555556,\"#d8576b\"],[0.6666666666666666,\"#ed7953\"],[0.7777777777777778,\"#fb9f3a\"],[0.8888888888888888,\"#fdca26\"],[1.0,\"#f0f921\"]]}],\"heatmapgl\":[{\"type\":\"heatmapgl\",\"colorbar\":{\"outlinewidth\":0,\"ticks\":\"\"},\"colorscale\":[[0.0,\"#0d0887\"],[0.1111111111111111,\"#46039f\"],[0.2222222222222222,\"#7201a8\"],[0.3333333333333333,\"#9c179e\"],[0.4444444444444444,\"#bd3786\"],[0.5555555555555556,\"#d8576b\"],[0.6666666666666666,\"#ed7953\"],[0.7777777777777778,\"#fb9f3a\"],[0.8888888888888888,\"#fdca26\"],[1.0,\"#f0f921\"]]}],\"contourcarpet\":[{\"type\":\"contourcarpet\",\"colorbar\":{\"outlinewidth\":0,\"ticks\":\"\"}}],\"contour\":[{\"type\":\"contour\",\"colorbar\":{\"outlinewidth\":0,\"ticks\":\"\"},\"colorscale\":[[0.0,\"#0d0887\"],[0.1111111111111111,\"#46039f\"],[0.2222222222222222,\"#7201a8\"],[0.3333333333333333,\"#9c179e\"],[0.4444444444444444,\"#bd3786\"],[0.5555555555555556,\"#d8576b\"],[0.6666666666666666,\"#ed7953\"],[0.7777777777777778,\"#fb9f3a\"],[0.8888888888888888,\"#fdca26\"],[1.0,\"#f0f921\"]]}],\"surface\":[{\"type\":\"surface\",\"colorbar\":{\"outlinewidth\":0,\"ticks\":\"\"},\"colorscale\":[[0.0,\"#0d0887\"],[0.1111111111111111,\"#46039f\"],[0.2222222222222222,\"#7201a8\"],[0.3333333333333333,\"#9c179e\"],[0.4444444444444444,\"#bd3786\"],[0.5555555555555556,\"#d8576b\"],[0.6666666666666666,\"#ed7953\"],[0.7777777777777778,\"#fb9f3a\"],[0.8888888888888888,\"#fdca26\"],[1.0,\"#f0f921\"]]}],\"mesh3d\":[{\"type\":\"mesh3d\",\"colorbar\":{\"outlinewidth\":0,\"ticks\":\"\"}}],\"scatter\":[{\"fillpattern\":{\"fillmode\":\"overlay\",\"size\":10,\"solidity\":0.2},\"type\":\"scatter\"}],\"parcoords\":[{\"type\":\"parcoords\",\"line\":{\"colorbar\":{\"outlinewidth\":0,\"ticks\":\"\"}}}],\"scatterpolargl\":[{\"type\":\"scatterpolargl\",\"marker\":{\"colorbar\":{\"outlinewidth\":0,\"ticks\":\"\"}}}],\"bar\":[{\"error_x\":{\"color\":\"#2a3f5f\"},\"error_y\":{\"color\":\"#2a3f5f\"},\"marker\":{\"line\":{\"color\":\"#E5ECF6\",\"width\":0.5},\"pattern\":{\"fillmode\":\"overlay\",\"size\":10,\"solidity\":0.2}},\"type\":\"bar\"}],\"scattergeo\":[{\"type\":\"scattergeo\",\"marker\":{\"colorbar\":{\"outlinewidth\":0,\"ticks\":\"\"}}}],\"scatterpolar\":[{\"type\":\"scatterpolar\",\"marker\":{\"colorbar\":{\"outlinewidth\":0,\"ticks\":\"\"}}}],\"histogram\":[{\"marker\":{\"pattern\":{\"fillmode\":\"overlay\",\"size\":10,\"solidity\":0.2}},\"type\":\"histogram\"}],\"scattergl\":[{\"type\":\"scattergl\",\"marker\":{\"colorbar\":{\"outlinewidth\":0,\"ticks\":\"\"}}}],\"scatter3d\":[{\"type\":\"scatter3d\",\"line\":{\"colorbar\":{\"outlinewidth\":0,\"ticks\":\"\"}},\"marker\":{\"colorbar\":{\"outlinewidth\":0,\"ticks\":\"\"}}}],\"scattermapbox\":[{\"type\":\"scattermapbox\",\"marker\":{\"colorbar\":{\"outlinewidth\":0,\"ticks\":\"\"}}}],\"scatterternary\":[{\"type\":\"scatterternary\",\"marker\":{\"colorbar\":{\"outlinewidth\":0,\"ticks\":\"\"}}}],\"scattercarpet\":[{\"type\":\"scattercarpet\",\"marker\":{\"colorbar\":{\"outlinewidth\":0,\"ticks\":\"\"}}}],\"carpet\":[{\"aaxis\":{\"endlinecolor\":\"#2a3f5f\",\"gridcolor\":\"white\",\"linecolor\":\"white\",\"minorgridcolor\":\"white\",\"startlinecolor\":\"#2a3f5f\"},\"baxis\":{\"endlinecolor\":\"#2a3f5f\",\"gridcolor\":\"white\",\"linecolor\":\"white\",\"minorgridcolor\":\"white\",\"startlinecolor\":\"#2a3f5f\"},\"type\":\"carpet\"}],\"table\":[{\"cells\":{\"fill\":{\"color\":\"#EBF0F8\"},\"line\":{\"color\":\"white\"}},\"header\":{\"fill\":{\"color\":\"#C8D4E3\"},\"line\":{\"color\":\"white\"}},\"type\":\"table\"}],\"barpolar\":[{\"marker\":{\"line\":{\"color\":\"#E5ECF6\",\"width\":0.5},\"pattern\":{\"fillmode\":\"overlay\",\"size\":10,\"solidity\":0.2}},\"type\":\"barpolar\"}],\"pie\":[{\"automargin\":true,\"type\":\"pie\"}]},\"layout\":{\"autotypenumbers\":\"strict\",\"colorway\":[\"#636efa\",\"#EF553B\",\"#00cc96\",\"#ab63fa\",\"#FFA15A\",\"#19d3f3\",\"#FF6692\",\"#B6E880\",\"#FF97FF\",\"#FECB52\"],\"font\":{\"color\":\"#2a3f5f\"},\"hovermode\":\"closest\",\"hoverlabel\":{\"align\":\"left\"},\"paper_bgcolor\":\"white\",\"plot_bgcolor\":\"#E5ECF6\",\"polar\":{\"bgcolor\":\"#E5ECF6\",\"angularaxis\":{\"gridcolor\":\"white\",\"linecolor\":\"white\",\"ticks\":\"\"},\"radialaxis\":{\"gridcolor\":\"white\",\"linecolor\":\"white\",\"ticks\":\"\"}},\"ternary\":{\"bgcolor\":\"#E5ECF6\",\"aaxis\":{\"gridcolor\":\"white\",\"linecolor\":\"white\",\"ticks\":\"\"},\"baxis\":{\"gridcolor\":\"white\",\"linecolor\":\"white\",\"ticks\":\"\"},\"caxis\":{\"gridcolor\":\"white\",\"linecolor\":\"white\",\"ticks\":\"\"}},\"coloraxis\":{\"colorbar\":{\"outlinewidth\":0,\"ticks\":\"\"}},\"colorscale\":{\"sequential\":[[0.0,\"#0d0887\"],[0.1111111111111111,\"#46039f\"],[0.2222222222222222,\"#7201a8\"],[0.3333333333333333,\"#9c179e\"],[0.4444444444444444,\"#bd3786\"],[0.5555555555555556,\"#d8576b\"],[0.6666666666666666,\"#ed7953\"],[0.7777777777777778,\"#fb9f3a\"],[0.8888888888888888,\"#fdca26\"],[1.0,\"#f0f921\"]],\"sequentialminus\":[[0.0,\"#0d0887\"],[0.1111111111111111,\"#46039f\"],[0.2222222222222222,\"#7201a8\"],[0.3333333333333333,\"#9c179e\"],[0.4444444444444444,\"#bd3786\"],[0.5555555555555556,\"#d8576b\"],[0.6666666666666666,\"#ed7953\"],[0.7777777777777778,\"#fb9f3a\"],[0.8888888888888888,\"#fdca26\"],[1.0,\"#f0f921\"]],\"diverging\":[[0,\"#8e0152\"],[0.1,\"#c51b7d\"],[0.2,\"#de77ae\"],[0.3,\"#f1b6da\"],[0.4,\"#fde0ef\"],[0.5,\"#f7f7f7\"],[0.6,\"#e6f5d0\"],[0.7,\"#b8e186\"],[0.8,\"#7fbc41\"],[0.9,\"#4d9221\"],[1,\"#276419\"]]},\"xaxis\":{\"gridcolor\":\"white\",\"linecolor\":\"white\",\"ticks\":\"\",\"title\":{\"standoff\":15},\"zerolinecolor\":\"white\",\"automargin\":true,\"zerolinewidth\":2},\"yaxis\":{\"gridcolor\":\"white\",\"linecolor\":\"white\",\"ticks\":\"\",\"title\":{\"standoff\":15},\"zerolinecolor\":\"white\",\"automargin\":true,\"zerolinewidth\":2},\"scene\":{\"xaxis\":{\"backgroundcolor\":\"#E5ECF6\",\"gridcolor\":\"white\",\"linecolor\":\"white\",\"showbackground\":true,\"ticks\":\"\",\"zerolinecolor\":\"white\",\"gridwidth\":2},\"yaxis\":{\"backgroundcolor\":\"#E5ECF6\",\"gridcolor\":\"white\",\"linecolor\":\"white\",\"showbackground\":true,\"ticks\":\"\",\"zerolinecolor\":\"white\",\"gridwidth\":2},\"zaxis\":{\"backgroundcolor\":\"#E5ECF6\",\"gridcolor\":\"white\",\"linecolor\":\"white\",\"showbackground\":true,\"ticks\":\"\",\"zerolinecolor\":\"white\",\"gridwidth\":2}},\"shapedefaults\":{\"line\":{\"color\":\"#2a3f5f\"}},\"annotationdefaults\":{\"arrowcolor\":\"#2a3f5f\",\"arrowhead\":0,\"arrowwidth\":1},\"geo\":{\"bgcolor\":\"white\",\"landcolor\":\"#E5ECF6\",\"subunitcolor\":\"white\",\"showland\":true,\"showlakes\":true,\"lakecolor\":\"white\"},\"title\":{\"x\":0.05},\"mapbox\":{\"style\":\"light\"}}},\"xaxis\":{\"anchor\":\"y\",\"domain\":[0.0,1.0],\"title\":{\"text\":\"avg_predicted_successful_fg\"},\"range\":[77,92]},\"yaxis\":{\"anchor\":\"x\",\"domain\":[0.0,1.0],\"title\":{\"text\":\"avg_successful_fg\"},\"range\":[77,92]},\"coloraxis\":{\"colorbar\":{\"title\":{\"text\":\"total_fg\"}},\"colorscale\":[[0.0,\"#0d0887\"],[0.1111111111111111,\"#46039f\"],[0.2222222222222222,\"#7201a8\"],[0.3333333333333333,\"#9c179e\"],[0.4444444444444444,\"#bd3786\"],[0.5555555555555556,\"#d8576b\"],[0.6666666666666666,\"#ed7953\"],[0.7777777777777778,\"#fb9f3a\"],[0.8888888888888888,\"#fdca26\"],[1.0,\"#f0f921\"]]},\"legend\":{\"tracegroupgap\":0},\"margin\":{\"t\":60},\"title\":{\"text\":\"Field Goal Success Rate by Stadium\",\"x\":0.5},\"shapes\":[{\"type\":\"line\",\"x0\":0,\"x1\":100,\"xref\":\"paper\",\"y0\":0,\"y1\":100,\"yref\":\"paper\"}]},                        {\"responsive\": true}                    ).then(function(){\n",
       "                            \n",
       "var gd = document.getElementById('19ae7e4f-d76f-4969-aa86-a2a631d8272b');\n",
       "var x = new MutationObserver(function (mutations, observer) {{\n",
       "        var display = window.getComputedStyle(gd).display;\n",
       "        if (!display || display === 'none') {{\n",
       "            console.log([gd, 'removed!']);\n",
       "            Plotly.purge(gd);\n",
       "            observer.disconnect();\n",
       "        }}\n",
       "}});\n",
       "\n",
       "// Listen for the removal of the full notebook cells\n",
       "var notebookContainer = gd.closest('#notebook-container');\n",
       "if (notebookContainer) {{\n",
       "    x.observe(notebookContainer, {childList: true});\n",
       "}}\n",
       "\n",
       "// Listen for the clearing of the current output cell\n",
       "var outputEl = gd.closest('.output');\n",
       "if (outputEl) {{\n",
       "    x.observe(outputEl, {childList: true});\n",
       "}}\n",
       "\n",
       "                        })                };                });            </script>        </div>"
      ]
     },
     "metadata": {},
     "output_type": "display_data"
    }
   ],
   "source": [
    "#--- visualise the field goal success rate by stadium (with 45 degree reference line)\n",
    "\n",
    "fig = px.scatter(\n",
    "    stadium_fg_success, \n",
    "    x=\"avg_predicted_successful_fg\", y=\"avg_successful_fg\", text=\"stadium-name\", \n",
    "    log_x=False, size_max=100, color=\"total_fg\")\n",
    "fig.update_traces(textposition='top center')\n",
    "fig.update_layout(title_text='Field Goal Success Rate by Stadium', title_x=0.5,\n",
    "                 shapes = [{'type': 'line', 'yref': 'paper', 'xref': 'paper', 'y0': 0, 'y1': 100, 'x0': 0, 'x1': 100}],\n",
    "                 yaxis_range=[77,92],\n",
    "                 xaxis_range=[77,92])\n",
    "fig.show()"
   ]
  },
  {
   "cell_type": "code",
   "execution_count": 310,
   "id": "4b57dfcd",
   "metadata": {},
   "outputs": [
    {
     "data": {
      "text/html": [
       "<div>\n",
       "<style scoped>\n",
       "    .dataframe tbody tr th:only-of-type {\n",
       "        vertical-align: middle;\n",
       "    }\n",
       "\n",
       "    .dataframe tbody tr th {\n",
       "        vertical-align: top;\n",
       "    }\n",
       "\n",
       "    .dataframe thead th {\n",
       "        text-align: right;\n",
       "    }\n",
       "</style>\n",
       "<table border=\"1\" class=\"dataframe\">\n",
       "  <thead>\n",
       "    <tr style=\"text-align: right;\">\n",
       "      <th></th>\n",
       "      <th>surface</th>\n",
       "      <th>total_fg</th>\n",
       "      <th>avg_predicted_successful_fg</th>\n",
       "      <th>avg_successful_fg</th>\n",
       "      <th>avg_vs_prediction_fg</th>\n",
       "    </tr>\n",
       "  </thead>\n",
       "  <tbody>\n",
       "    <tr>\n",
       "      <th>3</th>\n",
       "      <td>FieldTurf</td>\n",
       "      <td>475</td>\n",
       "      <td>86.89</td>\n",
       "      <td>88.84</td>\n",
       "      <td>1.95</td>\n",
       "    </tr>\n",
       "    <tr>\n",
       "      <th>6</th>\n",
       "      <td>UBU Speed Series S5M</td>\n",
       "      <td>303</td>\n",
       "      <td>87.13</td>\n",
       "      <td>87.79</td>\n",
       "      <td>0.66</td>\n",
       "    </tr>\n",
       "    <tr>\n",
       "      <th>4</th>\n",
       "      <td>Grass</td>\n",
       "      <td>1860</td>\n",
       "      <td>86.04</td>\n",
       "      <td>85.00</td>\n",
       "      <td>-1.04</td>\n",
       "    </tr>\n",
       "    <tr>\n",
       "      <th>5</th>\n",
       "      <td>MomentumTurf</td>\n",
       "      <td>130</td>\n",
       "      <td>85.53</td>\n",
       "      <td>83.08</td>\n",
       "      <td>-2.46</td>\n",
       "    </tr>\n",
       "    <tr>\n",
       "      <th>0</th>\n",
       "      <td>A Turf Titan</td>\n",
       "      <td>122</td>\n",
       "      <td>86.99</td>\n",
       "      <td>84.43</td>\n",
       "      <td>-2.56</td>\n",
       "    </tr>\n",
       "    <tr>\n",
       "      <th>2</th>\n",
       "      <td>DD GrassMaster</td>\n",
       "      <td>178</td>\n",
       "      <td>86.60</td>\n",
       "      <td>83.15</td>\n",
       "      <td>-3.45</td>\n",
       "    </tr>\n",
       "  </tbody>\n",
       "</table>\n",
       "</div>"
      ],
      "text/plain": [
       "                surface  total_fg  avg_predicted_successful_fg  \\\n",
       "3             FieldTurf       475                        86.89   \n",
       "6  UBU Speed Series S5M       303                        87.13   \n",
       "4                 Grass      1860                        86.04   \n",
       "5          MomentumTurf       130                        85.53   \n",
       "0          A Turf Titan       122                        86.99   \n",
       "2        DD GrassMaster       178                        86.60   \n",
       "\n",
       "   avg_successful_fg  avg_vs_prediction_fg  \n",
       "3              88.84                  1.95  \n",
       "6              87.79                  0.66  \n",
       "4              85.00                 -1.04  \n",
       "5              83.08                 -2.46  \n",
       "0              84.43                 -2.56  \n",
       "2              83.15                 -3.45  "
      ]
     },
     "execution_count": 310,
     "metadata": {},
     "output_type": "execute_result"
    }
   ],
   "source": [
    "#--- aggregate the data to calculate each field surfaces's expected field goal % vs. actual % for all seasons\n",
    "\n",
    "surface_fg_success = (\n",
    "    fg_predict_adj_df.groupby(['surface'], as_index=False)\n",
    "    .agg(\n",
    "        # Get the number of field goal attempts\n",
    "        total_fg = pd.NamedAgg(column = 'make-vs-prediction', aggfunc = 'count'),\n",
    "        # Get the predicted number of successful attempts\n",
    "        avg_predicted_successful_fg = pd.NamedAgg(column = 'make-prediction', aggfunc = mean_perc),\n",
    "        # Get the actual number of successful kicks\n",
    "        avg_successful_fg = pd.NamedAgg(column = 'make', aggfunc = mean_perc),\n",
    "        # Get the difference between actual and predicted success\n",
    "        avg_vs_prediction_fg = pd.NamedAgg(column = 'make-vs-prediction', aggfunc = mean_perc))\n",
    "    .sort_values('avg_vs_prediction_fg', ascending=False)\n",
    "    .query(\"`total_fg` >= 100\")) # remove field surfaces that have a low sample-size of field goal attempts (< 100)\n",
    "\n",
    "surface_fg_success"
   ]
  },
  {
   "cell_type": "markdown",
   "id": "12c4b6db",
   "metadata": {},
   "source": [
    "#### After accounting for wind, 'FieldTurf' has been the easiest surface to kick field goals, with a relative success rate of +1.95%. \n",
    "This means that 1.95% more field goals have been kicked than expected (given the distance and wind speeds of each kick)."
   ]
  },
  {
   "cell_type": "markdown",
   "id": "20a108a2",
   "metadata": {},
   "source": [
    "#### 'DD GrassMaster' has been the toughest surface to kick field goals, with a relative success rate of -3.45%. \n",
    "This means that 3.45% less field goals have been kicked than expected (given the distance of each kick)."
   ]
  },
  {
   "cell_type": "code",
   "execution_count": 311,
   "id": "2c676237",
   "metadata": {},
   "outputs": [
    {
     "data": {
      "text/html": [
       "<div>\n",
       "<style scoped>\n",
       "    .dataframe tbody tr th:only-of-type {\n",
       "        vertical-align: middle;\n",
       "    }\n",
       "\n",
       "    .dataframe tbody tr th {\n",
       "        vertical-align: top;\n",
       "    }\n",
       "\n",
       "    .dataframe thead th {\n",
       "        text-align: right;\n",
       "    }\n",
       "</style>\n",
       "<table border=\"1\" class=\"dataframe\">\n",
       "  <thead>\n",
       "    <tr style=\"text-align: right;\">\n",
       "      <th></th>\n",
       "      <th>away</th>\n",
       "      <th>total_fg</th>\n",
       "      <th>avg_predicted_successful_fg</th>\n",
       "      <th>avg_successful_fg</th>\n",
       "      <th>avg_vs_prediction_fg</th>\n",
       "    </tr>\n",
       "  </thead>\n",
       "  <tbody>\n",
       "    <tr>\n",
       "      <th>0</th>\n",
       "      <td>0</td>\n",
       "      <td>1579</td>\n",
       "      <td>86.45</td>\n",
       "      <td>86.13</td>\n",
       "      <td>-0.31</td>\n",
       "    </tr>\n",
       "    <tr>\n",
       "      <th>1</th>\n",
       "      <td>1</td>\n",
       "      <td>1519</td>\n",
       "      <td>86.20</td>\n",
       "      <td>85.32</td>\n",
       "      <td>-0.88</td>\n",
       "    </tr>\n",
       "  </tbody>\n",
       "</table>\n",
       "</div>"
      ],
      "text/plain": [
       "   away  total_fg  avg_predicted_successful_fg  avg_successful_fg  \\\n",
       "0     0      1579                        86.45              86.13   \n",
       "1     1      1519                        86.20              85.32   \n",
       "\n",
       "   avg_vs_prediction_fg  \n",
       "0                 -0.31  \n",
       "1                 -0.88  "
      ]
     },
     "execution_count": 311,
     "metadata": {},
     "output_type": "execute_result"
    }
   ],
   "source": [
    "#--- aggregate the data to calculate the expected field goal % vs. actual % for the home-team and away-team\n",
    "\n",
    "home_advantage_fg_success = (\n",
    "    fg_predict_adj_df.groupby(['away'], as_index=False)\n",
    "    .agg(\n",
    "        # Get the number of field goal attempts\n",
    "        total_fg = pd.NamedAgg(column = 'make-vs-prediction', aggfunc = 'count'),\n",
    "        # Get the predicted number of successful attempts\n",
    "        avg_predicted_successful_fg = pd.NamedAgg(column = 'make-prediction', aggfunc = mean_perc),\n",
    "        # Get the actual number of successful kicks\n",
    "        avg_successful_fg = pd.NamedAgg(column = 'make', aggfunc = mean_perc),\n",
    "        # Get the difference between actual and predicted success\n",
    "        avg_vs_prediction_fg = pd.NamedAgg(column = 'make-vs-prediction', aggfunc = mean_perc))\n",
    "    .sort_values('avg_vs_prediction_fg', ascending=False))\n",
    "\n",
    "home_advantage_fg_success"
   ]
  },
  {
   "cell_type": "markdown",
   "id": "c76b9326",
   "metadata": {},
   "source": [
    "#### The advantage of kicking a field goal in front of a home crowd is more obvious once accounting for wind speeds, with home-team kicks being 1.19% more successful than away-team kicks"
   ]
  },
  {
   "cell_type": "code",
   "execution_count": null,
   "id": "9ddbfb9c",
   "metadata": {},
   "outputs": [],
   "source": []
  }
 ],
 "metadata": {
  "kernelspec": {
   "display_name": "Python 3 (ipykernel)",
   "language": "python",
   "name": "python3"
  },
  "language_info": {
   "codemirror_mode": {
    "name": "ipython",
    "version": 3
   },
   "file_extension": ".py",
   "mimetype": "text/x-python",
   "name": "python",
   "nbconvert_exporter": "python",
   "pygments_lexer": "ipython3",
   "version": "3.9.13"
  }
 },
 "nbformat": 4,
 "nbformat_minor": 5
}
