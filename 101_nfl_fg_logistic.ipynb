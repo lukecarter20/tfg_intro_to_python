{
 "cells": [
  {
   "cell_type": "markdown",
   "id": "c0679780",
   "metadata": {},
   "source": [
    "# Applying a *logistic* regression to NFL field goal data"
   ]
  },
  {
   "cell_type": "markdown",
   "id": "8e01a3f6",
   "metadata": {},
   "source": [
    "### 0. Import required modules"
   ]
  },
  {
   "cell_type": "code",
   "execution_count": 552,
   "id": "261050d2",
   "metadata": {},
   "outputs": [],
   "source": [
    "import pandas as pd #import pandas library for data manipulation (https://pandas.pydata.org/)\n",
    "import numpy as np #import the 'NumPy' module for scientific computing with Python (https://numpy.org/)\n",
    "import plotly.express as px\n",
    "import statistics as st\n",
    "import math"
   ]
  },
  {
   "cell_type": "code",
   "execution_count": 553,
   "id": "03596e71",
   "metadata": {},
   "outputs": [],
   "source": [
    "%run -i 'SportsAnalytics.py' #source required functions for building a logistic regression and plotting the results"
   ]
  },
  {
   "cell_type": "markdown",
   "id": "9287399f",
   "metadata": {},
   "source": [
    "### 1. Read data as pandas dataframe\n",
    "*see [1. Reading in files using pandas (.csv, .xls, .json)](01_read_files.ipynb)*"
   ]
  },
  {
   "cell_type": "code",
   "execution_count": 554,
   "id": "7c46c792",
   "metadata": {},
   "outputs": [
    {
     "data": {
      "text/html": [
       "<div>\n",
       "<style scoped>\n",
       "    .dataframe tbody tr th:only-of-type {\n",
       "        vertical-align: middle;\n",
       "    }\n",
       "\n",
       "    .dataframe tbody tr th {\n",
       "        vertical-align: top;\n",
       "    }\n",
       "\n",
       "    .dataframe thead th {\n",
       "        text-align: right;\n",
       "    }\n",
       "</style>\n",
       "<table border=\"1\" class=\"dataframe\">\n",
       "  <thead>\n",
       "    <tr style=\"text-align: right;\">\n",
       "      <th></th>\n",
       "      <th>gid</th>\n",
       "      <th>pid</th>\n",
       "      <th>fgxp</th>\n",
       "      <th>dist</th>\n",
       "      <th>make</th>\n",
       "      <th>season</th>\n",
       "      <th>postseason</th>\n",
       "      <th>away</th>\n",
       "      <th>stadium</th>\n",
       "      <th>temp</th>\n",
       "      <th>humidity</th>\n",
       "      <th>wind-spd</th>\n",
       "      <th>cond</th>\n",
       "      <th>surface</th>\n",
       "      <th>player id</th>\n",
       "      <th>player</th>\n",
       "    </tr>\n",
       "  </thead>\n",
       "  <tbody>\n",
       "    <tr>\n",
       "      <th>0</th>\n",
       "      <td>3189</td>\n",
       "      <td>518667</td>\n",
       "      <td>FG</td>\n",
       "      <td>33</td>\n",
       "      <td>1</td>\n",
       "      <td>2012</td>\n",
       "      <td>0</td>\n",
       "      <td>1</td>\n",
       "      <td>MetLife Stadium</td>\n",
       "      <td>77</td>\n",
       "      <td>63</td>\n",
       "      <td>5</td>\n",
       "      <td>Fair</td>\n",
       "      <td>FieldTurf</td>\n",
       "      <td>DB-0200</td>\n",
       "      <td>Dan Bailey</td>\n",
       "    </tr>\n",
       "    <tr>\n",
       "      <th>1</th>\n",
       "      <td>3190</td>\n",
       "      <td>518780</td>\n",
       "      <td>FG</td>\n",
       "      <td>35</td>\n",
       "      <td>1</td>\n",
       "      <td>2012</td>\n",
       "      <td>0</td>\n",
       "      <td>0</td>\n",
       "      <td>Soldier Field</td>\n",
       "      <td>67</td>\n",
       "      <td>66</td>\n",
       "      <td>13</td>\n",
       "      <td>Partly Cloudy</td>\n",
       "      <td>Grass</td>\n",
       "      <td>RG-1500</td>\n",
       "      <td>Robbie Gould</td>\n",
       "    </tr>\n",
       "    <tr>\n",
       "      <th>2</th>\n",
       "      <td>3190</td>\n",
       "      <td>518806</td>\n",
       "      <td>FG</td>\n",
       "      <td>37</td>\n",
       "      <td>0</td>\n",
       "      <td>2012</td>\n",
       "      <td>0</td>\n",
       "      <td>1</td>\n",
       "      <td>Soldier Field</td>\n",
       "      <td>67</td>\n",
       "      <td>66</td>\n",
       "      <td>13</td>\n",
       "      <td>Partly Cloudy</td>\n",
       "      <td>Grass</td>\n",
       "      <td>AV-0400</td>\n",
       "      <td>Adam Vinatieri</td>\n",
       "    </tr>\n",
       "    <tr>\n",
       "      <th>3</th>\n",
       "      <td>3190</td>\n",
       "      <td>518822</td>\n",
       "      <td>FG</td>\n",
       "      <td>26</td>\n",
       "      <td>1</td>\n",
       "      <td>2012</td>\n",
       "      <td>0</td>\n",
       "      <td>0</td>\n",
       "      <td>Soldier Field</td>\n",
       "      <td>67</td>\n",
       "      <td>66</td>\n",
       "      <td>13</td>\n",
       "      <td>Partly Cloudy</td>\n",
       "      <td>Grass</td>\n",
       "      <td>RG-1500</td>\n",
       "      <td>Robbie Gould</td>\n",
       "    </tr>\n",
       "    <tr>\n",
       "      <th>4</th>\n",
       "      <td>3191</td>\n",
       "      <td>518902</td>\n",
       "      <td>FG</td>\n",
       "      <td>43</td>\n",
       "      <td>1</td>\n",
       "      <td>2012</td>\n",
       "      <td>0</td>\n",
       "      <td>0</td>\n",
       "      <td>Cleveland Browns Stadium</td>\n",
       "      <td>68</td>\n",
       "      <td>57</td>\n",
       "      <td>9</td>\n",
       "      <td>Sunny</td>\n",
       "      <td>Grass</td>\n",
       "      <td>PD-0200</td>\n",
       "      <td>Phil Dawson</td>\n",
       "    </tr>\n",
       "  </tbody>\n",
       "</table>\n",
       "</div>"
      ],
      "text/plain": [
       "    gid     pid fgxp  dist  make  season  postseason  away  \\\n",
       "0  3189  518667   FG    33     1    2012           0     1   \n",
       "1  3190  518780   FG    35     1    2012           0     0   \n",
       "2  3190  518806   FG    37     0    2012           0     1   \n",
       "3  3190  518822   FG    26     1    2012           0     0   \n",
       "4  3191  518902   FG    43     1    2012           0     0   \n",
       "\n",
       "                    stadium  temp  humidity  wind-spd           cond  \\\n",
       "0           MetLife Stadium    77        63         5           Fair   \n",
       "1             Soldier Field    67        66        13  Partly Cloudy   \n",
       "2             Soldier Field    67        66        13  Partly Cloudy   \n",
       "3             Soldier Field    67        66        13  Partly Cloudy   \n",
       "4  Cleveland Browns Stadium    68        57         9          Sunny   \n",
       "\n",
       "     surface player id          player  \n",
       "0  FieldTurf   DB-0200      Dan Bailey  \n",
       "1      Grass   RG-1500    Robbie Gould  \n",
       "2      Grass   AV-0400  Adam Vinatieri  \n",
       "3      Grass   RG-1500    Robbie Gould  \n",
       "4      Grass   PD-0200     Phil Dawson  "
      ]
     },
     "execution_count": 554,
     "metadata": {},
     "output_type": "execute_result"
    }
   ],
   "source": [
    "#--- read in 'raw_data' sheet from 'nfl_field_goal_sol.xlsx' file using pandas read_excel function\n",
    "fg_df = pd.read_excel('nfl_field_goal_sol.xlsx', sheet_name = 'raw_data')\n",
    "fg_df.head() #display the head (first 5 rows) of field_goal_df"
   ]
  },
  {
   "cell_type": "markdown",
   "id": "6b9213a0",
   "metadata": {},
   "source": [
    "### 2. Split data into train and test dataframes\n",
    "*see section 5 in [3. Manipulating pandas dataframes](03_manipulate_data.ipynb)*"
   ]
  },
  {
   "cell_type": "code",
   "execution_count": 555,
   "id": "91bdb206",
   "metadata": {},
   "outputs": [],
   "source": [
    "#--- subset data into train and test dataframes by season < 2016\n",
    "fg_train_df = fg_df[fg_df['season'] < 2016]\n",
    "fg_test_df = fg_df[fg_df['season'] >= 2016]"
   ]
  },
  {
   "cell_type": "markdown",
   "id": "08f8cdd6",
   "metadata": {},
   "source": [
    "### 3. Fitting a logistic regression\n",
    "*see [4. Modelling data using logistic regression](04_logistic_regression.ipynb)*"
   ]
  },
  {
   "cell_type": "code",
   "execution_count": 556,
   "id": "f1d388e2",
   "metadata": {},
   "outputs": [
    {
     "name": "stdout",
     "output_type": "stream",
     "text": [
      "Optimization terminated successfully.\n",
      "         Current function value: 0.349091\n",
      "         Iterations 7\n",
      "                      const    dist\n",
      "make                               \n",
      "Coefficients         6.3299 -0.1085\n",
      "Std error            0.2947  0.0065\n",
      "p-value              0.0000  0.0000\n",
      "Log-likelihood   -1125.4691        \n",
      "Number valid obs  3222.0000        \n",
      "Total obs         3224.0000        \n"
     ]
    }
   ],
   "source": [
    "#--- Use the LogisticRegTrain() function from 'SportsAnalytics.py' to build a logistic regression model\n",
    "model = LogisticRegTrain(X = fg_train_df['dist'], Y = fg_train_df['make'])"
   ]
  },
  {
   "cell_type": "code",
   "execution_count": 557,
   "id": "439f5947",
   "metadata": {},
   "outputs": [
    {
     "data": {
      "text/html": [
       "<div>\n",
       "<style scoped>\n",
       "    .dataframe tbody tr th:only-of-type {\n",
       "        vertical-align: middle;\n",
       "    }\n",
       "\n",
       "    .dataframe tbody tr th {\n",
       "        vertical-align: top;\n",
       "    }\n",
       "\n",
       "    .dataframe thead th {\n",
       "        text-align: right;\n",
       "    }\n",
       "</style>\n",
       "<table border=\"1\" class=\"dataframe\">\n",
       "  <thead>\n",
       "    <tr style=\"text-align: right;\">\n",
       "      <th></th>\n",
       "      <th>Bins</th>\n",
       "      <th>Count</th>\n",
       "      <th>Avg dist</th>\n",
       "      <th>Avg make</th>\n",
       "      <th>Stderr make</th>\n",
       "    </tr>\n",
       "  </thead>\n",
       "  <tbody>\n",
       "    <tr>\n",
       "      <th>0</th>\n",
       "      <td>[18,19)</td>\n",
       "      <td>6</td>\n",
       "      <td>18.00</td>\n",
       "      <td>1.00</td>\n",
       "      <td>0.00</td>\n",
       "    </tr>\n",
       "    <tr>\n",
       "      <th>1</th>\n",
       "      <td>[19,20)</td>\n",
       "      <td>37</td>\n",
       "      <td>19.00</td>\n",
       "      <td>1.00</td>\n",
       "      <td>0.00</td>\n",
       "    </tr>\n",
       "    <tr>\n",
       "      <th>2</th>\n",
       "      <td>[20,21)</td>\n",
       "      <td>81</td>\n",
       "      <td>20.00</td>\n",
       "      <td>1.00</td>\n",
       "      <td>0.00</td>\n",
       "    </tr>\n",
       "    <tr>\n",
       "      <th>3</th>\n",
       "      <td>[21,22)</td>\n",
       "      <td>66</td>\n",
       "      <td>21.00</td>\n",
       "      <td>1.00</td>\n",
       "      <td>0.00</td>\n",
       "    </tr>\n",
       "    <tr>\n",
       "      <th>4</th>\n",
       "      <td>[22,23)</td>\n",
       "      <td>82</td>\n",
       "      <td>22.00</td>\n",
       "      <td>0.99</td>\n",
       "      <td>0.02</td>\n",
       "    </tr>\n",
       "  </tbody>\n",
       "</table>\n",
       "</div>"
      ],
      "text/plain": [
       "      Bins  Count  Avg dist  Avg make  Stderr make\n",
       "0  [18,19)      6     18.00      1.00         0.00\n",
       "1  [19,20)     37     19.00      1.00         0.00\n",
       "2  [20,21)     81     20.00      1.00         0.00\n",
       "3  [21,22)     66     21.00      1.00         0.00\n",
       "4  [22,23)     82     22.00      0.99         0.02"
      ]
     },
     "execution_count": 557,
     "metadata": {},
     "output_type": "execute_result"
    }
   ],
   "source": [
    "#--- Find the min and max values of x\n",
    "min_x = min(fg_train_df['dist'])\n",
    "max_x = max(fg_train_df['dist'])\n",
    "\n",
    "#--- Use the Binned_stats() function from 'SportsAnalytics.py' to aggregate y for buckets/bins of x\n",
    "binned_stats = Binned_stats(\n",
    "    buckets = range(min_x, max_x), \n",
    "    col1 = fg_train_df['dist'], \n",
    "    col2 = fg_train_df['make'])\n",
    "\n",
    "binned_stats.head()"
   ]
  },
  {
   "cell_type": "markdown",
   "id": "7e21f6c0",
   "metadata": {},
   "source": [
    "### 4. Plotting the logistic regression"
   ]
  },
  {
   "cell_type": "code",
   "execution_count": 558,
   "id": "feef15d2",
   "metadata": {},
   "outputs": [
    {
     "data": {
      "image/png": "[encoded data removed]",
      "text/plain": [
       "<Figure size 720x576 with 1 Axes>"
      ]
     },
     "execution_count": 558,
     "metadata": {},
     "output_type": "execute_result"
    }
   ],
   "source": [
    "#--- Use the Graph_Binned_stats() function from 'SportsAnalytics.py' to plot binned stats\n",
    "Graph_Binned_stats(binned_stats)"
   ]
  },
  {
   "cell_type": "code",
   "execution_count": 559,
   "id": "49bd4b1a",
   "metadata": {},
   "outputs": [
    {
     "data": {
      "text/html": [
       "<div>\n",
       "<style scoped>\n",
       "    .dataframe tbody tr th:only-of-type {\n",
       "        vertical-align: middle;\n",
       "    }\n",
       "\n",
       "    .dataframe tbody tr th {\n",
       "        vertical-align: top;\n",
       "    }\n",
       "\n",
       "    .dataframe thead th {\n",
       "        text-align: right;\n",
       "    }\n",
       "</style>\n",
       "<table border=\"1\" class=\"dataframe\">\n",
       "  <thead>\n",
       "    <tr style=\"text-align: right;\">\n",
       "      <th></th>\n",
       "      <th>dist</th>\n",
       "      <th>prediction</th>\n",
       "    </tr>\n",
       "  </thead>\n",
       "  <tbody>\n",
       "    <tr>\n",
       "      <th>48</th>\n",
       "      <td>66.00</td>\n",
       "      <td>0.30</td>\n",
       "    </tr>\n",
       "    <tr>\n",
       "      <th>49</th>\n",
       "      <td>67.00</td>\n",
       "      <td>0.28</td>\n",
       "    </tr>\n",
       "    <tr>\n",
       "      <th>50</th>\n",
       "      <td>68.00</td>\n",
       "      <td>0.26</td>\n",
       "    </tr>\n",
       "    <tr>\n",
       "      <th>51</th>\n",
       "      <td>69.00</td>\n",
       "      <td>0.24</td>\n",
       "    </tr>\n",
       "    <tr>\n",
       "      <th>52</th>\n",
       "      <td>70.00</td>\n",
       "      <td>0.22</td>\n",
       "    </tr>\n",
       "  </tbody>\n",
       "</table>\n",
       "</div>"
      ],
      "text/plain": [
       "    dist  prediction\n",
       "48 66.00        0.30\n",
       "49 67.00        0.28\n",
       "50 68.00        0.26\n",
       "51 69.00        0.24\n",
       "52 70.00        0.22"
      ]
     },
     "execution_count": 559,
     "metadata": {},
     "output_type": "execute_result"
    }
   ],
   "source": [
    "#--- Use the LogisticRegPredict() function from 'SportsAnalytics.py' to predict values of y with known values of x\n",
    "model_predict = LogisticRegPredict(model, X = range(min_x, max_x))\n",
    "model_predict.tail()"
   ]
  },
  {
   "cell_type": "code",
   "execution_count": 560,
   "id": "28fae35f",
   "metadata": {},
   "outputs": [
    {
     "data": {
      "image/png": "[encoded data removed]",
      "text/plain": [
       "<Figure size 720x576 with 1 Axes>"
      ]
     },
     "execution_count": 560,
     "metadata": {},
     "output_type": "execute_result"
    }
   ],
   "source": [
    "#--- Use the Graph_Binned_stats_with_prediction() function from 'SportsAnalytics.py' to plot binned stats with an overlay of the logistic model\n",
    "Graph_Binned_stats_with_prediction(\n",
    "    binned_stats, \n",
    "    lineX = model_predict['dist'], \n",
    "    lineY = model_predict['prediction'], \n",
    "    linestyle = 1,\n",
    "    xlims = [15, 75])"
   ]
  },
  {
   "cell_type": "markdown",
   "id": "a81dc4f1",
   "metadata": {},
   "source": [
    "### 5. Model validation with test dataset"
   ]
  },
  {
   "cell_type": "code",
   "execution_count": 561,
   "id": "3d74946c",
   "metadata": {
    "scrolled": true
   },
   "outputs": [],
   "source": [
    "#--- create df for continuous logit predictions \n",
    "fg_test_cont_logit_predict_df = pd.merge(\n",
    "    fg_test_df, \n",
    "    model_predict.rename(columns={'prediction':'make-prediction'}), \n",
    "    on='dist')\n",
    "fg_test_cont_logit_predict_df['model'] = 'cont-logit'"
   ]
  },
  {
   "cell_type": "code",
   "execution_count": 562,
   "id": "ce31f501",
   "metadata": {},
   "outputs": [],
   "source": [
    "#--- create df for discrete logit predictions \n",
    "fg_test_disc_logit_predict_df = fg_test_cont_logit_predict_df.copy()\n",
    "fg_test_disc_logit_predict_df['make-prediction'] = np.where(\n",
    "    fg_test_disc_logit_predict_df['make-prediction']<0.5, 0, 1)\n",
    "fg_test_disc_logit_predict_df['model'] = 'disc-logit'"
   ]
  },
  {
   "cell_type": "code",
   "execution_count": 563,
   "id": "58ab523a",
   "metadata": {
    "scrolled": true
   },
   "outputs": [],
   "source": [
    "#--- create df for continuous random predictions\n",
    "random.seed(10)\n",
    "fg_test_cont_rand_predict_df = fg_test_df.copy()\n",
    "fg_test_cont_rand_predict_df['make-prediction'] = np.random.uniform(\n",
    "    0, 1, size = len(fg_test_cont_rand_predict_df.index))\n",
    "fg_test_cont_rand_predict_df['model'] = 'cont-rand'"
   ]
  },
  {
   "cell_type": "code",
   "execution_count": 564,
   "id": "26265bb4",
   "metadata": {},
   "outputs": [],
   "source": [
    "#--- create df for discrete random predictions\n",
    "random.seed(10)\n",
    "fg_test_disc_rand_predict_df = fg_test_df.copy()\n",
    "fg_test_disc_rand_predict_df['make-prediction'] = np.random.choice(\n",
    "    [0, 1], len(fg_test_disc_rand_predict_df.index), p=[0.5, 0.5])\n",
    "fg_test_disc_rand_predict_df['model'] = 'disc-rand'"
   ]
  },
  {
   "cell_type": "code",
   "execution_count": 565,
   "id": "bdd139b7",
   "metadata": {
    "scrolled": true
   },
   "outputs": [],
   "source": [
    "#--- create df for mean average predictions\n",
    "fg_test_avg_predict_df = fg_test_df.copy()\n",
    "fg_test_avg_predict_df['make-prediction'] = st.mean(fg_train_df['make'])\n",
    "fg_test_avg_predict_df['model'] = 'avg'"
   ]
  },
  {
   "cell_type": "code",
   "execution_count": 566,
   "id": "e32800cd",
   "metadata": {},
   "outputs": [],
   "source": [
    "#--- bind the 5 varied model predictions togteher \n",
    "all_models = pd.concat([fg_test_cont_logit_predict_df, \n",
    "                       fg_test_disc_logit_predict_df,\n",
    "                       fg_test_cont_rand_predict_df,\n",
    "                       fg_test_disc_rand_predict_df,\n",
    "                       fg_test_avg_predict_df])\n",
    "\n",
    "#create erorr variable for each prediction (actual-prediction)\n",
    "all_models['error'] = all_models['make']-all_models['make-prediction']"
   ]
  },
  {
   "cell_type": "code",
   "execution_count": 567,
   "id": "d5eefb0d",
   "metadata": {},
   "outputs": [],
   "source": [
    "#--- create functions for MAE, MSE and RMSE validation metrics\n",
    "def mae(x):\n",
    "    res = abs(x).mean() \n",
    "    return res\n",
    "\n",
    "def mse(x):\n",
    "    res = np.square(x).mean() \n",
    "    return res\n",
    "    \n",
    "def rmse(x):\n",
    "    res = math.sqrt(np.square(x).mean())\n",
    "    return res\n",
    "\n",
    "def mean_perc(x):\n",
    "    res = x.mean()*100\n",
    "    return res"
   ]
  },
  {
   "cell_type": "code",
   "execution_count": 568,
   "id": "34630c36",
   "metadata": {},
   "outputs": [
    {
     "data": {
      "text/html": [
       "<div>\n",
       "<style scoped>\n",
       "    .dataframe tbody tr th:only-of-type {\n",
       "        vertical-align: middle;\n",
       "    }\n",
       "\n",
       "    .dataframe tbody tr th {\n",
       "        vertical-align: top;\n",
       "    }\n",
       "\n",
       "    .dataframe thead th {\n",
       "        text-align: right;\n",
       "    }\n",
       "</style>\n",
       "<table border=\"1\" class=\"dataframe\">\n",
       "  <thead>\n",
       "    <tr style=\"text-align: right;\">\n",
       "      <th></th>\n",
       "      <th>model</th>\n",
       "      <th>me</th>\n",
       "      <th>mae</th>\n",
       "      <th>mse</th>\n",
       "      <th>rmse</th>\n",
       "    </tr>\n",
       "  </thead>\n",
       "  <tbody>\n",
       "    <tr>\n",
       "      <th>1</th>\n",
       "      <td>cont-logit</td>\n",
       "      <td>-0.00</td>\n",
       "      <td>0.21</td>\n",
       "      <td>0.11</td>\n",
       "      <td>0.33</td>\n",
       "    </tr>\n",
       "    <tr>\n",
       "      <th>0</th>\n",
       "      <td>avg</td>\n",
       "      <td>-0.00</td>\n",
       "      <td>0.25</td>\n",
       "      <td>0.12</td>\n",
       "      <td>0.35</td>\n",
       "    </tr>\n",
       "    <tr>\n",
       "      <th>3</th>\n",
       "      <td>disc-logit</td>\n",
       "      <td>-0.14</td>\n",
       "      <td>0.14</td>\n",
       "      <td>0.14</td>\n",
       "      <td>0.38</td>\n",
       "    </tr>\n",
       "    <tr>\n",
       "      <th>2</th>\n",
       "      <td>cont-rand</td>\n",
       "      <td>0.37</td>\n",
       "      <td>0.50</td>\n",
       "      <td>0.33</td>\n",
       "      <td>0.58</td>\n",
       "    </tr>\n",
       "    <tr>\n",
       "      <th>4</th>\n",
       "      <td>disc-rand</td>\n",
       "      <td>0.34</td>\n",
       "      <td>0.48</td>\n",
       "      <td>0.48</td>\n",
       "      <td>0.69</td>\n",
       "    </tr>\n",
       "  </tbody>\n",
       "</table>\n",
       "</div>"
      ],
      "text/plain": [
       "        model    me  mae  mse  rmse\n",
       "1  cont-logit -0.00 0.21 0.11  0.33\n",
       "0         avg -0.00 0.25 0.12  0.35\n",
       "3  disc-logit -0.14 0.14 0.14  0.38\n",
       "2   cont-rand  0.37 0.50 0.33  0.58\n",
       "4   disc-rand  0.34 0.48 0.48  0.69"
      ]
     },
     "execution_count": 568,
     "metadata": {},
     "output_type": "execute_result"
    }
   ],
   "source": [
    "#--- apply model validation functions to each model \n",
    "model_results = (\n",
    "    all_models.groupby(['model'], as_index=False)\n",
    "    .agg(\n",
    "        # Get mean erorr for each model type\n",
    "        me = pd.NamedAgg(column = 'error', aggfunc = 'mean'),\n",
    "        # Get mean abs erorr for each model type\n",
    "        mae = pd.NamedAgg(column = 'error', aggfunc = mae),\n",
    "        # Get mean square erorr for each model type\n",
    "        mse = pd.NamedAgg(column = 'error', aggfunc = mse),\n",
    "        # Get mean square erorr for each model type\n",
    "        rmse = pd.NamedAgg(column = 'error', aggfunc = rmse)\n",
    "    )\n",
    "    .sort_values('rmse', ascending=True))\n",
    "\n",
    "model_results"
   ]
  },
  {
   "cell_type": "markdown",
   "id": "15a0282d",
   "metadata": {},
   "source": [
    "#### Results of model validation...  \n",
    "This result tells us that the logistic model continuous predictions have an average absolute erorr of 21% from the actual results.  \n",
    "This is 4% better than always assuming the average make % of a field goal (~86%) and ~30% better than having both continuous and discrete random predictions for each field goal attempt.  \n",
    "Interestingly, the discrete predictions from the logistic model have a lower mean-absolute-error (mae) at 14%, but a higher root-mean-square-error at 38%.  \n",
    "This provides us with the validation we need to move forward with applying the logistic regression to the original dataset. "
   ]
  },
  {
   "cell_type": "markdown",
   "id": "5e073fdb",
   "metadata": {},
   "source": [
    "### 6. Apply logistic regression to orginal dataset \n",
    "*see section 4 in [3. Manipulating pandas dataframes](03_manipulate_data.ipynb)*"
   ]
  },
  {
   "cell_type": "code",
   "execution_count": 569,
   "id": "e1c422f0",
   "metadata": {},
   "outputs": [
    {
     "data": {
      "text/html": [
       "<div>\n",
       "<style scoped>\n",
       "    .dataframe tbody tr th:only-of-type {\n",
       "        vertical-align: middle;\n",
       "    }\n",
       "\n",
       "    .dataframe tbody tr th {\n",
       "        vertical-align: top;\n",
       "    }\n",
       "\n",
       "    .dataframe thead th {\n",
       "        text-align: right;\n",
       "    }\n",
       "</style>\n",
       "<table border=\"1\" class=\"dataframe\">\n",
       "  <thead>\n",
       "    <tr style=\"text-align: right;\">\n",
       "      <th></th>\n",
       "      <th>gid</th>\n",
       "      <th>pid</th>\n",
       "      <th>fgxp</th>\n",
       "      <th>dist</th>\n",
       "      <th>make</th>\n",
       "      <th>season</th>\n",
       "      <th>postseason</th>\n",
       "      <th>away</th>\n",
       "      <th>stadium</th>\n",
       "      <th>temp</th>\n",
       "      <th>humidity</th>\n",
       "      <th>wind-spd</th>\n",
       "      <th>cond</th>\n",
       "      <th>surface</th>\n",
       "      <th>player id</th>\n",
       "      <th>player</th>\n",
       "      <th>make-prediction</th>\n",
       "      <th>make-vs-prediction</th>\n",
       "    </tr>\n",
       "  </thead>\n",
       "  <tbody>\n",
       "    <tr>\n",
       "      <th>0</th>\n",
       "      <td>3189</td>\n",
       "      <td>518667</td>\n",
       "      <td>FG</td>\n",
       "      <td>33</td>\n",
       "      <td>1</td>\n",
       "      <td>2012</td>\n",
       "      <td>0</td>\n",
       "      <td>1</td>\n",
       "      <td>MetLife Stadium</td>\n",
       "      <td>77</td>\n",
       "      <td>63</td>\n",
       "      <td>5</td>\n",
       "      <td>Fair</td>\n",
       "      <td>FieldTurf</td>\n",
       "      <td>DB-0200</td>\n",
       "      <td>Dan Bailey</td>\n",
       "      <td>0.94</td>\n",
       "      <td>0.06</td>\n",
       "    </tr>\n",
       "    <tr>\n",
       "      <th>1</th>\n",
       "      <td>3207</td>\n",
       "      <td>521630</td>\n",
       "      <td>FG</td>\n",
       "      <td>33</td>\n",
       "      <td>1</td>\n",
       "      <td>2012</td>\n",
       "      <td>0</td>\n",
       "      <td>1</td>\n",
       "      <td>Ralph Wilson Stadium</td>\n",
       "      <td>66</td>\n",
       "      <td>55</td>\n",
       "      <td>11</td>\n",
       "      <td>Mostly Sunny</td>\n",
       "      <td>A Turf Titan</td>\n",
       "      <td>RS-3400</td>\n",
       "      <td>Ryan Succop</td>\n",
       "      <td>0.94</td>\n",
       "      <td>0.06</td>\n",
       "    </tr>\n",
       "    <tr>\n",
       "      <th>2</th>\n",
       "      <td>3214</td>\n",
       "      <td>522794</td>\n",
       "      <td>FG</td>\n",
       "      <td>33</td>\n",
       "      <td>1</td>\n",
       "      <td>2012</td>\n",
       "      <td>0</td>\n",
       "      <td>0</td>\n",
       "      <td>Edward Jones Dome</td>\n",
       "      <td>-999</td>\n",
       "      <td>-999</td>\n",
       "      <td>-999</td>\n",
       "      <td>Dome</td>\n",
       "      <td>AstroTurf</td>\n",
       "      <td>GZ-2000</td>\n",
       "      <td>Greg Zuerlein</td>\n",
       "      <td>0.94</td>\n",
       "      <td>0.06</td>\n",
       "    </tr>\n",
       "    <tr>\n",
       "      <th>3</th>\n",
       "      <td>3226</td>\n",
       "      <td>524757</td>\n",
       "      <td>FG</td>\n",
       "      <td>33</td>\n",
       "      <td>1</td>\n",
       "      <td>2012</td>\n",
       "      <td>0</td>\n",
       "      <td>1</td>\n",
       "      <td>Sun Life Stadium</td>\n",
       "      <td>83</td>\n",
       "      <td>76</td>\n",
       "      <td>4</td>\n",
       "      <td>Mostly Cloudy</td>\n",
       "      <td>Grass</td>\n",
       "      <td>NF-0300</td>\n",
       "      <td>Nick Folk</td>\n",
       "      <td>0.94</td>\n",
       "      <td>0.06</td>\n",
       "    </tr>\n",
       "    <tr>\n",
       "      <th>4</th>\n",
       "      <td>3226</td>\n",
       "      <td>524888</td>\n",
       "      <td>FG</td>\n",
       "      <td>33</td>\n",
       "      <td>1</td>\n",
       "      <td>2012</td>\n",
       "      <td>0</td>\n",
       "      <td>1</td>\n",
       "      <td>Sun Life Stadium</td>\n",
       "      <td>83</td>\n",
       "      <td>76</td>\n",
       "      <td>4</td>\n",
       "      <td>Mostly Cloudy</td>\n",
       "      <td>Grass</td>\n",
       "      <td>NF-0300</td>\n",
       "      <td>Nick Folk</td>\n",
       "      <td>0.94</td>\n",
       "      <td>0.06</td>\n",
       "    </tr>\n",
       "  </tbody>\n",
       "</table>\n",
       "</div>"
      ],
      "text/plain": [
       "    gid     pid fgxp  dist  make  season  postseason  away  \\\n",
       "0  3189  518667   FG    33     1    2012           0     1   \n",
       "1  3207  521630   FG    33     1    2012           0     1   \n",
       "2  3214  522794   FG    33     1    2012           0     0   \n",
       "3  3226  524757   FG    33     1    2012           0     1   \n",
       "4  3226  524888   FG    33     1    2012           0     1   \n",
       "\n",
       "                stadium  temp  humidity  wind-spd           cond  \\\n",
       "0       MetLife Stadium    77        63         5           Fair   \n",
       "1  Ralph Wilson Stadium    66        55        11   Mostly Sunny   \n",
       "2     Edward Jones Dome  -999      -999      -999           Dome   \n",
       "3      Sun Life Stadium    83        76         4  Mostly Cloudy   \n",
       "4      Sun Life Stadium    83        76         4  Mostly Cloudy   \n",
       "\n",
       "        surface player id         player  make-prediction  make-vs-prediction  \n",
       "0     FieldTurf   DB-0200     Dan Bailey             0.94                0.06  \n",
       "1  A Turf Titan   RS-3400    Ryan Succop             0.94                0.06  \n",
       "2     AstroTurf   GZ-2000  Greg Zuerlein             0.94                0.06  \n",
       "3         Grass   NF-0300      Nick Folk             0.94                0.06  \n",
       "4         Grass   NF-0300      Nick Folk             0.94                0.06  "
      ]
     },
     "execution_count": 569,
     "metadata": {},
     "output_type": "execute_result"
    }
   ],
   "source": [
    "#--- apply logistic regression continuous predictions to original df 'fg_df'\n",
    "fg_predict_df = fg_df.merge(model_predict.rename(columns={'prediction':'make-prediction'}), on='dist')\n",
    "fg_predict_df['make-vs-prediction'] = fg_predict_df['make']-fg_predict_df['make-prediction']\n",
    "fg_predict_df.head()"
   ]
  },
  {
   "cell_type": "code",
   "execution_count": 570,
   "id": "72401001",
   "metadata": {},
   "outputs": [],
   "source": [
    "fg_predict_df.to_excel('field_goal_predict_df.xlsx') #write field goal dataframe with logit predictions to excel file"
   ]
  },
  {
   "cell_type": "markdown",
   "id": "b3eeb3cd",
   "metadata": {},
   "source": [
    "### 7. Aggregate results of logistic regression predictions\n",
    "\n",
    "In this section we are going to take the application of the logisitic regression model and use it to answer a number of questions...  \n",
    "1. Who are the best and worst kickers? \n",
    "2. Which kicker has had the most successful season?\n",
    "3. Which stadium is the toughest to kick a field goal in? \n",
    "4. Which surfaces are the easiest and toughest to kick a field goal on?\n",
    "5. Does home advantage exist for kicking field goals?  \n",
    "\n",
    "*see section 9 in [3. Manipulating pandas dataframes](03_manipulate_data.ipynb)*"
   ]
  },
  {
   "cell_type": "code",
   "execution_count": 571,
   "id": "f6b0690f",
   "metadata": {},
   "outputs": [
    {
     "data": {
      "text/html": [
       "<div>\n",
       "<style scoped>\n",
       "    .dataframe tbody tr th:only-of-type {\n",
       "        vertical-align: middle;\n",
       "    }\n",
       "\n",
       "    .dataframe tbody tr th {\n",
       "        vertical-align: top;\n",
       "    }\n",
       "\n",
       "    .dataframe thead th {\n",
       "        text-align: right;\n",
       "    }\n",
       "</style>\n",
       "<table border=\"1\" class=\"dataframe\">\n",
       "  <thead>\n",
       "    <tr style=\"text-align: right;\">\n",
       "      <th></th>\n",
       "      <th>player</th>\n",
       "      <th>player id</th>\n",
       "      <th>total_fg</th>\n",
       "      <th>predicted_successful_fg</th>\n",
       "      <th>successful_fg</th>\n",
       "      <th>vs_prediction_fg</th>\n",
       "    </tr>\n",
       "  </thead>\n",
       "  <tbody>\n",
       "    <tr>\n",
       "      <th>17</th>\n",
       "      <td>Justin Tucker</td>\n",
       "      <td>JT-3950</td>\n",
       "      <td>195</td>\n",
       "      <td>164.07</td>\n",
       "      <td>176</td>\n",
       "      <td>11.93</td>\n",
       "    </tr>\n",
       "    <tr>\n",
       "      <th>9</th>\n",
       "      <td>Dan Bailey</td>\n",
       "      <td>DB-0200</td>\n",
       "      <td>160</td>\n",
       "      <td>135.14</td>\n",
       "      <td>143</td>\n",
       "      <td>7.86</td>\n",
       "    </tr>\n",
       "    <tr>\n",
       "      <th>30</th>\n",
       "      <td>Stephen Gostkowski</td>\n",
       "      <td>SG-0800</td>\n",
       "      <td>198</td>\n",
       "      <td>172.33</td>\n",
       "      <td>179</td>\n",
       "      <td>6.67</td>\n",
       "    </tr>\n",
       "    <tr>\n",
       "      <th>0</th>\n",
       "      <td>Adam Vinatieri</td>\n",
       "      <td>AV-0400</td>\n",
       "      <td>176</td>\n",
       "      <td>149.16</td>\n",
       "      <td>154</td>\n",
       "      <td>4.84</td>\n",
       "    </tr>\n",
       "    <tr>\n",
       "      <th>31</th>\n",
       "      <td>Steven Hauschka</td>\n",
       "      <td>SH-0400</td>\n",
       "      <td>187</td>\n",
       "      <td>164.76</td>\n",
       "      <td>169</td>\n",
       "      <td>4.24</td>\n",
       "    </tr>\n",
       "  </tbody>\n",
       "</table>\n",
       "</div>"
      ],
      "text/plain": [
       "                player player id  total_fg  predicted_successful_fg  \\\n",
       "17       Justin Tucker   JT-3950       195                   164.07   \n",
       "9           Dan Bailey   DB-0200       160                   135.14   \n",
       "30  Stephen Gostkowski   SG-0800       198                   172.33   \n",
       "0       Adam Vinatieri   AV-0400       176                   149.16   \n",
       "31     Steven Hauschka   SH-0400       187                   164.76   \n",
       "\n",
       "    successful_fg  vs_prediction_fg  \n",
       "17            176             11.93  \n",
       "9             143              7.86  \n",
       "30            179              6.67  \n",
       "0             154              4.84  \n",
       "31            169              4.24  "
      ]
     },
     "execution_count": 571,
     "metadata": {},
     "output_type": "execute_result"
    }
   ],
   "source": [
    "#--- aggregate the data to calculate each kicker's expected field goals vs. actual for all seasons\n",
    "\n",
    "total_player_fg_success = (\n",
    "    fg_predict_df.groupby(['player', 'player id'], as_index=False)\n",
    "    .agg(\n",
    "        # Get the number of field goal attempts\n",
    "        total_fg = pd.NamedAgg(column = 'make-vs-prediction', aggfunc = 'count'),\n",
    "        # Get the predicted number of successful attempts\n",
    "        predicted_successful_fg = pd.NamedAgg(column = 'make-prediction', aggfunc = 'sum'),\n",
    "        # Get the actual number of successful kicks\n",
    "        successful_fg = pd.NamedAgg(column = 'make', aggfunc = 'sum'),\n",
    "        # Get the difference between actual and predicted success\n",
    "        vs_prediction_fg = pd.NamedAgg(column = 'make-vs-prediction', aggfunc = 'sum'))\n",
    "    .sort_values('vs_prediction_fg', ascending=False))\n",
    "\n",
    "total_player_fg_success.head()"
   ]
  },
  {
   "cell_type": "code",
   "execution_count": 572,
   "id": "3171fc14",
   "metadata": {},
   "outputs": [],
   "source": [
    "#--- aggregate the data to calculate each kicker's expected field goal % vs. actual % for all seasons\n",
    "\n",
    "avg_player_fg_success = (\n",
    "    fg_predict_df.groupby(['player', 'player id'], as_index=False)\n",
    "    .agg(\n",
    "        # Get the number of field goal attempts\n",
    "        total_fg = pd.NamedAgg(column = 'make-vs-prediction', aggfunc = 'count'),\n",
    "        # Get the predicted number of successful attempts\n",
    "        avg_predicted_successful_fg = pd.NamedAgg(column = 'make-prediction', aggfunc = mean_perc),\n",
    "        # Get the actual number of successful kicks\n",
    "        avg_successful_fg = pd.NamedAgg(column = 'make', aggfunc = mean_perc),\n",
    "        # Get the difference between actual and predicted success\n",
    "        avg_vs_prediction_fg = pd.NamedAgg(column = 'make-vs-prediction', aggfunc = mean_perc))\n",
    "    .sort_values('avg_vs_prediction_fg', ascending=False))"
   ]
  },
  {
   "cell_type": "code",
   "execution_count": 573,
   "id": "eca6108d",
   "metadata": {},
   "outputs": [
    {
     "data": {
      "text/html": [
       "<div>\n",
       "<style scoped>\n",
       "    .dataframe tbody tr th:only-of-type {\n",
       "        vertical-align: middle;\n",
       "    }\n",
       "\n",
       "    .dataframe tbody tr th {\n",
       "        vertical-align: top;\n",
       "    }\n",
       "\n",
       "    .dataframe thead th {\n",
       "        text-align: right;\n",
       "    }\n",
       "</style>\n",
       "<table border=\"1\" class=\"dataframe\">\n",
       "  <thead>\n",
       "    <tr style=\"text-align: right;\">\n",
       "      <th></th>\n",
       "      <th>player</th>\n",
       "      <th>player id</th>\n",
       "      <th>total_fg</th>\n",
       "      <th>avg_predicted_successful_fg</th>\n",
       "      <th>avg_successful_fg</th>\n",
       "      <th>avg_vs_prediction_fg</th>\n",
       "    </tr>\n",
       "  </thead>\n",
       "  <tbody>\n",
       "    <tr>\n",
       "      <th>17</th>\n",
       "      <td>Justin Tucker</td>\n",
       "      <td>JT-3950</td>\n",
       "      <td>195</td>\n",
       "      <td>84.14</td>\n",
       "      <td>90.26</td>\n",
       "      <td>6.12</td>\n",
       "    </tr>\n",
       "    <tr>\n",
       "      <th>9</th>\n",
       "      <td>Dan Bailey</td>\n",
       "      <td>DB-0200</td>\n",
       "      <td>160</td>\n",
       "      <td>84.47</td>\n",
       "      <td>89.38</td>\n",
       "      <td>4.91</td>\n",
       "    </tr>\n",
       "    <tr>\n",
       "      <th>15</th>\n",
       "      <td>Josh Brown</td>\n",
       "      <td>JB-7100</td>\n",
       "      <td>110</td>\n",
       "      <td>88.00</td>\n",
       "      <td>91.82</td>\n",
       "      <td>3.82</td>\n",
       "    </tr>\n",
       "    <tr>\n",
       "      <th>30</th>\n",
       "      <td>Stephen Gostkowski</td>\n",
       "      <td>SG-0800</td>\n",
       "      <td>198</td>\n",
       "      <td>87.04</td>\n",
       "      <td>90.40</td>\n",
       "      <td>3.37</td>\n",
       "    </tr>\n",
       "    <tr>\n",
       "      <th>6</th>\n",
       "      <td>Chris Boswell</td>\n",
       "      <td>CB-2275</td>\n",
       "      <td>72</td>\n",
       "      <td>87.13</td>\n",
       "      <td>90.28</td>\n",
       "      <td>3.15</td>\n",
       "    </tr>\n",
       "  </tbody>\n",
       "</table>\n",
       "</div>"
      ],
      "text/plain": [
       "                player player id  total_fg  avg_predicted_successful_fg  \\\n",
       "17       Justin Tucker   JT-3950       195                        84.14   \n",
       "9           Dan Bailey   DB-0200       160                        84.47   \n",
       "15          Josh Brown   JB-7100       110                        88.00   \n",
       "30  Stephen Gostkowski   SG-0800       198                        87.04   \n",
       "6        Chris Boswell   CB-2275        72                        87.13   \n",
       "\n",
       "    avg_successful_fg  avg_vs_prediction_fg  \n",
       "17              90.26                  6.12  \n",
       "9               89.38                  4.91  \n",
       "15              91.82                  3.82  \n",
       "30              90.40                  3.37  \n",
       "6               90.28                  3.15  "
      ]
     },
     "execution_count": 573,
     "metadata": {},
     "output_type": "execute_result"
    }
   ],
   "source": [
    "avg_player_fg_success.head() #show the 5 best kickers according to actual vs predicted % kick success"
   ]
  },
  {
   "cell_type": "markdown",
   "id": "20021e24",
   "metadata": {},
   "source": [
    "#### Justin Tucker has the highest relative kick success rate at +6.12%.  \n",
    "This means that he has kicked 6.12% more field goals than expected (given the distance of each kick)."
   ]
  },
  {
   "cell_type": "code",
   "execution_count": 574,
   "id": "050a5ec3",
   "metadata": {},
   "outputs": [
    {
     "data": {
      "text/html": [
       "<div>\n",
       "<style scoped>\n",
       "    .dataframe tbody tr th:only-of-type {\n",
       "        vertical-align: middle;\n",
       "    }\n",
       "\n",
       "    .dataframe tbody tr th {\n",
       "        vertical-align: top;\n",
       "    }\n",
       "\n",
       "    .dataframe thead th {\n",
       "        text-align: right;\n",
       "    }\n",
       "</style>\n",
       "<table border=\"1\" class=\"dataframe\">\n",
       "  <thead>\n",
       "    <tr style=\"text-align: right;\">\n",
       "      <th></th>\n",
       "      <th>player</th>\n",
       "      <th>player id</th>\n",
       "      <th>total_fg</th>\n",
       "      <th>avg_predicted_successful_fg</th>\n",
       "      <th>avg_successful_fg</th>\n",
       "      <th>avg_vs_prediction_fg</th>\n",
       "    </tr>\n",
       "  </thead>\n",
       "  <tbody>\n",
       "    <tr>\n",
       "      <th>7</th>\n",
       "      <td>Cody Parkey</td>\n",
       "      <td>CP-0575</td>\n",
       "      <td>65</td>\n",
       "      <td>88.41</td>\n",
       "      <td>84.62</td>\n",
       "      <td>-3.79</td>\n",
       "    </tr>\n",
       "    <tr>\n",
       "      <th>16</th>\n",
       "      <td>Josh Lambo</td>\n",
       "      <td>JL-0207</td>\n",
       "      <td>64</td>\n",
       "      <td>85.89</td>\n",
       "      <td>81.25</td>\n",
       "      <td>-4.64</td>\n",
       "    </tr>\n",
       "    <tr>\n",
       "      <th>22</th>\n",
       "      <td>Mike Nugent</td>\n",
       "      <td>MN-0800</td>\n",
       "      <td>138</td>\n",
       "      <td>86.24</td>\n",
       "      <td>81.16</td>\n",
       "      <td>-5.08</td>\n",
       "    </tr>\n",
       "    <tr>\n",
       "      <th>26</th>\n",
       "      <td>Randy Bullock</td>\n",
       "      <td>RB-4650</td>\n",
       "      <td>102</td>\n",
       "      <td>86.69</td>\n",
       "      <td>81.37</td>\n",
       "      <td>-5.32</td>\n",
       "    </tr>\n",
       "    <tr>\n",
       "      <th>4</th>\n",
       "      <td>Caleb Sturgis</td>\n",
       "      <td>CS-4250</td>\n",
       "      <td>134</td>\n",
       "      <td>86.24</td>\n",
       "      <td>80.60</td>\n",
       "      <td>-5.64</td>\n",
       "    </tr>\n",
       "  </tbody>\n",
       "</table>\n",
       "</div>"
      ],
      "text/plain": [
       "           player player id  total_fg  avg_predicted_successful_fg  \\\n",
       "7     Cody Parkey   CP-0575        65                        88.41   \n",
       "16     Josh Lambo   JL-0207        64                        85.89   \n",
       "22    Mike Nugent   MN-0800       138                        86.24   \n",
       "26  Randy Bullock   RB-4650       102                        86.69   \n",
       "4   Caleb Sturgis   CS-4250       134                        86.24   \n",
       "\n",
       "    avg_successful_fg  avg_vs_prediction_fg  \n",
       "7               84.62                 -3.79  \n",
       "16              81.25                 -4.64  \n",
       "22              81.16                 -5.08  \n",
       "26              81.37                 -5.32  \n",
       "4               80.60                 -5.64  "
      ]
     },
     "execution_count": 574,
     "metadata": {},
     "output_type": "execute_result"
    }
   ],
   "source": [
    "avg_player_fg_success.tail() #show the 5 worst kickers according to actual vs predicted % kick success"
   ]
  },
  {
   "cell_type": "markdown",
   "id": "e5142783",
   "metadata": {},
   "source": [
    "#### Caleb Sturgis has the lowest relative kick success rate at -5.64%.  \n",
    "This means that he has kicked 5.64% less field goals than expected (given the distance of each kick)."
   ]
  },
  {
   "cell_type": "code",
   "execution_count": 575,
   "id": "05f15d20",
   "metadata": {},
   "outputs": [
    {
     "data": {
      "text/html": [
       "<div>\n",
       "<style scoped>\n",
       "    .dataframe tbody tr th:only-of-type {\n",
       "        vertical-align: middle;\n",
       "    }\n",
       "\n",
       "    .dataframe tbody tr th {\n",
       "        vertical-align: top;\n",
       "    }\n",
       "\n",
       "    .dataframe thead th {\n",
       "        text-align: right;\n",
       "    }\n",
       "</style>\n",
       "<table border=\"1\" class=\"dataframe\">\n",
       "  <thead>\n",
       "    <tr style=\"text-align: right;\">\n",
       "      <th></th>\n",
       "      <th>player</th>\n",
       "      <th>player id</th>\n",
       "      <th>season</th>\n",
       "      <th>total_fg</th>\n",
       "      <th>avg_predicted_successful_fg</th>\n",
       "      <th>avg_successful_fg</th>\n",
       "      <th>avg_vs_prediction_fg</th>\n",
       "    </tr>\n",
       "  </thead>\n",
       "  <tbody>\n",
       "    <tr>\n",
       "      <th>67</th>\n",
       "      <td>Justin Tucker</td>\n",
       "      <td>JT-3950</td>\n",
       "      <td>2016</td>\n",
       "      <td>39</td>\n",
       "      <td>81.73</td>\n",
       "      <td>97.44</td>\n",
       "      <td>15.71</td>\n",
       "    </tr>\n",
       "    <tr>\n",
       "      <th>84</th>\n",
       "      <td>Matt Prater</td>\n",
       "      <td>MP-2100</td>\n",
       "      <td>2013</td>\n",
       "      <td>32</td>\n",
       "      <td>82.66</td>\n",
       "      <td>93.75</td>\n",
       "      <td>11.09</td>\n",
       "    </tr>\n",
       "    <tr>\n",
       "      <th>33</th>\n",
       "      <td>Dan Bailey</td>\n",
       "      <td>DB-0200</td>\n",
       "      <td>2013</td>\n",
       "      <td>30</td>\n",
       "      <td>83.60</td>\n",
       "      <td>93.33</td>\n",
       "      <td>9.73</td>\n",
       "    </tr>\n",
       "    <tr>\n",
       "      <th>86</th>\n",
       "      <td>Matt Prater</td>\n",
       "      <td>MP-2100</td>\n",
       "      <td>2015</td>\n",
       "      <td>24</td>\n",
       "      <td>83.12</td>\n",
       "      <td>91.67</td>\n",
       "      <td>8.55</td>\n",
       "    </tr>\n",
       "    <tr>\n",
       "      <th>5</th>\n",
       "      <td>Blair Walsh</td>\n",
       "      <td>BW-0350</td>\n",
       "      <td>2012</td>\n",
       "      <td>39</td>\n",
       "      <td>84.10</td>\n",
       "      <td>92.31</td>\n",
       "      <td>8.21</td>\n",
       "    </tr>\n",
       "  </tbody>\n",
       "</table>\n",
       "</div>"
      ],
      "text/plain": [
       "           player player id  season  total_fg  avg_predicted_successful_fg  \\\n",
       "67  Justin Tucker   JT-3950    2016        39                        81.73   \n",
       "84    Matt Prater   MP-2100    2013        32                        82.66   \n",
       "33     Dan Bailey   DB-0200    2013        30                        83.60   \n",
       "86    Matt Prater   MP-2100    2015        24                        83.12   \n",
       "5     Blair Walsh   BW-0350    2012        39                        84.10   \n",
       "\n",
       "    avg_successful_fg  avg_vs_prediction_fg  \n",
       "67              97.44                 15.71  \n",
       "84              93.75                 11.09  \n",
       "33              93.33                  9.73  \n",
       "86              91.67                  8.55  \n",
       "5               92.31                  8.21  "
      ]
     },
     "execution_count": 575,
     "metadata": {},
     "output_type": "execute_result"
    }
   ],
   "source": [
    "#--- aggregate the data to calculate each kicker's expected field goal % vs. actual % for each season\n",
    "\n",
    "avg_player_season_fg_success = (\n",
    "    fg_predict_df.groupby(['player', 'player id', 'season'], as_index=False)\n",
    "    .agg(\n",
    "        # Get the number of field goal attempts\n",
    "        total_fg = pd.NamedAgg(column = 'make-vs-prediction', aggfunc = 'count'),\n",
    "        # Get the predicted number of successful attempts\n",
    "        avg_predicted_successful_fg = pd.NamedAgg(column = 'make-prediction', aggfunc = mean_perc),\n",
    "        # Get the actual number of successful kicks\n",
    "        avg_successful_fg = pd.NamedAgg(column = 'make', aggfunc = mean_perc),\n",
    "        # Get the difference between actual and predicted success\n",
    "        avg_vs_prediction_fg = pd.NamedAgg(column = 'make-vs-prediction', aggfunc = mean_perc))\n",
    "    .sort_values('avg_vs_prediction_fg', ascending=False)\n",
    "    .query(\"`total_fg` >= 20\"))\n",
    "\n",
    "avg_player_season_fg_success.head()"
   ]
  },
  {
   "cell_type": "markdown",
   "id": "f8e81630",
   "metadata": {},
   "source": [
    "#### Justin Tucker had the most successful season of any kicker in 2016, with a relative success rate of +15.71%.  \n",
    "This means that during the 2016 season he kicked 15.71% more field goals than expected (given the distance of each kick)."
   ]
  },
  {
   "cell_type": "code",
   "execution_count": 576,
   "id": "15afa322",
   "metadata": {},
   "outputs": [],
   "source": [
    "#--- aggregate the data to calculate each stadiums's expected field goal % vs. actual % for all seasons\n",
    "\n",
    "#read in stadium matching dataframe to remove spelling errors\n",
    "df_stadium = pd.read_excel('stadium_df.xlsx', index_col=0)\n",
    "\n",
    "stadium_fg_success = (\n",
    "    fg_predict_df.merge(df_stadium, on = 'stadium').groupby(['stadium-name'], as_index=False)\n",
    "    .agg(\n",
    "        # Get the number of field goal attempts\n",
    "        total_fg = pd.NamedAgg(column = 'make-vs-prediction', aggfunc = 'count'),\n",
    "        # Get the predicted number of successful attempts\n",
    "        avg_predicted_successful_fg = pd.NamedAgg(column = 'make-prediction', aggfunc = mean_perc),\n",
    "        # Get the actual number of successful kicks\n",
    "        avg_successful_fg = pd.NamedAgg(column = 'make', aggfunc = mean_perc),\n",
    "        # Get the difference between actual and predicted success\n",
    "        avg_vs_prediction_fg = pd.NamedAgg(column = 'make-vs-prediction', aggfunc = mean_perc))\n",
    "    .sort_values('avg_vs_prediction_fg', ascending=False)\n",
    "    .query(\"`total_fg` >= 50\")) # remove stadiums that have a low sample-size of field goal attempts (< 50)"
   ]
  },
  {
   "cell_type": "code",
   "execution_count": 577,
   "id": "afb2974f",
   "metadata": {},
   "outputs": [
    {
     "data": {
      "text/html": [
       "<div>\n",
       "<style scoped>\n",
       "    .dataframe tbody tr th:only-of-type {\n",
       "        vertical-align: middle;\n",
       "    }\n",
       "\n",
       "    .dataframe tbody tr th {\n",
       "        vertical-align: top;\n",
       "    }\n",
       "\n",
       "    .dataframe thead th {\n",
       "        text-align: right;\n",
       "    }\n",
       "</style>\n",
       "<table border=\"1\" class=\"dataframe\">\n",
       "  <thead>\n",
       "    <tr style=\"text-align: right;\">\n",
       "      <th></th>\n",
       "      <th>stadium-name</th>\n",
       "      <th>total_fg</th>\n",
       "      <th>avg_predicted_successful_fg</th>\n",
       "      <th>avg_successful_fg</th>\n",
       "      <th>avg_vs_prediction_fg</th>\n",
       "    </tr>\n",
       "  </thead>\n",
       "  <tbody>\n",
       "    <tr>\n",
       "      <th>8</th>\n",
       "      <td>EverBank Field</td>\n",
       "      <td>97</td>\n",
       "      <td>84.68</td>\n",
       "      <td>88.66</td>\n",
       "      <td>3.98</td>\n",
       "    </tr>\n",
       "    <tr>\n",
       "      <th>7</th>\n",
       "      <td>Edward Jones Dome</td>\n",
       "      <td>105</td>\n",
       "      <td>82.89</td>\n",
       "      <td>86.67</td>\n",
       "      <td>3.77</td>\n",
       "    </tr>\n",
       "    <tr>\n",
       "      <th>12</th>\n",
       "      <td>Georgia Dome</td>\n",
       "      <td>142</td>\n",
       "      <td>85.77</td>\n",
       "      <td>89.44</td>\n",
       "      <td>3.66</td>\n",
       "    </tr>\n",
       "    <tr>\n",
       "      <th>36</th>\n",
       "      <td>TCF Bank Stadium</td>\n",
       "      <td>65</td>\n",
       "      <td>84.22</td>\n",
       "      <td>87.69</td>\n",
       "      <td>3.48</td>\n",
       "    </tr>\n",
       "    <tr>\n",
       "      <th>2</th>\n",
       "      <td>Bank of America Stadium</td>\n",
       "      <td>145</td>\n",
       "      <td>85.73</td>\n",
       "      <td>88.97</td>\n",
       "      <td>3.23</td>\n",
       "    </tr>\n",
       "  </tbody>\n",
       "</table>\n",
       "</div>"
      ],
      "text/plain": [
       "               stadium-name  total_fg  avg_predicted_successful_fg  \\\n",
       "8            EverBank Field        97                        84.68   \n",
       "7         Edward Jones Dome       105                        82.89   \n",
       "12             Georgia Dome       142                        85.77   \n",
       "36         TCF Bank Stadium        65                        84.22   \n",
       "2   Bank of America Stadium       145                        85.73   \n",
       "\n",
       "    avg_successful_fg  avg_vs_prediction_fg  \n",
       "8               88.66                  3.98  \n",
       "7               86.67                  3.77  \n",
       "12              89.44                  3.66  \n",
       "36              87.69                  3.48  \n",
       "2               88.97                  3.23  "
      ]
     },
     "execution_count": 577,
     "metadata": {},
     "output_type": "execute_result"
    }
   ],
   "source": [
    "stadium_fg_success.head()"
   ]
  },
  {
   "cell_type": "markdown",
   "id": "beb34e8e",
   "metadata": {},
   "source": [
    "#### The EverBank Field has been the easiest stadium to kick field goals, with a relative success rate of +3.98%. \n",
    "This means that 3.98% more field goals have been kicked than expected (given the distance of each kick)."
   ]
  },
  {
   "cell_type": "code",
   "execution_count": 578,
   "id": "5f451b50",
   "metadata": {},
   "outputs": [
    {
     "data": {
      "text/html": [
       "<div>\n",
       "<style scoped>\n",
       "    .dataframe tbody tr th:only-of-type {\n",
       "        vertical-align: middle;\n",
       "    }\n",
       "\n",
       "    .dataframe tbody tr th {\n",
       "        vertical-align: top;\n",
       "    }\n",
       "\n",
       "    .dataframe thead th {\n",
       "        text-align: right;\n",
       "    }\n",
       "</style>\n",
       "<table border=\"1\" class=\"dataframe\">\n",
       "  <thead>\n",
       "    <tr style=\"text-align: right;\">\n",
       "      <th></th>\n",
       "      <th>stadium-name</th>\n",
       "      <th>total_fg</th>\n",
       "      <th>avg_predicted_successful_fg</th>\n",
       "      <th>avg_successful_fg</th>\n",
       "      <th>avg_vs_prediction_fg</th>\n",
       "    </tr>\n",
       "  </thead>\n",
       "  <tbody>\n",
       "    <tr>\n",
       "      <th>1</th>\n",
       "      <td>Arrowhead Stadium</td>\n",
       "      <td>150</td>\n",
       "      <td>86.44</td>\n",
       "      <td>82.67</td>\n",
       "      <td>-3.77</td>\n",
       "    </tr>\n",
       "    <tr>\n",
       "      <th>33</th>\n",
       "      <td>Soldier Field</td>\n",
       "      <td>127</td>\n",
       "      <td>86.90</td>\n",
       "      <td>81.89</td>\n",
       "      <td>-5.01</td>\n",
       "    </tr>\n",
       "    <tr>\n",
       "      <th>26</th>\n",
       "      <td>Oakland-Alameda County Coliseum</td>\n",
       "      <td>143</td>\n",
       "      <td>84.82</td>\n",
       "      <td>79.72</td>\n",
       "      <td>-5.09</td>\n",
       "    </tr>\n",
       "    <tr>\n",
       "      <th>39</th>\n",
       "      <td>University of Phoenix Stadium</td>\n",
       "      <td>111</td>\n",
       "      <td>86.25</td>\n",
       "      <td>81.08</td>\n",
       "      <td>-5.17</td>\n",
       "    </tr>\n",
       "    <tr>\n",
       "      <th>35</th>\n",
       "      <td>SunLife Stadium</td>\n",
       "      <td>134</td>\n",
       "      <td>85.92</td>\n",
       "      <td>77.61</td>\n",
       "      <td>-8.31</td>\n",
       "    </tr>\n",
       "  </tbody>\n",
       "</table>\n",
       "</div>"
      ],
      "text/plain": [
       "                       stadium-name  total_fg  avg_predicted_successful_fg  \\\n",
       "1                 Arrowhead Stadium       150                        86.44   \n",
       "33                    Soldier Field       127                        86.90   \n",
       "26  Oakland-Alameda County Coliseum       143                        84.82   \n",
       "39    University of Phoenix Stadium       111                        86.25   \n",
       "35                  SunLife Stadium       134                        85.92   \n",
       "\n",
       "    avg_successful_fg  avg_vs_prediction_fg  \n",
       "1               82.67                 -3.77  \n",
       "33              81.89                 -5.01  \n",
       "26              79.72                 -5.09  \n",
       "39              81.08                 -5.17  \n",
       "35              77.61                 -8.31  "
      ]
     },
     "execution_count": 578,
     "metadata": {},
     "output_type": "execute_result"
    }
   ],
   "source": [
    "stadium_fg_success.tail()"
   ]
  },
  {
   "cell_type": "markdown",
   "id": "04303017",
   "metadata": {},
   "source": [
    "#### The SunLife Stadium has been the toughest stadium to kick field goals, with a relative success rate of -8.31%. \n",
    "This means that 8.31% less field goals have been kicked than expected (given the distance of each kick)."
   ]
  },
  {
   "cell_type": "code",
   "execution_count": 579,
   "id": "196d634a",
   "metadata": {},
   "outputs": [
    {
     "data": {
      "application/vnd.plotly.v1+json": {
       "config": {
        "plotlyServerURL": "https://plot.ly"
       },
       "data": [
        {
         "hovertemplate": "avg_predicted_successful_fg=%{x}<br>avg_successful_fg=%{y}<br>stadium-name=%{text}<br>total_fg=%{marker.color}<extra></extra>",
         "legendgroup": "",
         "marker": {
          "color": [
           97,
           105,
           142,
           65,
           145,
           100,
           112,
           143,
           117,
           275,
           92,
           125,
           170,
           159,
           64,
           172,
           155,
           100,
           86,
           149,
           134,
           72,
           122,
           98,
           141,
           132,
           150,
           127,
           143,
           111,
           134
          ],
          "coloraxis": "coloraxis",
          "symbol": "circle"
         },
         "mode": "markers+text",
         "name": "",
         "orientation": "v",
         "showlegend": false,
         "text": [
          "EverBank Field",
          "Edward Jones Dome",
          "Georgia Dome",
          "TCF Bank Stadium",
          "Bank of America Stadium",
          "NRG Stadium",
          "Lincoln Financial Field",
          "CenturyLink Field",
          "Ford Field",
          "MetLife Stadium",
          "LP Field",
          "AT&T Stadium",
          "Gillette Stadium",
          "Lucas Oil Stadium",
          "FirstEnergy Stadium",
          "Sports Authority Field at Mile High",
          "M&T Bank Stadium",
          "Heinz Field",
          "Levi's Stadium",
          "Paul Brown Stadium",
          "Qualcomm Stadium",
          "Mercedes-Benz Superdome",
          "Ralph Wilson Stadium",
          "Raymond James Stadium",
          "Lambeau Field",
          "FedEx Field",
          "Arrowhead Stadium",
          "Soldier Field",
          "Oakland-Alameda County Coliseum",
          "University of Phoenix Stadium",
          "SunLife Stadium"
         ],
         "textposition": "top center",
         "type": "scatter",
         "x": [
          84.68267040001145,
          82.8939345503822,
          85.77216680830544,
          84.21504386728088,
          85.73451177298288,
          85.96712408532613,
          87.21926416028556,
          88.09039116701095,
          82.656067938805,
          87.26753554505716,
          87.09375653421702,
          84.59239695244999,
          86.90818986629786,
          84.37505794348606,
          87.15592288004612,
          84.63781387726002,
          84.90360252929179,
          85.72221440060478,
          86.85164645872308,
          86.4166903913039,
          87.34847233694923,
          86.90652769304683,
          86.9886669848154,
          83.21398128939114,
          86.60177533801783,
          88.64607558699188,
          86.43915955372695,
          86.90103544582361,
          84.81511029483754,
          86.25109912428088,
          85.92007926834253
         ],
         "xaxis": "x",
         "y": [
          88.65979381443299,
          86.66666666666667,
          89.43661971830986,
          87.6923076923077,
          88.96551724137932,
          89,
          90.17857142857143,
          90.9090909090909,
          85.47008547008546,
          89.81818181818181,
          89.13043478260869,
          86.4,
          88.23529411764706,
          84.90566037735849,
          87.5,
          84.88372093023256,
          84.51612903225806,
          85,
          86.04651162790698,
          85.23489932885906,
          85.82089552238806,
          84.72222222222221,
          84.42622950819673,
          80.61224489795919,
          83.68794326241135,
          85.60606060606061,
          82.66666666666667,
          81.88976377952756,
          79.72027972027972,
          81.08108108108108,
          77.61194029850746
         ],
         "yaxis": "y"
        }
       ],
       "layout": {
        "coloraxis": {
         "colorbar": {
          "title": {
           "text": "total_fg"
          }
         },
         "colorscale": [
          [
           0,
           "#0d0887"
          ],
          [
           0.1111111111111111,
           "#46039f"
          ],
          [
           0.2222222222222222,
           "#7201a8"
          ],
          [
           0.3333333333333333,
           "#9c179e"
          ],
          [
           0.4444444444444444,
           "#bd3786"
          ],
          [
           0.5555555555555556,
           "#d8576b"
          ],
          [
           0.6666666666666666,
           "#ed7953"
          ],
          [
           0.7777777777777778,
           "#fb9f3a"
          ],
          [
           0.8888888888888888,
           "#fdca26"
          ],
          [
           1,
           "#f0f921"
          ]
         ]
        },
        "legend": {
         "tracegroupgap": 0
        },
        "margin": {
         "t": 60
        },
        "shapes": [
         {
          "type": "line",
          "x0": 0,
          "x1": 100,
          "xref": "paper",
          "y0": 0,
          "y1": 100,
          "yref": "paper"
         }
        ],
        "template": {
         "data": {
          "bar": [
           {
            "error_x": {
             "color": "#2a3f5f"
            },
            "error_y": {
             "color": "#2a3f5f"
            },
            "marker": {
             "line": {
              "color": "#E5ECF6",
              "width": 0.5
             },
             "pattern": {
              "fillmode": "overlay",
              "size": 10,
              "solidity": 0.2
             }
            },
            "type": "bar"
           }
          ],
          "barpolar": [
           {
            "marker": {
             "line": {
              "color": "#E5ECF6",
              "width": 0.5
             },
             "pattern": {
              "fillmode": "overlay",
              "size": 10,
              "solidity": 0.2
             }
            },
            "type": "barpolar"
           }
          ],
          "carpet": [
           {
            "aaxis": {
             "endlinecolor": "#2a3f5f",
             "gridcolor": "white",
             "linecolor": "white",
             "minorgridcolor": "white",
             "startlinecolor": "#2a3f5f"
            },
            "baxis": {
             "endlinecolor": "#2a3f5f",
             "gridcolor": "white",
             "linecolor": "white",
             "minorgridcolor": "white",
             "startlinecolor": "#2a3f5f"
            },
            "type": "carpet"
           }
          ],
          "choropleth": [
           {
            "colorbar": {
             "outlinewidth": 0,
             "ticks": ""
            },
            "type": "choropleth"
           }
          ],
          "contour": [
           {
            "colorbar": {
             "outlinewidth": 0,
             "ticks": ""
            },
            "colorscale": [
             [
              0,
              "#0d0887"
             ],
             [
              0.1111111111111111,
              "#46039f"
             ],
             [
              0.2222222222222222,
              "#7201a8"
             ],
             [
              0.3333333333333333,
              "#9c179e"
             ],
             [
              0.4444444444444444,
              "#bd3786"
             ],
             [
              0.5555555555555556,
              "#d8576b"
             ],
             [
              0.6666666666666666,
              "#ed7953"
             ],
             [
              0.7777777777777778,
              "#fb9f3a"
             ],
             [
              0.8888888888888888,
              "#fdca26"
             ],
             [
              1,
              "#f0f921"
             ]
            ],
            "type": "contour"
           }
          ],
          "contourcarpet": [
           {
            "colorbar": {
             "outlinewidth": 0,
             "ticks": ""
            },
            "type": "contourcarpet"
           }
          ],
          "heatmap": [
           {
            "colorbar": {
             "outlinewidth": 0,
             "ticks": ""
            },
            "colorscale": [
             [
              0,
              "#0d0887"
             ],
             [
              0.1111111111111111,
              "#46039f"
             ],
             [
              0.2222222222222222,
              "#7201a8"
             ],
             [
              0.3333333333333333,
              "#9c179e"
             ],
             [
              0.4444444444444444,
              "#bd3786"
             ],
             [
              0.5555555555555556,
              "#d8576b"
             ],
             [
              0.6666666666666666,
              "#ed7953"
             ],
             [
              0.7777777777777778,
              "#fb9f3a"
             ],
             [
              0.8888888888888888,
              "#fdca26"
             ],
             [
              1,
              "#f0f921"
             ]
            ],
            "type": "heatmap"
           }
          ],
          "heatmapgl": [
           {
            "colorbar": {
             "outlinewidth": 0,
             "ticks": ""
            },
            "colorscale": [
             [
              0,
              "#0d0887"
             ],
             [
              0.1111111111111111,
              "#46039f"
             ],
             [
              0.2222222222222222,
              "#7201a8"
             ],
             [
              0.3333333333333333,
              "#9c179e"
             ],
             [
              0.4444444444444444,
              "#bd3786"
             ],
             [
              0.5555555555555556,
              "#d8576b"
             ],
             [
              0.6666666666666666,
              "#ed7953"
             ],
             [
              0.7777777777777778,
              "#fb9f3a"
             ],
             [
              0.8888888888888888,
              "#fdca26"
             ],
             [
              1,
              "#f0f921"
             ]
            ],
            "type": "heatmapgl"
           }
          ],
          "histogram": [
           {
            "marker": {
             "pattern": {
              "fillmode": "overlay",
              "size": 10,
              "solidity": 0.2
             }
            },
            "type": "histogram"
           }
          ],
          "histogram2d": [
           {
            "colorbar": {
             "outlinewidth": 0,
             "ticks": ""
            },
            "colorscale": [
             [
              0,
              "#0d0887"
             ],
             [
              0.1111111111111111,
              "#46039f"
             ],
             [
              0.2222222222222222,
              "#7201a8"
             ],
             [
              0.3333333333333333,
              "#9c179e"
             ],
             [
              0.4444444444444444,
              "#bd3786"
             ],
             [
              0.5555555555555556,
              "#d8576b"
             ],
             [
              0.6666666666666666,
              "#ed7953"
             ],
             [
              0.7777777777777778,
              "#fb9f3a"
             ],
             [
              0.8888888888888888,
              "#fdca26"
             ],
             [
              1,
              "#f0f921"
             ]
            ],
            "type": "histogram2d"
           }
          ],
          "histogram2dcontour": [
           {
            "colorbar": {
             "outlinewidth": 0,
             "ticks": ""
            },
            "colorscale": [
             [
              0,
              "#0d0887"
             ],
             [
              0.1111111111111111,
              "#46039f"
             ],
             [
              0.2222222222222222,
              "#7201a8"
             ],
             [
              0.3333333333333333,
              "#9c179e"
             ],
             [
              0.4444444444444444,
              "#bd3786"
             ],
             [
              0.5555555555555556,
              "#d8576b"
             ],
             [
              0.6666666666666666,
              "#ed7953"
             ],
             [
              0.7777777777777778,
              "#fb9f3a"
             ],
             [
              0.8888888888888888,
              "#fdca26"
             ],
             [
              1,
              "#f0f921"
             ]
            ],
            "type": "histogram2dcontour"
           }
          ],
          "mesh3d": [
           {
            "colorbar": {
             "outlinewidth": 0,
             "ticks": ""
            },
            "type": "mesh3d"
           }
          ],
          "parcoords": [
           {
            "line": {
             "colorbar": {
              "outlinewidth": 0,
              "ticks": ""
             }
            },
            "type": "parcoords"
           }
          ],
          "pie": [
           {
            "automargin": true,
            "type": "pie"
           }
          ],
          "scatter": [
           {
            "fillpattern": {
             "fillmode": "overlay",
             "size": 10,
             "solidity": 0.2
            },
            "type": "scatter"
           }
          ],
          "scatter3d": [
           {
            "line": {
             "colorbar": {
              "outlinewidth": 0,
              "ticks": ""
             }
            },
            "marker": {
             "colorbar": {
              "outlinewidth": 0,
              "ticks": ""
             }
            },
            "type": "scatter3d"
           }
          ],
          "scattercarpet": [
           {
            "marker": {
             "colorbar": {
              "outlinewidth": 0,
              "ticks": ""
             }
            },
            "type": "scattercarpet"
           }
          ],
          "scattergeo": [
           {
            "marker": {
             "colorbar": {
              "outlinewidth": 0,
              "ticks": ""
             }
            },
            "type": "scattergeo"
           }
          ],
          "scattergl": [
           {
            "marker": {
             "colorbar": {
              "outlinewidth": 0,
              "ticks": ""
             }
            },
            "type": "scattergl"
           }
          ],
          "scattermapbox": [
           {
            "marker": {
             "colorbar": {
              "outlinewidth": 0,
              "ticks": ""
             }
            },
            "type": "scattermapbox"
           }
          ],
          "scatterpolar": [
           {
            "marker": {
             "colorbar": {
              "outlinewidth": 0,
              "ticks": ""
             }
            },
            "type": "scatterpolar"
           }
          ],
          "scatterpolargl": [
           {
            "marker": {
             "colorbar": {
              "outlinewidth": 0,
              "ticks": ""
             }
            },
            "type": "scatterpolargl"
           }
          ],
          "scatterternary": [
           {
            "marker": {
             "colorbar": {
              "outlinewidth": 0,
              "ticks": ""
             }
            },
            "type": "scatterternary"
           }
          ],
          "surface": [
           {
            "colorbar": {
             "outlinewidth": 0,
             "ticks": ""
            },
            "colorscale": [
             [
              0,
              "#0d0887"
             ],
             [
              0.1111111111111111,
              "#46039f"
             ],
             [
              0.2222222222222222,
              "#7201a8"
             ],
             [
              0.3333333333333333,
              "#9c179e"
             ],
             [
              0.4444444444444444,
              "#bd3786"
             ],
             [
              0.5555555555555556,
              "#d8576b"
             ],
             [
              0.6666666666666666,
              "#ed7953"
             ],
             [
              0.7777777777777778,
              "#fb9f3a"
             ],
             [
              0.8888888888888888,
              "#fdca26"
             ],
             [
              1,
              "#f0f921"
             ]
            ],
            "type": "surface"
           }
          ],
          "table": [
           {
            "cells": {
             "fill": {
              "color": "#EBF0F8"
             },
             "line": {
              "color": "white"
             }
            },
            "header": {
             "fill": {
              "color": "#C8D4E3"
             },
             "line": {
              "color": "white"
             }
            },
            "type": "table"
           }
          ]
         },
         "layout": {
          "annotationdefaults": {
           "arrowcolor": "#2a3f5f",
           "arrowhead": 0,
           "arrowwidth": 1
          },
          "autotypenumbers": "strict",
          "coloraxis": {
           "colorbar": {
            "outlinewidth": 0,
            "ticks": ""
           }
          },
          "colorscale": {
           "diverging": [
            [
             0,
             "#8e0152"
            ],
            [
             0.1,
             "#c51b7d"
            ],
            [
             0.2,
             "#de77ae"
            ],
            [
             0.3,
             "#f1b6da"
            ],
            [
             0.4,
             "#fde0ef"
            ],
            [
             0.5,
             "#f7f7f7"
            ],
            [
             0.6,
             "#e6f5d0"
            ],
            [
             0.7,
             "#b8e186"
            ],
            [
             0.8,
             "#7fbc41"
            ],
            [
             0.9,
             "#4d9221"
            ],
            [
             1,
             "#276419"
            ]
           ],
           "sequential": [
            [
             0,
             "#0d0887"
            ],
            [
             0.1111111111111111,
             "#46039f"
            ],
            [
             0.2222222222222222,
             "#7201a8"
            ],
            [
             0.3333333333333333,
             "#9c179e"
            ],
            [
             0.4444444444444444,
             "#bd3786"
            ],
            [
             0.5555555555555556,
             "#d8576b"
            ],
            [
             0.6666666666666666,
             "#ed7953"
            ],
            [
             0.7777777777777778,
             "#fb9f3a"
            ],
            [
             0.8888888888888888,
             "#fdca26"
            ],
            [
             1,
             "#f0f921"
            ]
           ],
           "sequentialminus": [
            [
             0,
             "#0d0887"
            ],
            [
             0.1111111111111111,
             "#46039f"
            ],
            [
             0.2222222222222222,
             "#7201a8"
            ],
            [
             0.3333333333333333,
             "#9c179e"
            ],
            [
             0.4444444444444444,
             "#bd3786"
            ],
            [
             0.5555555555555556,
             "#d8576b"
            ],
            [
             0.6666666666666666,
             "#ed7953"
            ],
            [
             0.7777777777777778,
             "#fb9f3a"
            ],
            [
             0.8888888888888888,
             "#fdca26"
            ],
            [
             1,
             "#f0f921"
            ]
           ]
          },
          "colorway": [
           "#636efa",
           "#EF553B",
           "#00cc96",
           "#ab63fa",
           "#FFA15A",
           "#19d3f3",
           "#FF6692",
           "#B6E880",
           "#FF97FF",
           "#FECB52"
          ],
          "font": {
           "color": "#2a3f5f"
          },
          "geo": {
           "bgcolor": "white",
           "lakecolor": "white",
           "landcolor": "#E5ECF6",
           "showlakes": true,
           "showland": true,
           "subunitcolor": "white"
          },
          "hoverlabel": {
           "align": "left"
          },
          "hovermode": "closest",
          "mapbox": {
           "style": "light"
          },
          "paper_bgcolor": "white",
          "plot_bgcolor": "#E5ECF6",
          "polar": {
           "angularaxis": {
            "gridcolor": "white",
            "linecolor": "white",
            "ticks": ""
           },
           "bgcolor": "#E5ECF6",
           "radialaxis": {
            "gridcolor": "white",
            "linecolor": "white",
            "ticks": ""
           }
          },
          "scene": {
           "xaxis": {
            "backgroundcolor": "#E5ECF6",
            "gridcolor": "white",
            "gridwidth": 2,
            "linecolor": "white",
            "showbackground": true,
            "ticks": "",
            "zerolinecolor": "white"
           },
           "yaxis": {
            "backgroundcolor": "#E5ECF6",
            "gridcolor": "white",
            "gridwidth": 2,
            "linecolor": "white",
            "showbackground": true,
            "ticks": "",
            "zerolinecolor": "white"
           },
           "zaxis": {
            "backgroundcolor": "#E5ECF6",
            "gridcolor": "white",
            "gridwidth": 2,
            "linecolor": "white",
            "showbackground": true,
            "ticks": "",
            "zerolinecolor": "white"
           }
          },
          "shapedefaults": {
           "line": {
            "color": "#2a3f5f"
           }
          },
          "ternary": {
           "aaxis": {
            "gridcolor": "white",
            "linecolor": "white",
            "ticks": ""
           },
           "baxis": {
            "gridcolor": "white",
            "linecolor": "white",
            "ticks": ""
           },
           "bgcolor": "#E5ECF6",
           "caxis": {
            "gridcolor": "white",
            "linecolor": "white",
            "ticks": ""
           }
          },
          "title": {
           "x": 0.05
          },
          "xaxis": {
           "automargin": true,
           "gridcolor": "white",
           "linecolor": "white",
           "ticks": "",
           "title": {
            "standoff": 15
           },
           "zerolinecolor": "white",
           "zerolinewidth": 2
          },
          "yaxis": {
           "automargin": true,
           "gridcolor": "white",
           "linecolor": "white",
           "ticks": "",
           "title": {
            "standoff": 15
           },
           "zerolinecolor": "white",
           "zerolinewidth": 2
          }
         }
        },
        "title": {
         "text": "Field Goal Success Rate by Stadium",
         "x": 0.5
        },
        "xaxis": {
         "anchor": "y",
         "domain": [
          0,
          1
         ],
         "range": [
          77,
          92
         ],
         "title": {
          "text": "avg_predicted_successful_fg"
         }
        },
        "yaxis": {
         "anchor": "x",
         "domain": [
          0,
          1
         ],
         "range": [
          77,
          92
         ],
         "title": {
          "text": "avg_successful_fg"
         }
        }
       }
      },
      "text/html": [
       "<div>                            <div id=\"14470d8d-25a4-421b-906c-38b72bab2e8e\" class=\"plotly-graph-div\" style=\"height:525px; width:100%;\"></div>            <script type=\"text/javascript\">                require([\"plotly\"], function(Plotly) {                    window.PLOTLYENV=window.PLOTLYENV || {};                                    if (document.getElementById(\"14470d8d-25a4-421b-906c-38b72bab2e8e\")) {                    Plotly.newPlot(                        \"14470d8d-25a4-421b-906c-38b72bab2e8e\",                        [{\"hovertemplate\":\"avg_predicted_successful_fg=%{x}<br>avg_successful_fg=%{y}<br>stadium-name=%{text}<br>total_fg=%{marker.color}<extra></extra>\",\"legendgroup\":\"\",\"marker\":{\"color\":[97,105,142,65,145,100,112,143,117,275,92,125,170,159,64,172,155,100,86,149,134,72,122,98,141,132,150,127,143,111,134],\"coloraxis\":\"coloraxis\",\"symbol\":\"circle\"},\"mode\":\"markers+text\",\"name\":\"\",\"orientation\":\"v\",\"showlegend\":false,\"text\":[\"EverBank Field\",\"Edward Jones Dome\",\"Georgia Dome\",\"TCF Bank Stadium\",\"Bank of America Stadium\",\"NRG Stadium\",\"Lincoln Financial Field\",\"CenturyLink Field\",\"Ford Field\",\"MetLife Stadium\",\"LP Field\",\"AT&T Stadium\",\"Gillette Stadium\",\"Lucas Oil Stadium\",\"FirstEnergy Stadium\",\"Sports Authority Field at Mile High\",\"M&T Bank Stadium\",\"Heinz Field\",\"Levi's Stadium\",\"Paul Brown Stadium\",\"Qualcomm Stadium\",\"Mercedes-Benz Superdome\",\"Ralph Wilson Stadium\",\"Raymond James Stadium\",\"Lambeau Field\",\"FedEx Field\",\"Arrowhead Stadium\",\"Soldier Field\",\"Oakland-Alameda County Coliseum\",\"University of Phoenix Stadium\",\"SunLife Stadium\"],\"x\":[84.68267040001145,82.8939345503822,85.77216680830544,84.21504386728088,85.73451177298288,85.96712408532613,87.21926416028556,88.09039116701095,82.656067938805,87.26753554505716,87.09375653421702,84.59239695244999,86.90818986629786,84.37505794348606,87.15592288004612,84.63781387726002,84.90360252929179,85.72221440060478,86.85164645872308,86.4166903913039,87.34847233694923,86.90652769304683,86.9886669848154,83.21398128939114,86.60177533801783,88.64607558699188,86.43915955372695,86.90103544582361,84.81511029483754,86.25109912428088,85.92007926834253],\"xaxis\":\"x\",\"y\":[88.65979381443299,86.66666666666667,89.43661971830986,87.6923076923077,88.96551724137932,89.0,90.17857142857143,90.9090909090909,85.47008547008546,89.81818181818181,89.13043478260869,86.4,88.23529411764706,84.90566037735849,87.5,84.88372093023256,84.51612903225806,85.0,86.04651162790698,85.23489932885906,85.82089552238806,84.72222222222221,84.42622950819673,80.61224489795919,83.68794326241135,85.60606060606061,82.66666666666667,81.88976377952756,79.72027972027972,81.08108108108108,77.61194029850746],\"yaxis\":\"y\",\"type\":\"scatter\",\"textposition\":\"top center\"}],                        {\"template\":{\"data\":{\"histogram2dcontour\":[{\"type\":\"histogram2dcontour\",\"colorbar\":{\"outlinewidth\":0,\"ticks\":\"\"},\"colorscale\":[[0.0,\"#0d0887\"],[0.1111111111111111,\"#46039f\"],[0.2222222222222222,\"#7201a8\"],[0.3333333333333333,\"#9c179e\"],[0.4444444444444444,\"#bd3786\"],[0.5555555555555556,\"#d8576b\"],[0.6666666666666666,\"#ed7953\"],[0.7777777777777778,\"#fb9f3a\"],[0.8888888888888888,\"#fdca26\"],[1.0,\"#f0f921\"]]}],\"choropleth\":[{\"type\":\"choropleth\",\"colorbar\":{\"outlinewidth\":0,\"ticks\":\"\"}}],\"histogram2d\":[{\"type\":\"histogram2d\",\"colorbar\":{\"outlinewidth\":0,\"ticks\":\"\"},\"colorscale\":[[0.0,\"#0d0887\"],[0.1111111111111111,\"#46039f\"],[0.2222222222222222,\"#7201a8\"],[0.3333333333333333,\"#9c179e\"],[0.4444444444444444,\"#bd3786\"],[0.5555555555555556,\"#d8576b\"],[0.6666666666666666,\"#ed7953\"],[0.7777777777777778,\"#fb9f3a\"],[0.8888888888888888,\"#fdca26\"],[1.0,\"#f0f921\"]]}],\"heatmap\":[{\"type\":\"heatmap\",\"colorbar\":{\"outlinewidth\":0,\"ticks\":\"\"},\"colorscale\":[[0.0,\"#0d0887\"],[0.1111111111111111,\"#46039f\"],[0.2222222222222222,\"#7201a8\"],[0.3333333333333333,\"#9c179e\"],[0.4444444444444444,\"#bd3786\"],[0.5555555555555556,\"#d8576b\"],[0.6666666666666666,\"#ed7953\"],[0.7777777777777778,\"#fb9f3a\"],[0.8888888888888888,\"#fdca26\"],[1.0,\"#f0f921\"]]}],\"heatmapgl\":[{\"type\":\"heatmapgl\",\"colorbar\":{\"outlinewidth\":0,\"ticks\":\"\"},\"colorscale\":[[0.0,\"#0d0887\"],[0.1111111111111111,\"#46039f\"],[0.2222222222222222,\"#7201a8\"],[0.3333333333333333,\"#9c179e\"],[0.4444444444444444,\"#bd3786\"],[0.5555555555555556,\"#d8576b\"],[0.6666666666666666,\"#ed7953\"],[0.7777777777777778,\"#fb9f3a\"],[0.8888888888888888,\"#fdca26\"],[1.0,\"#f0f921\"]]}],\"contourcarpet\":[{\"type\":\"contourcarpet\",\"colorbar\":{\"outlinewidth\":0,\"ticks\":\"\"}}],\"contour\":[{\"type\":\"contour\",\"colorbar\":{\"outlinewidth\":0,\"ticks\":\"\"},\"colorscale\":[[0.0,\"#0d0887\"],[0.1111111111111111,\"#46039f\"],[0.2222222222222222,\"#7201a8\"],[0.3333333333333333,\"#9c179e\"],[0.4444444444444444,\"#bd3786\"],[0.5555555555555556,\"#d8576b\"],[0.6666666666666666,\"#ed7953\"],[0.7777777777777778,\"#fb9f3a\"],[0.8888888888888888,\"#fdca26\"],[1.0,\"#f0f921\"]]}],\"surface\":[{\"type\":\"surface\",\"colorbar\":{\"outlinewidth\":0,\"ticks\":\"\"},\"colorscale\":[[0.0,\"#0d0887\"],[0.1111111111111111,\"#46039f\"],[0.2222222222222222,\"#7201a8\"],[0.3333333333333333,\"#9c179e\"],[0.4444444444444444,\"#bd3786\"],[0.5555555555555556,\"#d8576b\"],[0.6666666666666666,\"#ed7953\"],[0.7777777777777778,\"#fb9f3a\"],[0.8888888888888888,\"#fdca26\"],[1.0,\"#f0f921\"]]}],\"mesh3d\":[{\"type\":\"mesh3d\",\"colorbar\":{\"outlinewidth\":0,\"ticks\":\"\"}}],\"scatter\":[{\"fillpattern\":{\"fillmode\":\"overlay\",\"size\":10,\"solidity\":0.2},\"type\":\"scatter\"}],\"parcoords\":[{\"type\":\"parcoords\",\"line\":{\"colorbar\":{\"outlinewidth\":0,\"ticks\":\"\"}}}],\"scatterpolargl\":[{\"type\":\"scatterpolargl\",\"marker\":{\"colorbar\":{\"outlinewidth\":0,\"ticks\":\"\"}}}],\"bar\":[{\"error_x\":{\"color\":\"#2a3f5f\"},\"error_y\":{\"color\":\"#2a3f5f\"},\"marker\":{\"line\":{\"color\":\"#E5ECF6\",\"width\":0.5},\"pattern\":{\"fillmode\":\"overlay\",\"size\":10,\"solidity\":0.2}},\"type\":\"bar\"}],\"scattergeo\":[{\"type\":\"scattergeo\",\"marker\":{\"colorbar\":{\"outlinewidth\":0,\"ticks\":\"\"}}}],\"scatterpolar\":[{\"type\":\"scatterpolar\",\"marker\":{\"colorbar\":{\"outlinewidth\":0,\"ticks\":\"\"}}}],\"histogram\":[{\"marker\":{\"pattern\":{\"fillmode\":\"overlay\",\"size\":10,\"solidity\":0.2}},\"type\":\"histogram\"}],\"scattergl\":[{\"type\":\"scattergl\",\"marker\":{\"colorbar\":{\"outlinewidth\":0,\"ticks\":\"\"}}}],\"scatter3d\":[{\"type\":\"scatter3d\",\"line\":{\"colorbar\":{\"outlinewidth\":0,\"ticks\":\"\"}},\"marker\":{\"colorbar\":{\"outlinewidth\":0,\"ticks\":\"\"}}}],\"scattermapbox\":[{\"type\":\"scattermapbox\",\"marker\":{\"colorbar\":{\"outlinewidth\":0,\"ticks\":\"\"}}}],\"scatterternary\":[{\"type\":\"scatterternary\",\"marker\":{\"colorbar\":{\"outlinewidth\":0,\"ticks\":\"\"}}}],\"scattercarpet\":[{\"type\":\"scattercarpet\",\"marker\":{\"colorbar\":{\"outlinewidth\":0,\"ticks\":\"\"}}}],\"carpet\":[{\"aaxis\":{\"endlinecolor\":\"#2a3f5f\",\"gridcolor\":\"white\",\"linecolor\":\"white\",\"minorgridcolor\":\"white\",\"startlinecolor\":\"#2a3f5f\"},\"baxis\":{\"endlinecolor\":\"#2a3f5f\",\"gridcolor\":\"white\",\"linecolor\":\"white\",\"minorgridcolor\":\"white\",\"startlinecolor\":\"#2a3f5f\"},\"type\":\"carpet\"}],\"table\":[{\"cells\":{\"fill\":{\"color\":\"#EBF0F8\"},\"line\":{\"color\":\"white\"}},\"header\":{\"fill\":{\"color\":\"#C8D4E3\"},\"line\":{\"color\":\"white\"}},\"type\":\"table\"}],\"barpolar\":[{\"marker\":{\"line\":{\"color\":\"#E5ECF6\",\"width\":0.5},\"pattern\":{\"fillmode\":\"overlay\",\"size\":10,\"solidity\":0.2}},\"type\":\"barpolar\"}],\"pie\":[{\"automargin\":true,\"type\":\"pie\"}]},\"layout\":{\"autotypenumbers\":\"strict\",\"colorway\":[\"#636efa\",\"#EF553B\",\"#00cc96\",\"#ab63fa\",\"#FFA15A\",\"#19d3f3\",\"#FF6692\",\"#B6E880\",\"#FF97FF\",\"#FECB52\"],\"font\":{\"color\":\"#2a3f5f\"},\"hovermode\":\"closest\",\"hoverlabel\":{\"align\":\"left\"},\"paper_bgcolor\":\"white\",\"plot_bgcolor\":\"#E5ECF6\",\"polar\":{\"bgcolor\":\"#E5ECF6\",\"angularaxis\":{\"gridcolor\":\"white\",\"linecolor\":\"white\",\"ticks\":\"\"},\"radialaxis\":{\"gridcolor\":\"white\",\"linecolor\":\"white\",\"ticks\":\"\"}},\"ternary\":{\"bgcolor\":\"#E5ECF6\",\"aaxis\":{\"gridcolor\":\"white\",\"linecolor\":\"white\",\"ticks\":\"\"},\"baxis\":{\"gridcolor\":\"white\",\"linecolor\":\"white\",\"ticks\":\"\"},\"caxis\":{\"gridcolor\":\"white\",\"linecolor\":\"white\",\"ticks\":\"\"}},\"coloraxis\":{\"colorbar\":{\"outlinewidth\":0,\"ticks\":\"\"}},\"colorscale\":{\"sequential\":[[0.0,\"#0d0887\"],[0.1111111111111111,\"#46039f\"],[0.2222222222222222,\"#7201a8\"],[0.3333333333333333,\"#9c179e\"],[0.4444444444444444,\"#bd3786\"],[0.5555555555555556,\"#d8576b\"],[0.6666666666666666,\"#ed7953\"],[0.7777777777777778,\"#fb9f3a\"],[0.8888888888888888,\"#fdca26\"],[1.0,\"#f0f921\"]],\"sequentialminus\":[[0.0,\"#0d0887\"],[0.1111111111111111,\"#46039f\"],[0.2222222222222222,\"#7201a8\"],[0.3333333333333333,\"#9c179e\"],[0.4444444444444444,\"#bd3786\"],[0.5555555555555556,\"#d8576b\"],[0.6666666666666666,\"#ed7953\"],[0.7777777777777778,\"#fb9f3a\"],[0.8888888888888888,\"#fdca26\"],[1.0,\"#f0f921\"]],\"diverging\":[[0,\"#8e0152\"],[0.1,\"#c51b7d\"],[0.2,\"#de77ae\"],[0.3,\"#f1b6da\"],[0.4,\"#fde0ef\"],[0.5,\"#f7f7f7\"],[0.6,\"#e6f5d0\"],[0.7,\"#b8e186\"],[0.8,\"#7fbc41\"],[0.9,\"#4d9221\"],[1,\"#276419\"]]},\"xaxis\":{\"gridcolor\":\"white\",\"linecolor\":\"white\",\"ticks\":\"\",\"title\":{\"standoff\":15},\"zerolinecolor\":\"white\",\"automargin\":true,\"zerolinewidth\":2},\"yaxis\":{\"gridcolor\":\"white\",\"linecolor\":\"white\",\"ticks\":\"\",\"title\":{\"standoff\":15},\"zerolinecolor\":\"white\",\"automargin\":true,\"zerolinewidth\":2},\"scene\":{\"xaxis\":{\"backgroundcolor\":\"#E5ECF6\",\"gridcolor\":\"white\",\"linecolor\":\"white\",\"showbackground\":true,\"ticks\":\"\",\"zerolinecolor\":\"white\",\"gridwidth\":2},\"yaxis\":{\"backgroundcolor\":\"#E5ECF6\",\"gridcolor\":\"white\",\"linecolor\":\"white\",\"showbackground\":true,\"ticks\":\"\",\"zerolinecolor\":\"white\",\"gridwidth\":2},\"zaxis\":{\"backgroundcolor\":\"#E5ECF6\",\"gridcolor\":\"white\",\"linecolor\":\"white\",\"showbackground\":true,\"ticks\":\"\",\"zerolinecolor\":\"white\",\"gridwidth\":2}},\"shapedefaults\":{\"line\":{\"color\":\"#2a3f5f\"}},\"annotationdefaults\":{\"arrowcolor\":\"#2a3f5f\",\"arrowhead\":0,\"arrowwidth\":1},\"geo\":{\"bgcolor\":\"white\",\"landcolor\":\"#E5ECF6\",\"subunitcolor\":\"white\",\"showland\":true,\"showlakes\":true,\"lakecolor\":\"white\"},\"title\":{\"x\":0.05},\"mapbox\":{\"style\":\"light\"}}},\"xaxis\":{\"anchor\":\"y\",\"domain\":[0.0,1.0],\"title\":{\"text\":\"avg_predicted_successful_fg\"},\"range\":[77,92]},\"yaxis\":{\"anchor\":\"x\",\"domain\":[0.0,1.0],\"title\":{\"text\":\"avg_successful_fg\"},\"range\":[77,92]},\"coloraxis\":{\"colorbar\":{\"title\":{\"text\":\"total_fg\"}},\"colorscale\":[[0.0,\"#0d0887\"],[0.1111111111111111,\"#46039f\"],[0.2222222222222222,\"#7201a8\"],[0.3333333333333333,\"#9c179e\"],[0.4444444444444444,\"#bd3786\"],[0.5555555555555556,\"#d8576b\"],[0.6666666666666666,\"#ed7953\"],[0.7777777777777778,\"#fb9f3a\"],[0.8888888888888888,\"#fdca26\"],[1.0,\"#f0f921\"]]},\"legend\":{\"tracegroupgap\":0},\"margin\":{\"t\":60},\"title\":{\"text\":\"Field Goal Success Rate by Stadium\",\"x\":0.5},\"shapes\":[{\"type\":\"line\",\"x0\":0,\"x1\":100,\"xref\":\"paper\",\"y0\":0,\"y1\":100,\"yref\":\"paper\"}]},                        {\"responsive\": true}                    ).then(function(){\n",
       "                            \n",
       "var gd = document.getElementById('14470d8d-25a4-421b-906c-38b72bab2e8e');\n",
       "var x = new MutationObserver(function (mutations, observer) {{\n",
       "        var display = window.getComputedStyle(gd).display;\n",
       "        if (!display || display === 'none') {{\n",
       "            console.log([gd, 'removed!']);\n",
       "            Plotly.purge(gd);\n",
       "            observer.disconnect();\n",
       "        }}\n",
       "}});\n",
       "\n",
       "// Listen for the removal of the full notebook cells\n",
       "var notebookContainer = gd.closest('#notebook-container');\n",
       "if (notebookContainer) {{\n",
       "    x.observe(notebookContainer, {childList: true});\n",
       "}}\n",
       "\n",
       "// Listen for the clearing of the current output cell\n",
       "var outputEl = gd.closest('.output');\n",
       "if (outputEl) {{\n",
       "    x.observe(outputEl, {childList: true});\n",
       "}}\n",
       "\n",
       "                        })                };                });            </script>        </div>"
      ]
     },
     "metadata": {},
     "output_type": "display_data"
    }
   ],
   "source": [
    "#--- visualise the field goal success rate by stadium (with 45 degree reference line)\n",
    "\n",
    "fig = px.scatter(\n",
    "    stadium_fg_success, \n",
    "    x=\"avg_predicted_successful_fg\", y=\"avg_successful_fg\", text=\"stadium-name\", \n",
    "    log_x=False, size_max=100, color=\"total_fg\")\n",
    "fig.update_traces(textposition='top center')\n",
    "fig.update_layout(title_text='Field Goal Success Rate by Stadium', title_x=0.5,\n",
    "                 shapes = [{'type': 'line', 'yref': 'paper', 'xref': 'paper', 'y0': 0, 'y1': 100, 'x0': 0, 'x1': 100}],\n",
    "                 yaxis_range=[77,92],\n",
    "                 xaxis_range=[77,92])\n",
    "fig.show()"
   ]
  },
  {
   "cell_type": "code",
   "execution_count": 580,
   "id": "0717b34b",
   "metadata": {},
   "outputs": [
    {
     "data": {
      "text/html": [
       "<div>\n",
       "<style scoped>\n",
       "    .dataframe tbody tr th:only-of-type {\n",
       "        vertical-align: middle;\n",
       "    }\n",
       "\n",
       "    .dataframe tbody tr th {\n",
       "        vertical-align: top;\n",
       "    }\n",
       "\n",
       "    .dataframe thead th {\n",
       "        text-align: right;\n",
       "    }\n",
       "</style>\n",
       "<table border=\"1\" class=\"dataframe\">\n",
       "  <thead>\n",
       "    <tr style=\"text-align: right;\">\n",
       "      <th></th>\n",
       "      <th>surface</th>\n",
       "      <th>total_fg</th>\n",
       "      <th>avg_predicted_successful_fg</th>\n",
       "      <th>avg_successful_fg</th>\n",
       "      <th>avg_vs_prediction_fg</th>\n",
       "    </tr>\n",
       "  </thead>\n",
       "  <tbody>\n",
       "    <tr>\n",
       "      <th>2</th>\n",
       "      <td>AstroTurf</td>\n",
       "      <td>506</td>\n",
       "      <td>84.64</td>\n",
       "      <td>88.14</td>\n",
       "      <td>3.50</td>\n",
       "    </tr>\n",
       "    <tr>\n",
       "      <th>4</th>\n",
       "      <td>FieldTurf</td>\n",
       "      <td>712</td>\n",
       "      <td>85.90</td>\n",
       "      <td>87.64</td>\n",
       "      <td>1.74</td>\n",
       "    </tr>\n",
       "    <tr>\n",
       "      <th>7</th>\n",
       "      <td>UBU Speed Series S5M</td>\n",
       "      <td>445</td>\n",
       "      <td>86.70</td>\n",
       "      <td>87.42</td>\n",
       "      <td>0.72</td>\n",
       "    </tr>\n",
       "    <tr>\n",
       "      <th>5</th>\n",
       "      <td>Grass</td>\n",
       "      <td>2087</td>\n",
       "      <td>85.97</td>\n",
       "      <td>84.76</td>\n",
       "      <td>-1.21</td>\n",
       "    </tr>\n",
       "    <tr>\n",
       "      <th>6</th>\n",
       "      <td>MomentumTurf</td>\n",
       "      <td>130</td>\n",
       "      <td>85.53</td>\n",
       "      <td>83.08</td>\n",
       "      <td>-2.46</td>\n",
       "    </tr>\n",
       "    <tr>\n",
       "      <th>0</th>\n",
       "      <td>A Turf Titan</td>\n",
       "      <td>122</td>\n",
       "      <td>86.99</td>\n",
       "      <td>84.43</td>\n",
       "      <td>-2.56</td>\n",
       "    </tr>\n",
       "    <tr>\n",
       "      <th>3</th>\n",
       "      <td>DD GrassMaster</td>\n",
       "      <td>178</td>\n",
       "      <td>86.60</td>\n",
       "      <td>83.15</td>\n",
       "      <td>-3.45</td>\n",
       "    </tr>\n",
       "  </tbody>\n",
       "</table>\n",
       "</div>"
      ],
      "text/plain": [
       "                surface  total_fg  avg_predicted_successful_fg  \\\n",
       "2             AstroTurf       506                        84.64   \n",
       "4             FieldTurf       712                        85.90   \n",
       "7  UBU Speed Series S5M       445                        86.70   \n",
       "5                 Grass      2087                        85.97   \n",
       "6          MomentumTurf       130                        85.53   \n",
       "0          A Turf Titan       122                        86.99   \n",
       "3        DD GrassMaster       178                        86.60   \n",
       "\n",
       "   avg_successful_fg  avg_vs_prediction_fg  \n",
       "2              88.14                  3.50  \n",
       "4              87.64                  1.74  \n",
       "7              87.42                  0.72  \n",
       "5              84.76                 -1.21  \n",
       "6              83.08                 -2.46  \n",
       "0              84.43                 -2.56  \n",
       "3              83.15                 -3.45  "
      ]
     },
     "execution_count": 580,
     "metadata": {},
     "output_type": "execute_result"
    }
   ],
   "source": [
    "#--- aggregate the data to calculate each field surfaces's expected field goal % vs. actual % for all seasons\n",
    "\n",
    "surface_fg_success = (\n",
    "    fg_predict_df.groupby(['surface'], as_index=False)\n",
    "    .agg(\n",
    "        # Get the number of field goal attempts\n",
    "        total_fg = pd.NamedAgg(column = 'make-vs-prediction', aggfunc = 'count'),\n",
    "        # Get the predicted number of successful attempts\n",
    "        avg_predicted_successful_fg = pd.NamedAgg(column = 'make-prediction', aggfunc = mean_perc),\n",
    "        # Get the actual number of successful kicks\n",
    "        avg_successful_fg = pd.NamedAgg(column = 'make', aggfunc = mean_perc),\n",
    "        # Get the difference between actual and predicted success\n",
    "        avg_vs_prediction_fg = pd.NamedAgg(column = 'make-vs-prediction', aggfunc = mean_perc))\n",
    "    .sort_values('avg_vs_prediction_fg', ascending=False)\n",
    "    .query(\"`total_fg` >= 100\")) # remove field surfaces that have a low sample-size of field goal attempts (< 100)\n",
    "\n",
    "surface_fg_success"
   ]
  },
  {
   "cell_type": "markdown",
   "id": "ce3e93eb",
   "metadata": {},
   "source": [
    "#### 'AstroTurf' has been the easiest surface to kick field goals, with a relative success rate of +3.5%. \n",
    "This means that 3.5% more field goals have been kicked than expected (given the distance of each kick)."
   ]
  },
  {
   "cell_type": "markdown",
   "id": "ae383b39",
   "metadata": {},
   "source": [
    "#### 'DD GrassMaster' has been the toughest surface to kick field goals, with a relative success rate of -3.45%. \n",
    "This means that 3.45% less field goals have been kicked than expected (given the distance of each kick)."
   ]
  },
  {
   "cell_type": "code",
   "execution_count": 582,
   "id": "b5983d48",
   "metadata": {},
   "outputs": [
    {
     "data": {
      "text/html": [
       "<div>\n",
       "<style scoped>\n",
       "    .dataframe tbody tr th:only-of-type {\n",
       "        vertical-align: middle;\n",
       "    }\n",
       "\n",
       "    .dataframe tbody tr th {\n",
       "        vertical-align: top;\n",
       "    }\n",
       "\n",
       "    .dataframe thead th {\n",
       "        text-align: right;\n",
       "    }\n",
       "</style>\n",
       "<table border=\"1\" class=\"dataframe\">\n",
       "  <thead>\n",
       "    <tr style=\"text-align: right;\">\n",
       "      <th></th>\n",
       "      <th>away</th>\n",
       "      <th>total_fg</th>\n",
       "      <th>avg_predicted_successful_fg</th>\n",
       "      <th>avg_successful_fg</th>\n",
       "      <th>avg_vs_prediction_fg</th>\n",
       "    </tr>\n",
       "  </thead>\n",
       "  <tbody>\n",
       "    <tr>\n",
       "      <th>0</th>\n",
       "      <td>0</td>\n",
       "      <td>2125</td>\n",
       "      <td>86.17</td>\n",
       "      <td>86.40</td>\n",
       "      <td>0.23</td>\n",
       "    </tr>\n",
       "    <tr>\n",
       "      <th>1</th>\n",
       "      <td>1</td>\n",
       "      <td>2058</td>\n",
       "      <td>85.68</td>\n",
       "      <td>85.23</td>\n",
       "      <td>-0.45</td>\n",
       "    </tr>\n",
       "  </tbody>\n",
       "</table>\n",
       "</div>"
      ],
      "text/plain": [
       "   away  total_fg  avg_predicted_successful_fg  avg_successful_fg  \\\n",
       "0     0      2125                        86.17              86.40   \n",
       "1     1      2058                        85.68              85.23   \n",
       "\n",
       "   avg_vs_prediction_fg  \n",
       "0                  0.23  \n",
       "1                 -0.45  "
      ]
     },
     "execution_count": 582,
     "metadata": {},
     "output_type": "execute_result"
    }
   ],
   "source": [
    "#--- aggregate the data to calculate the expected field goal % vs. actual % for the home-team and away-team\n",
    "\n",
    "home_advantage_fg_success = (\n",
    "    fg_predict_df.groupby(['away'], as_index=False)\n",
    "    .agg(\n",
    "        # Get the number of field goal attempts\n",
    "        total_fg = pd.NamedAgg(column = 'make-vs-prediction', aggfunc = 'count'),\n",
    "        # Get the predicted number of successful attempts\n",
    "        avg_predicted_successful_fg = pd.NamedAgg(column = 'make-prediction', aggfunc = mean_perc),\n",
    "        # Get the actual number of successful kicks\n",
    "        avg_successful_fg = pd.NamedAgg(column = 'make', aggfunc = mean_perc),\n",
    "        # Get the difference between actual and predicted success\n",
    "        avg_vs_prediction_fg = pd.NamedAgg(column = 'make-vs-prediction', aggfunc = mean_perc))\n",
    "    .sort_values('avg_vs_prediction_fg', ascending=False))\n",
    "\n",
    "home_advantage_fg_success"
   ]
  },
  {
   "cell_type": "markdown",
   "id": "7b18d716",
   "metadata": {},
   "source": [
    "#### The advantage of kicking a field goal in front of a home crowd is fairly minimal but does exist, with home-team kicks being 0.68% more successful than away-team kicks"
   ]
  },
  {
   "cell_type": "code",
   "execution_count": null,
   "id": "a8e6c40f",
   "metadata": {},
   "outputs": [],
   "source": []
  }
 ],
 "metadata": {
  "kernelspec": {
   "display_name": "Python 3 (ipykernel)",
   "language": "python",
   "name": "python3"
  },
  "language_info": {
   "codemirror_mode": {
    "name": "ipython",
    "version": 3
   },
   "file_extension": ".py",
   "mimetype": "text/x-python",
   "name": "python",
   "nbconvert_exporter": "python",
   "pygments_lexer": "ipython3",
   "version": "3.9.13"
  }
 },
 "nbformat": 4,
 "nbformat_minor": 5
}
