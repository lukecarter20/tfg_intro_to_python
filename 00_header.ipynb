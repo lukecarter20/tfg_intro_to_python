{
 "cells": [
  {
   "cell_type": "markdown",
   "id": "31ec1d55",
   "metadata": {},
   "source": [
    "# tfg_intro_to_python\n",
    "\n",
    "#### A number of educational notebooks that are designed to help python beginners familiarize themselves with ways of working using python"
   ]
  },
  {
   "cell_type": "markdown",
   "id": "6efb62f6",
   "metadata": {},
   "source": [
    "## 1. Contents List\n",
    "\n",
    "### 1.1 How-to notebooks\n",
    "[1. Reading in files using pandas (.csv, .xls, .json)](01_read_and_write_files.ipynb)  \n",
    "[2. Creating dataframes using pandas](02_creating_df.ipynb)  \n",
    "[3. Manipulating pandas dataframes](03_manipulating_data.ipynb)  \n",
    "[4. Modelling data using *logistic* regression](04_logistic_regression.ipynb)  \n",
    "[5. Modelling data using *linear* regression](05_linear_regression.ipynb)  \n",
    "\n",
    "### 1.2 Tutorial notebooks\n",
    "[1. Applying a *logistic* regression to NFL field goal data](101_nfl_fg_logistic.ipynb)  \n",
    "[2. Applying a *linear* regression to NFL field goal data](102_nfl_fg_linear.ipynb)"
   ]
  },
  {
   "cell_type": "markdown",
   "id": "42a4ee7e",
   "metadata": {},
   "source": [
    "## 2. Prerequisites\n",
    "\n",
    "#### In order to run the notebooks within this repository you will need to install the following modules...  \n",
    "[pandas](https://pandas.pydata.org/) - library for data manipulation  \n",
    "[numpy](https://numpy.org/) - module for scientific computing with Python  \n",
    "[datetime](https://docs.python.org/3/library/datetime.html) - module for manipulating dates and times  \n",
    "[seaborn](https://seaborn.pydata.org/) - a Python data visualization library based on matplotlib  \n",
    "[xlrd](https://pypi.org/project/xlrd/) - library to extract data from Microsoft Excel spreadsheet files  \n",
    "[openpyxl](https://openpyxl.readthedocs.io/en/stable/) - A Python library to read/write Excel 2010 xlsx/xlsm files  \n",
    "[plotly](https://plotly.com/python/getting-started/) - A Python library for interactive, open-source plotting  \n",
    "[statistics](https://docs.python.org/3/library/statistics.html) - A module providing functions for calculating mathematical statistics of numeric (Real-valued) data"
   ]
  },
  {
   "cell_type": "markdown",
   "id": "ae3238d1",
   "metadata": {},
   "source": [
    "#### Install the modules using pip with the following structure...  \n",
    "$ pip install *module-name* (example for required modules shown below)"
   ]
  },
  {
   "cell_type": "code",
   "execution_count": 2,
   "id": "a2d190c1",
   "metadata": {},
   "outputs": [
    {
     "name": "stdout",
     "output_type": "stream",
     "text": [
      "Requirement already satisfied: pandas in /Library/Frameworks/Python.framework/Versions/3.9/lib/python3.9/site-packages (1.4.2)\n",
      "Requirement already satisfied: numpy in /Library/Frameworks/Python.framework/Versions/3.9/lib/python3.9/site-packages (1.22.4)\n",
      "Requirement already satisfied: datetime in /Library/Frameworks/Python.framework/Versions/3.9/lib/python3.9/site-packages (4.7)\n",
      "Requirement already satisfied: seaborn in /Library/Frameworks/Python.framework/Versions/3.9/lib/python3.9/site-packages (0.11.2)\n",
      "Requirement already satisfied: xlrd in /Library/Frameworks/Python.framework/Versions/3.9/lib/python3.9/site-packages (2.0.1)\n",
      "Requirement already satisfied: openpyxl in /Library/Frameworks/Python.framework/Versions/3.9/lib/python3.9/site-packages (3.0.10)\n",
      "Requirement already satisfied: plotly in /Library/Frameworks/Python.framework/Versions/3.9/lib/python3.9/site-packages (5.10.0)\n",
      "Requirement already satisfied: statistics in /Library/Frameworks/Python.framework/Versions/3.9/lib/python3.9/site-packages (1.0.3.5)\n",
      "Requirement already satisfied: python-dateutil>=2.8.1 in /Library/Frameworks/Python.framework/Versions/3.9/lib/python3.9/site-packages (from pandas) (2.8.2)\n",
      "Requirement already satisfied: pytz>=2020.1 in /Library/Frameworks/Python.framework/Versions/3.9/lib/python3.9/site-packages (from pandas) (2022.1)\n",
      "Requirement already satisfied: zope.interface in /Library/Frameworks/Python.framework/Versions/3.9/lib/python3.9/site-packages (from datetime) (5.4.0)\n",
      "Requirement already satisfied: scipy>=1.0 in /Library/Frameworks/Python.framework/Versions/3.9/lib/python3.9/site-packages (from seaborn) (1.8.1)\n",
      "Requirement already satisfied: matplotlib>=2.2 in /Library/Frameworks/Python.framework/Versions/3.9/lib/python3.9/site-packages (from seaborn) (3.5.2)\n",
      "Requirement already satisfied: et-xmlfile in /Library/Frameworks/Python.framework/Versions/3.9/lib/python3.9/site-packages (from openpyxl) (1.1.0)\n",
      "Requirement already satisfied: tenacity>=6.2.0 in /Library/Frameworks/Python.framework/Versions/3.9/lib/python3.9/site-packages (from plotly) (8.1.0)\n",
      "Requirement already satisfied: docutils>=0.3 in /Library/Frameworks/Python.framework/Versions/3.9/lib/python3.9/site-packages (from statistics) (0.19)\n",
      "Requirement already satisfied: pyparsing>=2.2.1 in /Library/Frameworks/Python.framework/Versions/3.9/lib/python3.9/site-packages (from matplotlib>=2.2->seaborn) (3.0.9)\n",
      "Requirement already satisfied: pillow>=6.2.0 in /Library/Frameworks/Python.framework/Versions/3.9/lib/python3.9/site-packages (from matplotlib>=2.2->seaborn) (9.1.1)\n",
      "Requirement already satisfied: fonttools>=4.22.0 in /Library/Frameworks/Python.framework/Versions/3.9/lib/python3.9/site-packages (from matplotlib>=2.2->seaborn) (4.33.3)\n",
      "Requirement already satisfied: packaging>=20.0 in /Library/Frameworks/Python.framework/Versions/3.9/lib/python3.9/site-packages (from matplotlib>=2.2->seaborn) (21.3)\n",
      "Requirement already satisfied: cycler>=0.10 in /Library/Frameworks/Python.framework/Versions/3.9/lib/python3.9/site-packages (from matplotlib>=2.2->seaborn) (0.11.0)\n",
      "Requirement already satisfied: kiwisolver>=1.0.1 in /Library/Frameworks/Python.framework/Versions/3.9/lib/python3.9/site-packages (from matplotlib>=2.2->seaborn) (1.4.2)\n",
      "Requirement already satisfied: six>=1.5 in /Library/Frameworks/Python.framework/Versions/3.9/lib/python3.9/site-packages (from python-dateutil>=2.8.1->pandas) (1.16.0)\n",
      "Requirement already satisfied: setuptools in /Library/Frameworks/Python.framework/Versions/3.9/lib/python3.9/site-packages (from zope.interface->datetime) (58.1.0)\n",
      "\u001b[33mWARNING: There was an error checking the latest version of pip.\u001b[0m\u001b[33m\n",
      "\u001b[0mNote: you may need to restart the kernel to use updated packages.\n"
     ]
    }
   ],
   "source": [
    "pip install pandas numpy datetime seaborn xlrd openpyxl plotly statistics"
   ]
  },
  {
   "cell_type": "markdown",
   "id": "344fd393",
   "metadata": {},
   "source": [
    "## 3. Resources\n",
    "\n",
    "A list of resources used to create the notebooks within the repository "
   ]
  }
 ],
 "metadata": {
  "kernelspec": {
   "display_name": "Python 3 (ipykernel)",
   "language": "python",
   "name": "python3"
  },
  "language_info": {
   "codemirror_mode": {
    "name": "ipython",
    "version": 3
   },
   "file_extension": ".py",
   "mimetype": "text/x-python",
   "name": "python",
   "nbconvert_exporter": "python",
   "pygments_lexer": "ipython3",
   "version": "3.9.13"
  }
 },
 "nbformat": 4,
 "nbformat_minor": 5
}
